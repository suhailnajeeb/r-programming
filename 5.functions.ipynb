{
 "cells": [
  {
   "cell_type": "markdown",
   "metadata": {},
   "source": [
    "# Functions"
   ]
  },
  {
   "cell_type": "code",
   "execution_count": null,
   "metadata": {},
   "outputs": [],
   "source": [
    "f <- function(arguments){\n",
    "    # do something\n",
    "}"
   ]
  },
  {
   "cell_type": "markdown",
   "metadata": {},
   "source": [
    "R functions automatically return the last expression."
   ]
  },
  {
   "cell_type": "code",
   "execution_count": 1,
   "metadata": {},
   "outputs": [],
   "source": [
    "add2 <- function(x,y){\n",
    "    x + y\n",
    "}"
   ]
  },
  {
   "cell_type": "code",
   "execution_count": 2,
   "metadata": {},
   "outputs": [
    {
     "data": {
      "text/html": [
       "8"
      ],
      "text/latex": [
       "8"
      ],
      "text/markdown": [
       "8"
      ],
      "text/plain": [
       "[1] 8"
      ]
     },
     "metadata": {},
     "output_type": "display_data"
    }
   ],
   "source": [
    "add2(3,5)"
   ]
  },
  {
   "cell_type": "code",
   "execution_count": 7,
   "metadata": {},
   "outputs": [],
   "source": [
    "above10 <- function(x){\n",
    "    use <- x > 10\n",
    "    x[use]\n",
    "}"
   ]
  },
  {
   "cell_type": "code",
   "execution_count": 5,
   "metadata": {},
   "outputs": [],
   "source": [
    "x <- 1:20"
   ]
  },
  {
   "cell_type": "code",
   "execution_count": 8,
   "metadata": {},
   "outputs": [
    {
     "data": {
      "text/html": [
       "<ol class=list-inline>\n",
       "\t<li>11</li>\n",
       "\t<li>12</li>\n",
       "\t<li>13</li>\n",
       "\t<li>14</li>\n",
       "\t<li>15</li>\n",
       "\t<li>16</li>\n",
       "\t<li>17</li>\n",
       "\t<li>18</li>\n",
       "\t<li>19</li>\n",
       "\t<li>20</li>\n",
       "</ol>\n"
      ],
      "text/latex": [
       "\\begin{enumerate*}\n",
       "\\item 11\n",
       "\\item 12\n",
       "\\item 13\n",
       "\\item 14\n",
       "\\item 15\n",
       "\\item 16\n",
       "\\item 17\n",
       "\\item 18\n",
       "\\item 19\n",
       "\\item 20\n",
       "\\end{enumerate*}\n"
      ],
      "text/markdown": [
       "1. 11\n",
       "2. 12\n",
       "3. 13\n",
       "4. 14\n",
       "5. 15\n",
       "6. 16\n",
       "7. 17\n",
       "8. 18\n",
       "9. 19\n",
       "10. 20\n",
       "\n",
       "\n"
      ],
      "text/plain": [
       " [1] 11 12 13 14 15 16 17 18 19 20"
      ]
     },
     "metadata": {},
     "output_type": "display_data"
    }
   ],
   "source": [
    "above10(x)"
   ]
  },
  {
   "cell_type": "code",
   "execution_count": 9,
   "metadata": {},
   "outputs": [],
   "source": [
    "above <- function(x, n){\n",
    "    use <- x > 10\n",
    "    x[use]\n",
    "}"
   ]
  },
  {
   "cell_type": "code",
   "execution_count": 10,
   "metadata": {},
   "outputs": [
    {
     "data": {
      "text/html": [
       "<ol class=list-inline>\n",
       "\t<li>11</li>\n",
       "\t<li>12</li>\n",
       "\t<li>13</li>\n",
       "\t<li>14</li>\n",
       "\t<li>15</li>\n",
       "\t<li>16</li>\n",
       "\t<li>17</li>\n",
       "\t<li>18</li>\n",
       "\t<li>19</li>\n",
       "\t<li>20</li>\n",
       "</ol>\n"
      ],
      "text/latex": [
       "\\begin{enumerate*}\n",
       "\\item 11\n",
       "\\item 12\n",
       "\\item 13\n",
       "\\item 14\n",
       "\\item 15\n",
       "\\item 16\n",
       "\\item 17\n",
       "\\item 18\n",
       "\\item 19\n",
       "\\item 20\n",
       "\\end{enumerate*}\n"
      ],
      "text/markdown": [
       "1. 11\n",
       "2. 12\n",
       "3. 13\n",
       "4. 14\n",
       "5. 15\n",
       "6. 16\n",
       "7. 17\n",
       "8. 18\n",
       "9. 19\n",
       "10. 20\n",
       "\n",
       "\n"
      ],
      "text/plain": [
       " [1] 11 12 13 14 15 16 17 18 19 20"
      ]
     },
     "metadata": {},
     "output_type": "display_data"
    }
   ],
   "source": [
    "above(x, 10)"
   ]
  },
  {
   "cell_type": "markdown",
   "metadata": {},
   "source": [
    "Specifying default value of n to 10"
   ]
  },
  {
   "cell_type": "code",
   "execution_count": 11,
   "metadata": {},
   "outputs": [],
   "source": [
    "above <- function(x, n = 10){\n",
    "    use <- x > 10\n",
    "    x[use]\n",
    "}"
   ]
  },
  {
   "cell_type": "code",
   "execution_count": 12,
   "metadata": {},
   "outputs": [
    {
     "data": {
      "text/html": [
       "<ol class=list-inline>\n",
       "\t<li>11</li>\n",
       "\t<li>12</li>\n",
       "\t<li>13</li>\n",
       "\t<li>14</li>\n",
       "\t<li>15</li>\n",
       "\t<li>16</li>\n",
       "\t<li>17</li>\n",
       "\t<li>18</li>\n",
       "\t<li>19</li>\n",
       "\t<li>20</li>\n",
       "</ol>\n"
      ],
      "text/latex": [
       "\\begin{enumerate*}\n",
       "\\item 11\n",
       "\\item 12\n",
       "\\item 13\n",
       "\\item 14\n",
       "\\item 15\n",
       "\\item 16\n",
       "\\item 17\n",
       "\\item 18\n",
       "\\item 19\n",
       "\\item 20\n",
       "\\end{enumerate*}\n"
      ],
      "text/markdown": [
       "1. 11\n",
       "2. 12\n",
       "3. 13\n",
       "4. 14\n",
       "5. 15\n",
       "6. 16\n",
       "7. 17\n",
       "8. 18\n",
       "9. 19\n",
       "10. 20\n",
       "\n",
       "\n"
      ],
      "text/plain": [
       " [1] 11 12 13 14 15 16 17 18 19 20"
      ]
     },
     "metadata": {},
     "output_type": "display_data"
    }
   ],
   "source": [
    "above(x)"
   ]
  },
  {
   "cell_type": "code",
   "execution_count": 21,
   "metadata": {},
   "outputs": [],
   "source": [
    "columnmean <- function(y){\n",
    "    nc <- ncol(y)\n",
    "    means <- numeric(nc)\n",
    "    for(i in 1:nc){\n",
    "        means[i] <- mean(y[, i])\n",
    "    }\n",
    "    means\n",
    "}"
   ]
  },
  {
   "cell_type": "code",
   "execution_count": 22,
   "metadata": {},
   "outputs": [
    {
     "data": {
      "text/html": [
       "<ol class=list-inline>\n",
       "\t<li>&lt;NA&gt;</li>\n",
       "\t<li>&lt;NA&gt;</li>\n",
       "\t<li>9.95751633986928</li>\n",
       "\t<li>77.8823529411765</li>\n",
       "\t<li>6.99346405228758</li>\n",
       "\t<li>15.8039215686275</li>\n",
       "</ol>\n"
      ],
      "text/latex": [
       "\\begin{enumerate*}\n",
       "\\item <NA>\n",
       "\\item <NA>\n",
       "\\item 9.95751633986928\n",
       "\\item 77.8823529411765\n",
       "\\item 6.99346405228758\n",
       "\\item 15.8039215686275\n",
       "\\end{enumerate*}\n"
      ],
      "text/markdown": [
       "1. &lt;NA&gt;\n",
       "2. &lt;NA&gt;\n",
       "3. 9.95751633986928\n",
       "4. 77.8823529411765\n",
       "5. 6.99346405228758\n",
       "6. 15.8039215686275\n",
       "\n",
       "\n"
      ],
      "text/plain": [
       "[1]        NA        NA  9.957516 77.882353  6.993464 15.803922"
      ]
     },
     "metadata": {},
     "output_type": "display_data"
    }
   ],
   "source": [
    "columnmean(airquality)"
   ]
  },
  {
   "cell_type": "code",
   "execution_count": 18,
   "metadata": {},
   "outputs": [
    {
     "data": {
      "text/html": [
       "<table>\n",
       "<thead><tr><th scope=col>Ozone</th><th scope=col>Solar.R</th><th scope=col>Wind</th><th scope=col>Temp</th><th scope=col>Month</th><th scope=col>Day</th></tr></thead>\n",
       "<tbody>\n",
       "\t<tr><td> 41 </td><td>190 </td><td> 7.4</td><td>67  </td><td>5   </td><td> 1  </td></tr>\n",
       "\t<tr><td> 36 </td><td>118 </td><td> 8.0</td><td>72  </td><td>5   </td><td> 2  </td></tr>\n",
       "\t<tr><td> 12 </td><td>149 </td><td>12.6</td><td>74  </td><td>5   </td><td> 3  </td></tr>\n",
       "\t<tr><td> 18 </td><td>313 </td><td>11.5</td><td>62  </td><td>5   </td><td> 4  </td></tr>\n",
       "\t<tr><td> NA </td><td> NA </td><td>14.3</td><td>56  </td><td>5   </td><td> 5  </td></tr>\n",
       "\t<tr><td> 28 </td><td> NA </td><td>14.9</td><td>66  </td><td>5   </td><td> 6  </td></tr>\n",
       "\t<tr><td> 23 </td><td>299 </td><td> 8.6</td><td>65  </td><td>5   </td><td> 7  </td></tr>\n",
       "\t<tr><td> 19 </td><td> 99 </td><td>13.8</td><td>59  </td><td>5   </td><td> 8  </td></tr>\n",
       "\t<tr><td>  8 </td><td> 19 </td><td>20.1</td><td>61  </td><td>5   </td><td> 9  </td></tr>\n",
       "\t<tr><td> NA </td><td>194 </td><td> 8.6</td><td>69  </td><td>5   </td><td>10  </td></tr>\n",
       "\t<tr><td>  7 </td><td> NA </td><td> 6.9</td><td>74  </td><td>5   </td><td>11  </td></tr>\n",
       "\t<tr><td> 16 </td><td>256 </td><td> 9.7</td><td>69  </td><td>5   </td><td>12  </td></tr>\n",
       "\t<tr><td> 11 </td><td>290 </td><td> 9.2</td><td>66  </td><td>5   </td><td>13  </td></tr>\n",
       "\t<tr><td> 14 </td><td>274 </td><td>10.9</td><td>68  </td><td>5   </td><td>14  </td></tr>\n",
       "\t<tr><td> 18 </td><td> 65 </td><td>13.2</td><td>58  </td><td>5   </td><td>15  </td></tr>\n",
       "\t<tr><td> 14 </td><td>334 </td><td>11.5</td><td>64  </td><td>5   </td><td>16  </td></tr>\n",
       "\t<tr><td> 34 </td><td>307 </td><td>12.0</td><td>66  </td><td>5   </td><td>17  </td></tr>\n",
       "\t<tr><td>  6 </td><td> 78 </td><td>18.4</td><td>57  </td><td>5   </td><td>18  </td></tr>\n",
       "\t<tr><td> 30 </td><td>322 </td><td>11.5</td><td>68  </td><td>5   </td><td>19  </td></tr>\n",
       "\t<tr><td> 11 </td><td> 44 </td><td> 9.7</td><td>62  </td><td>5   </td><td>20  </td></tr>\n",
       "\t<tr><td>  1 </td><td>  8 </td><td> 9.7</td><td>59  </td><td>5   </td><td>21  </td></tr>\n",
       "\t<tr><td> 11 </td><td>320 </td><td>16.6</td><td>73  </td><td>5   </td><td>22  </td></tr>\n",
       "\t<tr><td>  4 </td><td> 25 </td><td> 9.7</td><td>61  </td><td>5   </td><td>23  </td></tr>\n",
       "\t<tr><td> 32 </td><td> 92 </td><td>12.0</td><td>61  </td><td>5   </td><td>24  </td></tr>\n",
       "\t<tr><td> NA </td><td> 66 </td><td>16.6</td><td>57  </td><td>5   </td><td>25  </td></tr>\n",
       "\t<tr><td> NA </td><td>266 </td><td>14.9</td><td>58  </td><td>5   </td><td>26  </td></tr>\n",
       "\t<tr><td> NA </td><td> NA </td><td> 8.0</td><td>57  </td><td>5   </td><td>27  </td></tr>\n",
       "\t<tr><td> 23 </td><td> 13 </td><td>12.0</td><td>67  </td><td>5   </td><td>28  </td></tr>\n",
       "\t<tr><td> 45 </td><td>252 </td><td>14.9</td><td>81  </td><td>5   </td><td>29  </td></tr>\n",
       "\t<tr><td>115 </td><td>223 </td><td> 5.7</td><td>79  </td><td>5   </td><td>30  </td></tr>\n",
       "\t<tr><td>...</td><td>...</td><td>...</td><td>...</td><td>...</td><td>...</td></tr>\n",
       "\t<tr><td>96  </td><td>167 </td><td> 6.9</td><td>91  </td><td>9   </td><td> 1  </td></tr>\n",
       "\t<tr><td>78  </td><td>197 </td><td> 5.1</td><td>92  </td><td>9   </td><td> 2  </td></tr>\n",
       "\t<tr><td>73  </td><td>183 </td><td> 2.8</td><td>93  </td><td>9   </td><td> 3  </td></tr>\n",
       "\t<tr><td>91  </td><td>189 </td><td> 4.6</td><td>93  </td><td>9   </td><td> 4  </td></tr>\n",
       "\t<tr><td>47  </td><td> 95 </td><td> 7.4</td><td>87  </td><td>9   </td><td> 5  </td></tr>\n",
       "\t<tr><td>32  </td><td> 92 </td><td>15.5</td><td>84  </td><td>9   </td><td> 6  </td></tr>\n",
       "\t<tr><td>20  </td><td>252 </td><td>10.9</td><td>80  </td><td>9   </td><td> 7  </td></tr>\n",
       "\t<tr><td>23  </td><td>220 </td><td>10.3</td><td>78  </td><td>9   </td><td> 8  </td></tr>\n",
       "\t<tr><td>21  </td><td>230 </td><td>10.9</td><td>75  </td><td>9   </td><td> 9  </td></tr>\n",
       "\t<tr><td>24  </td><td>259 </td><td> 9.7</td><td>73  </td><td>9   </td><td>10  </td></tr>\n",
       "\t<tr><td>44  </td><td>236 </td><td>14.9</td><td>81  </td><td>9   </td><td>11  </td></tr>\n",
       "\t<tr><td>21  </td><td>259 </td><td>15.5</td><td>76  </td><td>9   </td><td>12  </td></tr>\n",
       "\t<tr><td>28  </td><td>238 </td><td> 6.3</td><td>77  </td><td>9   </td><td>13  </td></tr>\n",
       "\t<tr><td> 9  </td><td> 24 </td><td>10.9</td><td>71  </td><td>9   </td><td>14  </td></tr>\n",
       "\t<tr><td>13  </td><td>112 </td><td>11.5</td><td>71  </td><td>9   </td><td>15  </td></tr>\n",
       "\t<tr><td>46  </td><td>237 </td><td> 6.9</td><td>78  </td><td>9   </td><td>16  </td></tr>\n",
       "\t<tr><td>18  </td><td>224 </td><td>13.8</td><td>67  </td><td>9   </td><td>17  </td></tr>\n",
       "\t<tr><td>13  </td><td> 27 </td><td>10.3</td><td>76  </td><td>9   </td><td>18  </td></tr>\n",
       "\t<tr><td>24  </td><td>238 </td><td>10.3</td><td>68  </td><td>9   </td><td>19  </td></tr>\n",
       "\t<tr><td>16  </td><td>201 </td><td> 8.0</td><td>82  </td><td>9   </td><td>20  </td></tr>\n",
       "\t<tr><td>13  </td><td>238 </td><td>12.6</td><td>64  </td><td>9   </td><td>21  </td></tr>\n",
       "\t<tr><td>23  </td><td> 14 </td><td> 9.2</td><td>71  </td><td>9   </td><td>22  </td></tr>\n",
       "\t<tr><td>36  </td><td>139 </td><td>10.3</td><td>81  </td><td>9   </td><td>23  </td></tr>\n",
       "\t<tr><td> 7  </td><td> 49 </td><td>10.3</td><td>69  </td><td>9   </td><td>24  </td></tr>\n",
       "\t<tr><td>14  </td><td> 20 </td><td>16.6</td><td>63  </td><td>9   </td><td>25  </td></tr>\n",
       "\t<tr><td>30  </td><td>193 </td><td> 6.9</td><td>70  </td><td>9   </td><td>26  </td></tr>\n",
       "\t<tr><td>NA  </td><td>145 </td><td>13.2</td><td>77  </td><td>9   </td><td>27  </td></tr>\n",
       "\t<tr><td>14  </td><td>191 </td><td>14.3</td><td>75  </td><td>9   </td><td>28  </td></tr>\n",
       "\t<tr><td>18  </td><td>131 </td><td> 8.0</td><td>76  </td><td>9   </td><td>29  </td></tr>\n",
       "\t<tr><td>20  </td><td>223 </td><td>11.5</td><td>68  </td><td>9   </td><td>30  </td></tr>\n",
       "</tbody>\n",
       "</table>\n"
      ],
      "text/latex": [
       "\\begin{tabular}{r|llllll}\n",
       " Ozone & Solar.R & Wind & Temp & Month & Day\\\\\n",
       "\\hline\n",
       "\t  41  & 190  &  7.4 & 67   & 5    &  1  \\\\\n",
       "\t  36  & 118  &  8.0 & 72   & 5    &  2  \\\\\n",
       "\t  12  & 149  & 12.6 & 74   & 5    &  3  \\\\\n",
       "\t  18  & 313  & 11.5 & 62   & 5    &  4  \\\\\n",
       "\t  NA  &  NA  & 14.3 & 56   & 5    &  5  \\\\\n",
       "\t  28  &  NA  & 14.9 & 66   & 5    &  6  \\\\\n",
       "\t  23  & 299  &  8.6 & 65   & 5    &  7  \\\\\n",
       "\t  19  &  99  & 13.8 & 59   & 5    &  8  \\\\\n",
       "\t   8  &  19  & 20.1 & 61   & 5    &  9  \\\\\n",
       "\t  NA  & 194  &  8.6 & 69   & 5    & 10  \\\\\n",
       "\t   7  &  NA  &  6.9 & 74   & 5    & 11  \\\\\n",
       "\t  16  & 256  &  9.7 & 69   & 5    & 12  \\\\\n",
       "\t  11  & 290  &  9.2 & 66   & 5    & 13  \\\\\n",
       "\t  14  & 274  & 10.9 & 68   & 5    & 14  \\\\\n",
       "\t  18  &  65  & 13.2 & 58   & 5    & 15  \\\\\n",
       "\t  14  & 334  & 11.5 & 64   & 5    & 16  \\\\\n",
       "\t  34  & 307  & 12.0 & 66   & 5    & 17  \\\\\n",
       "\t   6  &  78  & 18.4 & 57   & 5    & 18  \\\\\n",
       "\t  30  & 322  & 11.5 & 68   & 5    & 19  \\\\\n",
       "\t  11  &  44  &  9.7 & 62   & 5    & 20  \\\\\n",
       "\t   1  &   8  &  9.7 & 59   & 5    & 21  \\\\\n",
       "\t  11  & 320  & 16.6 & 73   & 5    & 22  \\\\\n",
       "\t   4  &  25  &  9.7 & 61   & 5    & 23  \\\\\n",
       "\t  32  &  92  & 12.0 & 61   & 5    & 24  \\\\\n",
       "\t  NA  &  66  & 16.6 & 57   & 5    & 25  \\\\\n",
       "\t  NA  & 266  & 14.9 & 58   & 5    & 26  \\\\\n",
       "\t  NA  &  NA  &  8.0 & 57   & 5    & 27  \\\\\n",
       "\t  23  &  13  & 12.0 & 67   & 5    & 28  \\\\\n",
       "\t  45  & 252  & 14.9 & 81   & 5    & 29  \\\\\n",
       "\t 115  & 223  &  5.7 & 79   & 5    & 30  \\\\\n",
       "\t ... & ... & ... & ... & ... & ...\\\\\n",
       "\t 96   & 167  &  6.9 & 91   & 9    &  1  \\\\\n",
       "\t 78   & 197  &  5.1 & 92   & 9    &  2  \\\\\n",
       "\t 73   & 183  &  2.8 & 93   & 9    &  3  \\\\\n",
       "\t 91   & 189  &  4.6 & 93   & 9    &  4  \\\\\n",
       "\t 47   &  95  &  7.4 & 87   & 9    &  5  \\\\\n",
       "\t 32   &  92  & 15.5 & 84   & 9    &  6  \\\\\n",
       "\t 20   & 252  & 10.9 & 80   & 9    &  7  \\\\\n",
       "\t 23   & 220  & 10.3 & 78   & 9    &  8  \\\\\n",
       "\t 21   & 230  & 10.9 & 75   & 9    &  9  \\\\\n",
       "\t 24   & 259  &  9.7 & 73   & 9    & 10  \\\\\n",
       "\t 44   & 236  & 14.9 & 81   & 9    & 11  \\\\\n",
       "\t 21   & 259  & 15.5 & 76   & 9    & 12  \\\\\n",
       "\t 28   & 238  &  6.3 & 77   & 9    & 13  \\\\\n",
       "\t  9   &  24  & 10.9 & 71   & 9    & 14  \\\\\n",
       "\t 13   & 112  & 11.5 & 71   & 9    & 15  \\\\\n",
       "\t 46   & 237  &  6.9 & 78   & 9    & 16  \\\\\n",
       "\t 18   & 224  & 13.8 & 67   & 9    & 17  \\\\\n",
       "\t 13   &  27  & 10.3 & 76   & 9    & 18  \\\\\n",
       "\t 24   & 238  & 10.3 & 68   & 9    & 19  \\\\\n",
       "\t 16   & 201  &  8.0 & 82   & 9    & 20  \\\\\n",
       "\t 13   & 238  & 12.6 & 64   & 9    & 21  \\\\\n",
       "\t 23   &  14  &  9.2 & 71   & 9    & 22  \\\\\n",
       "\t 36   & 139  & 10.3 & 81   & 9    & 23  \\\\\n",
       "\t  7   &  49  & 10.3 & 69   & 9    & 24  \\\\\n",
       "\t 14   &  20  & 16.6 & 63   & 9    & 25  \\\\\n",
       "\t 30   & 193  &  6.9 & 70   & 9    & 26  \\\\\n",
       "\t NA   & 145  & 13.2 & 77   & 9    & 27  \\\\\n",
       "\t 14   & 191  & 14.3 & 75   & 9    & 28  \\\\\n",
       "\t 18   & 131  &  8.0 & 76   & 9    & 29  \\\\\n",
       "\t 20   & 223  & 11.5 & 68   & 9    & 30  \\\\\n",
       "\\end{tabular}\n"
      ],
      "text/markdown": [
       "\n",
       "| Ozone | Solar.R | Wind | Temp | Month | Day |\n",
       "|---|---|---|---|---|---|\n",
       "|  41  | 190  |  7.4 | 67   | 5    |  1   |\n",
       "|  36  | 118  |  8.0 | 72   | 5    |  2   |\n",
       "|  12  | 149  | 12.6 | 74   | 5    |  3   |\n",
       "|  18  | 313  | 11.5 | 62   | 5    |  4   |\n",
       "|  NA  |  NA  | 14.3 | 56   | 5    |  5   |\n",
       "|  28  |  NA  | 14.9 | 66   | 5    |  6   |\n",
       "|  23  | 299  |  8.6 | 65   | 5    |  7   |\n",
       "|  19  |  99  | 13.8 | 59   | 5    |  8   |\n",
       "|   8  |  19  | 20.1 | 61   | 5    |  9   |\n",
       "|  NA  | 194  |  8.6 | 69   | 5    | 10   |\n",
       "|   7  |  NA  |  6.9 | 74   | 5    | 11   |\n",
       "|  16  | 256  |  9.7 | 69   | 5    | 12   |\n",
       "|  11  | 290  |  9.2 | 66   | 5    | 13   |\n",
       "|  14  | 274  | 10.9 | 68   | 5    | 14   |\n",
       "|  18  |  65  | 13.2 | 58   | 5    | 15   |\n",
       "|  14  | 334  | 11.5 | 64   | 5    | 16   |\n",
       "|  34  | 307  | 12.0 | 66   | 5    | 17   |\n",
       "|   6  |  78  | 18.4 | 57   | 5    | 18   |\n",
       "|  30  | 322  | 11.5 | 68   | 5    | 19   |\n",
       "|  11  |  44  |  9.7 | 62   | 5    | 20   |\n",
       "|   1  |   8  |  9.7 | 59   | 5    | 21   |\n",
       "|  11  | 320  | 16.6 | 73   | 5    | 22   |\n",
       "|   4  |  25  |  9.7 | 61   | 5    | 23   |\n",
       "|  32  |  92  | 12.0 | 61   | 5    | 24   |\n",
       "|  NA  |  66  | 16.6 | 57   | 5    | 25   |\n",
       "|  NA  | 266  | 14.9 | 58   | 5    | 26   |\n",
       "|  NA  |  NA  |  8.0 | 57   | 5    | 27   |\n",
       "|  23  |  13  | 12.0 | 67   | 5    | 28   |\n",
       "|  45  | 252  | 14.9 | 81   | 5    | 29   |\n",
       "| 115  | 223  |  5.7 | 79   | 5    | 30   |\n",
       "| ... | ... | ... | ... | ... | ... |\n",
       "| 96   | 167  |  6.9 | 91   | 9    |  1   |\n",
       "| 78   | 197  |  5.1 | 92   | 9    |  2   |\n",
       "| 73   | 183  |  2.8 | 93   | 9    |  3   |\n",
       "| 91   | 189  |  4.6 | 93   | 9    |  4   |\n",
       "| 47   |  95  |  7.4 | 87   | 9    |  5   |\n",
       "| 32   |  92  | 15.5 | 84   | 9    |  6   |\n",
       "| 20   | 252  | 10.9 | 80   | 9    |  7   |\n",
       "| 23   | 220  | 10.3 | 78   | 9    |  8   |\n",
       "| 21   | 230  | 10.9 | 75   | 9    |  9   |\n",
       "| 24   | 259  |  9.7 | 73   | 9    | 10   |\n",
       "| 44   | 236  | 14.9 | 81   | 9    | 11   |\n",
       "| 21   | 259  | 15.5 | 76   | 9    | 12   |\n",
       "| 28   | 238  |  6.3 | 77   | 9    | 13   |\n",
       "|  9   |  24  | 10.9 | 71   | 9    | 14   |\n",
       "| 13   | 112  | 11.5 | 71   | 9    | 15   |\n",
       "| 46   | 237  |  6.9 | 78   | 9    | 16   |\n",
       "| 18   | 224  | 13.8 | 67   | 9    | 17   |\n",
       "| 13   |  27  | 10.3 | 76   | 9    | 18   |\n",
       "| 24   | 238  | 10.3 | 68   | 9    | 19   |\n",
       "| 16   | 201  |  8.0 | 82   | 9    | 20   |\n",
       "| 13   | 238  | 12.6 | 64   | 9    | 21   |\n",
       "| 23   |  14  |  9.2 | 71   | 9    | 22   |\n",
       "| 36   | 139  | 10.3 | 81   | 9    | 23   |\n",
       "|  7   |  49  | 10.3 | 69   | 9    | 24   |\n",
       "| 14   |  20  | 16.6 | 63   | 9    | 25   |\n",
       "| 30   | 193  |  6.9 | 70   | 9    | 26   |\n",
       "| NA   | 145  | 13.2 | 77   | 9    | 27   |\n",
       "| 14   | 191  | 14.3 | 75   | 9    | 28   |\n",
       "| 18   | 131  |  8.0 | 76   | 9    | 29   |\n",
       "| 20   | 223  | 11.5 | 68   | 9    | 30   |\n",
       "\n"
      ],
      "text/plain": [
       "    Ozone Solar.R Wind Temp Month Day\n",
       "1    41   190      7.4 67   5      1 \n",
       "2    36   118      8.0 72   5      2 \n",
       "3    12   149     12.6 74   5      3 \n",
       "4    18   313     11.5 62   5      4 \n",
       "5    NA    NA     14.3 56   5      5 \n",
       "6    28    NA     14.9 66   5      6 \n",
       "7    23   299      8.6 65   5      7 \n",
       "8    19    99     13.8 59   5      8 \n",
       "9     8    19     20.1 61   5      9 \n",
       "10   NA   194      8.6 69   5     10 \n",
       "11    7    NA      6.9 74   5     11 \n",
       "12   16   256      9.7 69   5     12 \n",
       "13   11   290      9.2 66   5     13 \n",
       "14   14   274     10.9 68   5     14 \n",
       "15   18    65     13.2 58   5     15 \n",
       "16   14   334     11.5 64   5     16 \n",
       "17   34   307     12.0 66   5     17 \n",
       "18    6    78     18.4 57   5     18 \n",
       "19   30   322     11.5 68   5     19 \n",
       "20   11    44      9.7 62   5     20 \n",
       "21    1     8      9.7 59   5     21 \n",
       "22   11   320     16.6 73   5     22 \n",
       "23    4    25      9.7 61   5     23 \n",
       "24   32    92     12.0 61   5     24 \n",
       "25   NA    66     16.6 57   5     25 \n",
       "26   NA   266     14.9 58   5     26 \n",
       "27   NA    NA      8.0 57   5     27 \n",
       "28   23    13     12.0 67   5     28 \n",
       "29   45   252     14.9 81   5     29 \n",
       "30  115   223      5.7 79   5     30 \n",
       "... ...   ...     ...  ...  ...   ...\n",
       "124 96    167      6.9 91   9      1 \n",
       "125 78    197      5.1 92   9      2 \n",
       "126 73    183      2.8 93   9      3 \n",
       "127 91    189      4.6 93   9      4 \n",
       "128 47     95      7.4 87   9      5 \n",
       "129 32     92     15.5 84   9      6 \n",
       "130 20    252     10.9 80   9      7 \n",
       "131 23    220     10.3 78   9      8 \n",
       "132 21    230     10.9 75   9      9 \n",
       "133 24    259      9.7 73   9     10 \n",
       "134 44    236     14.9 81   9     11 \n",
       "135 21    259     15.5 76   9     12 \n",
       "136 28    238      6.3 77   9     13 \n",
       "137  9     24     10.9 71   9     14 \n",
       "138 13    112     11.5 71   9     15 \n",
       "139 46    237      6.9 78   9     16 \n",
       "140 18    224     13.8 67   9     17 \n",
       "141 13     27     10.3 76   9     18 \n",
       "142 24    238     10.3 68   9     19 \n",
       "143 16    201      8.0 82   9     20 \n",
       "144 13    238     12.6 64   9     21 \n",
       "145 23     14      9.2 71   9     22 \n",
       "146 36    139     10.3 81   9     23 \n",
       "147  7     49     10.3 69   9     24 \n",
       "148 14     20     16.6 63   9     25 \n",
       "149 30    193      6.9 70   9     26 \n",
       "150 NA    145     13.2 77   9     27 \n",
       "151 14    191     14.3 75   9     28 \n",
       "152 18    131      8.0 76   9     29 \n",
       "153 20    223     11.5 68   9     30 "
      ]
     },
     "metadata": {},
     "output_type": "display_data"
    }
   ],
   "source": [
    "airquality"
   ]
  },
  {
   "cell_type": "code",
   "execution_count": 23,
   "metadata": {},
   "outputs": [],
   "source": [
    "columnmean <- function(y, removeNA = TRUE){\n",
    "    nc <- ncol(y)\n",
    "    means <- numeric(nc)\n",
    "    for(i in 1:nc){\n",
    "        means[i] <- mean(y[,i], na.rm = removeNA)\n",
    "    }\n",
    "    means\n",
    "}"
   ]
  },
  {
   "cell_type": "code",
   "execution_count": 24,
   "metadata": {},
   "outputs": [
    {
     "data": {
      "text/html": [
       "<ol class=list-inline>\n",
       "\t<li>42.1293103448276</li>\n",
       "\t<li>185.931506849315</li>\n",
       "\t<li>9.95751633986928</li>\n",
       "\t<li>77.8823529411765</li>\n",
       "\t<li>6.99346405228758</li>\n",
       "\t<li>15.8039215686275</li>\n",
       "</ol>\n"
      ],
      "text/latex": [
       "\\begin{enumerate*}\n",
       "\\item 42.1293103448276\n",
       "\\item 185.931506849315\n",
       "\\item 9.95751633986928\n",
       "\\item 77.8823529411765\n",
       "\\item 6.99346405228758\n",
       "\\item 15.8039215686275\n",
       "\\end{enumerate*}\n"
      ],
      "text/markdown": [
       "1. 42.1293103448276\n",
       "2. 185.931506849315\n",
       "3. 9.95751633986928\n",
       "4. 77.8823529411765\n",
       "5. 6.99346405228758\n",
       "6. 15.8039215686275\n",
       "\n",
       "\n"
      ],
      "text/plain": [
       "[1]  42.129310 185.931507   9.957516  77.882353   6.993464  15.803922"
      ]
     },
     "metadata": {},
     "output_type": "display_data"
    }
   ],
   "source": [
    "columnmean(airquality)"
   ]
  },
  {
   "cell_type": "markdown",
   "metadata": {},
   "source": [
    "## Function Arguments:\n",
    "\n",
    "*Formal Arguments*: Arguments that are included in the function definition. \n",
    "\n",
    "- ```formals``` function returns a list of all the formal arguments of a function. \n",
    "- arguments can be matched positionally or by name."
   ]
  },
  {
   "cell_type": "markdown",
   "metadata": {},
   "source": [
    "## The \"...\" Argument"
   ]
  },
  {
   "cell_type": "markdown",
   "metadata": {},
   "source": [
    "Used to extend the function. "
   ]
  },
  {
   "cell_type": "code",
   "execution_count": 25,
   "metadata": {},
   "outputs": [],
   "source": [
    "myplot <- function(x, y, type = \"1\", ...){\n",
    "    plot(x, y, type = type, ...)\n",
    "}"
   ]
  },
  {
   "cell_type": "markdown",
   "metadata": {},
   "source": [
    "... passes all the remaining arguments to the plot function"
   ]
  },
  {
   "cell_type": "code",
   "execution_count": 27,
   "metadata": {},
   "outputs": [
    {
     "data": {
      "text/html": [
       "<pre class=language-r><code>function (x, ...) \n",
       "UseMethod(\"mean\")</code></pre>"
      ],
      "text/latex": [
       "\\begin{minted}{r}\n",
       "function (x, ...) \n",
       "UseMethod(\"mean\")\n",
       "\\end{minted}"
      ],
      "text/markdown": [
       "```r\n",
       "function (x, ...) \n",
       "UseMethod(\"mean\")\n",
       "```"
      ],
      "text/plain": [
       "function (x, ...) \n",
       "UseMethod(\"mean\")\n",
       "<bytecode: 0x000000000529f228>\n",
       "<environment: namespace:base>"
      ]
     },
     "metadata": {},
     "output_type": "display_data"
    }
   ],
   "source": [
    "mean"
   ]
  },
  {
   "cell_type": "markdown",
   "metadata": {},
   "source": [
    "^ used in Generic Functions"
   ]
  },
  {
   "cell_type": "markdown",
   "metadata": {},
   "source": [
    "Also used when the number of arguments is unknown."
   ]
  },
  {
   "cell_type": "code",
   "execution_count": 28,
   "metadata": {},
   "outputs": [
    {
     "data": {
      "text/html": [
       "<pre class=language-r><code>function (..., sep = \" \", collapse = NULL) \n",
       "NULL</code></pre>"
      ],
      "text/latex": [
       "\\begin{minted}{r}\n",
       "function (..., sep = \" \", collapse = NULL) \n",
       "NULL\n",
       "\\end{minted}"
      ],
      "text/markdown": [
       "```r\n",
       "function (..., sep = \" \", collapse = NULL) \n",
       "NULL\n",
       "```"
      ],
      "text/plain": [
       "function (..., sep = \" \", collapse = NULL) \n",
       "NULL"
      ]
     },
     "metadata": {},
     "output_type": "display_data"
    }
   ],
   "source": [
    "args(paste)"
   ]
  },
  {
   "cell_type": "code",
   "execution_count": 29,
   "metadata": {},
   "outputs": [
    {
     "data": {
      "text/html": [
       "<pre class=language-r><code>function (..., file = \"\", sep = \" \", fill = FALSE, labels = NULL, \n",
       "<span style=white-space:pre-wrap>    append = FALSE) </span>\n",
       "NULL</code></pre>"
      ],
      "text/latex": [
       "\\begin{minted}{r}\n",
       "function (..., file = \"\", sep = \" \", fill = FALSE, labels = NULL, \n",
       "    append = FALSE) \n",
       "NULL\n",
       "\\end{minted}"
      ],
      "text/markdown": [
       "```r\n",
       "function (..., file = \"\", sep = \" \", fill = FALSE, labels = NULL, \n",
       "    append = FALSE) \n",
       "NULL\n",
       "```"
      ],
      "text/plain": [
       "function (..., file = \"\", sep = \" \", fill = FALSE, labels = NULL, \n",
       "    append = FALSE) \n",
       "NULL"
      ]
     },
     "metadata": {},
     "output_type": "display_data"
    }
   ],
   "source": [
    "args(cat)"
   ]
  },
  {
   "cell_type": "markdown",
   "metadata": {},
   "source": [
    "Partial/positional matching in this sort of function. "
   ]
  },
  {
   "cell_type": "code",
   "execution_count": 30,
   "metadata": {},
   "outputs": [
    {
     "data": {
      "text/html": [
       "'a:b'"
      ],
      "text/latex": [
       "'a:b'"
      ],
      "text/markdown": [
       "'a:b'"
      ],
      "text/plain": [
       "[1] \"a:b\""
      ]
     },
     "metadata": {},
     "output_type": "display_data"
    }
   ],
   "source": [
    "paste(\"a\", \"b\", sep = \":\")"
   ]
  },
  {
   "cell_type": "code",
   "execution_count": 31,
   "metadata": {},
   "outputs": [
    {
     "data": {
      "text/html": [
       "'a b :'"
      ],
      "text/latex": [
       "'a b :'"
      ],
      "text/markdown": [
       "'a b :'"
      ],
      "text/plain": [
       "[1] \"a b :\""
      ]
     },
     "metadata": {},
     "output_type": "display_data"
    }
   ],
   "source": [
    "paste(\"a\", \"b\", \":\")"
   ]
  },
  {
   "cell_type": "markdown",
   "metadata": {},
   "source": [
    "So, any arguments that appear after the ... needs to be specified explicitly."
   ]
  },
  {
   "cell_type": "markdown",
   "metadata": {},
   "source": [
    "# Scoping Rules"
   ]
  },
  {
   "cell_type": "markdown",
   "metadata": {},
   "source": [
    "## A diversion on binding values to Symbol:"
   ]
  },
  {
   "cell_type": "code",
   "execution_count": 33,
   "metadata": {},
   "outputs": [
    {
     "data": {
      "text/html": [
       "<pre class=language-r><code>function (x) \n",
       "{\n",
       "<span style=white-space:pre-wrap>    x * x</span>\n",
       "}</code></pre>"
      ],
      "text/latex": [
       "\\begin{minted}{r}\n",
       "function (x) \n",
       "\\{\n",
       "    x * x\n",
       "\\}\n",
       "\\end{minted}"
      ],
      "text/markdown": [
       "```r\n",
       "function (x) \n",
       "{\n",
       "    x * x\n",
       "}\n",
       "```"
      ],
      "text/plain": [
       "function(x){x*x}"
      ]
     },
     "metadata": {},
     "output_type": "display_data"
    }
   ],
   "source": [
    "lm <- function(x){x*x}\n",
    "lm"
   ]
  },
  {
   "cell_type": "markdown",
   "metadata": {},
   "source": [
    "R searches through a series of environments:\n",
    "\n",
    "- search the global environment first\n",
    "- search the namespaces of each packages"
   ]
  },
  {
   "cell_type": "code",
   "execution_count": 34,
   "metadata": {},
   "outputs": [
    {
     "data": {
      "text/html": [
       "<ol class=list-inline>\n",
       "\t<li>'.GlobalEnv'</li>\n",
       "\t<li>'jupyter:irkernel'</li>\n",
       "\t<li>'package:stats'</li>\n",
       "\t<li>'package:graphics'</li>\n",
       "\t<li>'package:grDevices'</li>\n",
       "\t<li>'package:utils'</li>\n",
       "\t<li>'package:datasets'</li>\n",
       "\t<li>'package:methods'</li>\n",
       "\t<li>'Autoloads'</li>\n",
       "\t<li>'package:base'</li>\n",
       "</ol>\n"
      ],
      "text/latex": [
       "\\begin{enumerate*}\n",
       "\\item '.GlobalEnv'\n",
       "\\item 'jupyter:irkernel'\n",
       "\\item 'package:stats'\n",
       "\\item 'package:graphics'\n",
       "\\item 'package:grDevices'\n",
       "\\item 'package:utils'\n",
       "\\item 'package:datasets'\n",
       "\\item 'package:methods'\n",
       "\\item 'Autoloads'\n",
       "\\item 'package:base'\n",
       "\\end{enumerate*}\n"
      ],
      "text/markdown": [
       "1. '.GlobalEnv'\n",
       "2. 'jupyter:irkernel'\n",
       "3. 'package:stats'\n",
       "4. 'package:graphics'\n",
       "5. 'package:grDevices'\n",
       "6. 'package:utils'\n",
       "7. 'package:datasets'\n",
       "8. 'package:methods'\n",
       "9. 'Autoloads'\n",
       "10. 'package:base'\n",
       "\n",
       "\n"
      ],
      "text/plain": [
       " [1] \".GlobalEnv\"        \"jupyter:irkernel\"  \"package:stats\"    \n",
       " [4] \"package:graphics\"  \"package:grDevices\" \"package:utils\"    \n",
       " [7] \"package:datasets\"  \"package:methods\"   \"Autoloads\"        \n",
       "[10] \"package:base\"     "
      ]
     },
     "metadata": {},
     "output_type": "display_data"
    }
   ],
   "source": [
    "search()"
   ]
  },
  {
   "cell_type": "markdown",
   "metadata": {},
   "source": [
    "## Scoping Rules\n",
    "\n",
    "- R uses Lexical Scoping/Static Scoping"
   ]
  },
  {
   "cell_type": "code",
   "execution_count": null,
   "metadata": {},
   "outputs": [],
   "source": [
    "f <- function(x,y){\n",
    "    x^2 + y/z\n",
    "}"
   ]
  },
  {
   "cell_type": "markdown",
   "metadata": {},
   "source": [
    "The value of z comes from the environment search."
   ]
  },
  {
   "cell_type": "markdown",
   "metadata": {},
   "source": [
    "## Dates and Times in R:"
   ]
  },
  {
   "cell_type": "markdown",
   "metadata": {},
   "source": [
    "- Dates : ```Data``` Class\n",
    "- Times : ```POSIXct``` or the ```POSIXlt``` class"
   ]
  },
  {
   "cell_type": "code",
   "execution_count": 1,
   "metadata": {},
   "outputs": [
    {
     "data": {
      "text/html": [
       "<time datetime=\"1970-01-01\">1970-01-01</time>"
      ],
      "text/latex": [
       "1970-01-01"
      ],
      "text/markdown": [
       "1970-01-01"
      ],
      "text/plain": [
       "[1] \"1970-01-01\""
      ]
     },
     "metadata": {},
     "output_type": "display_data"
    }
   ],
   "source": [
    "x <- as.Date(\"1970-01-01\")\n",
    "x"
   ]
  },
  {
   "cell_type": "code",
   "execution_count": 2,
   "metadata": {},
   "outputs": [
    {
     "data": {
      "text/html": [
       "0"
      ],
      "text/latex": [
       "0"
      ],
      "text/markdown": [
       "0"
      ],
      "text/plain": [
       "[1] 0"
      ]
     },
     "metadata": {},
     "output_type": "display_data"
    }
   ],
   "source": [
    "unclass(0)"
   ]
  },
  {
   "cell_type": "code",
   "execution_count": 3,
   "metadata": {},
   "outputs": [
    {
     "data": {
      "text/html": [
       "<time datetime=\"1970-01-02\">1970-01-02</time>"
      ],
      "text/latex": [
       "1970-01-02"
      ],
      "text/markdown": [
       "1970-01-02"
      ],
      "text/plain": [
       "[1] \"1970-01-02\""
      ]
     },
     "metadata": {},
     "output_type": "display_data"
    }
   ],
   "source": [
    "x <- as.Date(\"1970-01-02\")\n",
    "x"
   ]
  },
  {
   "cell_type": "code",
   "execution_count": 4,
   "metadata": {},
   "outputs": [
    {
     "data": {
      "text/html": [
       "1"
      ],
      "text/latex": [
       "1"
      ],
      "text/markdown": [
       "1"
      ],
      "text/plain": [
       "[1] 1"
      ]
     },
     "metadata": {},
     "output_type": "display_data"
    }
   ],
   "source": [
    "unclass(1)"
   ]
  },
  {
   "cell_type": "markdown",
   "metadata": {},
   "source": [
    "Time is counted from the days passed since 1 January 1970, internally."
   ]
  },
  {
   "cell_type": "markdown",
   "metadata": {},
   "source": [
    "## Times in R:"
   ]
  },
  {
   "cell_type": "markdown",
   "metadata": {},
   "source": [
    "- POSIXct : large integer\n",
    "- POSIXlt : list"
   ]
  },
  {
   "cell_type": "markdown",
   "metadata": {},
   "source": [
    "Number of generic Functions\n",
    "\n",
    "- weekdays\n",
    "- months\n",
    "- quarters"
   ]
  },
  {
   "cell_type": "code",
   "execution_count": 8,
   "metadata": {},
   "outputs": [
    {
     "data": {
      "text/plain": [
       "[1] \"2020-04-19 12:58:50 +06\""
      ]
     },
     "metadata": {},
     "output_type": "display_data"
    }
   ],
   "source": [
    "x <- Sys.time()\n",
    "x"
   ]
  },
  {
   "cell_type": "code",
   "execution_count": 10,
   "metadata": {},
   "outputs": [
    {
     "data": {
      "text/html": [
       "<ol class=list-inline>\n",
       "\t<li>'sec'</li>\n",
       "\t<li>'min'</li>\n",
       "\t<li>'hour'</li>\n",
       "\t<li>'mday'</li>\n",
       "\t<li>'mon'</li>\n",
       "\t<li>'year'</li>\n",
       "\t<li>'wday'</li>\n",
       "\t<li>'yday'</li>\n",
       "\t<li>'isdst'</li>\n",
       "\t<li>'zone'</li>\n",
       "\t<li>'gmtoff'</li>\n",
       "</ol>\n"
      ],
      "text/latex": [
       "\\begin{enumerate*}\n",
       "\\item 'sec'\n",
       "\\item 'min'\n",
       "\\item 'hour'\n",
       "\\item 'mday'\n",
       "\\item 'mon'\n",
       "\\item 'year'\n",
       "\\item 'wday'\n",
       "\\item 'yday'\n",
       "\\item 'isdst'\n",
       "\\item 'zone'\n",
       "\\item 'gmtoff'\n",
       "\\end{enumerate*}\n"
      ],
      "text/markdown": [
       "1. 'sec'\n",
       "2. 'min'\n",
       "3. 'hour'\n",
       "4. 'mday'\n",
       "5. 'mon'\n",
       "6. 'year'\n",
       "7. 'wday'\n",
       "8. 'yday'\n",
       "9. 'isdst'\n",
       "10. 'zone'\n",
       "11. 'gmtoff'\n",
       "\n",
       "\n"
      ],
      "text/plain": [
       " [1] \"sec\"    \"min\"    \"hour\"   \"mday\"   \"mon\"    \"year\"   \"wday\"   \"yday\"  \n",
       " [9] \"isdst\"  \"zone\"   \"gmtoff\""
      ]
     },
     "metadata": {},
     "output_type": "display_data"
    }
   ],
   "source": [
    "p <- as.POSIXlt(x)\n",
    "names(unclass(p))"
   ]
  },
  {
   "cell_type": "code",
   "execution_count": 11,
   "metadata": {},
   "outputs": [
    {
     "data": {
      "text/html": [
       "50.451798915863"
      ],
      "text/latex": [
       "50.451798915863"
      ],
      "text/markdown": [
       "50.451798915863"
      ],
      "text/plain": [
       "[1] 50.4518"
      ]
     },
     "metadata": {},
     "output_type": "display_data"
    }
   ],
   "source": [
    "p$sec"
   ]
  },
  {
   "cell_type": "code",
   "execution_count": 14,
   "metadata": {},
   "outputs": [
    {
     "data": {
      "text/plain": [
       "[1] \"2020-04-19 12:58:50 +06\""
      ]
     },
     "metadata": {},
     "output_type": "display_data"
    }
   ],
   "source": [
    "x     # This is already in POSICct format"
   ]
  },
  {
   "cell_type": "code",
   "execution_count": 15,
   "metadata": {},
   "outputs": [
    {
     "data": {
      "text/html": [
       "1587279530.4518"
      ],
      "text/latex": [
       "1587279530.4518"
      ],
      "text/markdown": [
       "1587279530.4518"
      ],
      "text/plain": [
       "[1] 1587279530"
      ]
     },
     "metadata": {},
     "output_type": "display_data"
    }
   ],
   "source": [
    "unclass(x)"
   ]
  },
  {
   "cell_type": "code",
   "execution_count": 16,
   "metadata": {},
   "outputs": [
    {
     "data": {
      "text/html": [
       "<ol class=list-inline>\n",
       "\t<li>'POSIXct'</li>\n",
       "\t<li>'POSIXt'</li>\n",
       "</ol>\n"
      ],
      "text/latex": [
       "\\begin{enumerate*}\n",
       "\\item 'POSIXct'\n",
       "\\item 'POSIXt'\n",
       "\\end{enumerate*}\n"
      ],
      "text/markdown": [
       "1. 'POSIXct'\n",
       "2. 'POSIXt'\n",
       "\n",
       "\n"
      ],
      "text/plain": [
       "[1] \"POSIXct\" \"POSIXt\" "
      ]
     },
     "metadata": {},
     "output_type": "display_data"
    }
   ],
   "source": [
    "class(x)"
   ]
  },
  {
   "cell_type": "code",
   "execution_count": 17,
   "metadata": {},
   "outputs": [
    {
     "data": {
      "text/html": [
       "<ol class=list-inline>\n",
       "\t<li>'POSIXlt'</li>\n",
       "\t<li>'POSIXt'</li>\n",
       "</ol>\n"
      ],
      "text/latex": [
       "\\begin{enumerate*}\n",
       "\\item 'POSIXlt'\n",
       "\\item 'POSIXt'\n",
       "\\end{enumerate*}\n"
      ],
      "text/markdown": [
       "1. 'POSIXlt'\n",
       "2. 'POSIXt'\n",
       "\n",
       "\n"
      ],
      "text/plain": [
       "[1] \"POSIXlt\" \"POSIXt\" "
      ]
     },
     "metadata": {},
     "output_type": "display_data"
    }
   ],
   "source": [
    "class(p)"
   ]
  },
  {
   "cell_type": "markdown",
   "metadata": {},
   "source": [
    "Striptime:"
   ]
  },
  {
   "cell_type": "code",
   "execution_count": 27,
   "metadata": {},
   "outputs": [
    {
     "data": {
      "text/plain": [
       "[1] \"2012-01-10 10:40:00 +06\""
      ]
     },
     "metadata": {},
     "output_type": "display_data"
    }
   ],
   "source": [
    "datestring <- \"January 10, 2012 10:40\"\n",
    "x <- strptime(datestring, \"%B %d, %Y %H:%M\")\n",
    "x"
   ]
  },
  {
   "cell_type": "code",
   "execution_count": 36,
   "metadata": {},
   "outputs": [
    {
     "data": {
      "text/plain": [
       "[1] \"2012-01-12 10:40:00 +06\""
      ]
     },
     "metadata": {},
     "output_type": "display_data"
    }
   ],
   "source": [
    "datestring <- \"January 12, 2012 10:40\"\n",
    "y <- strptime(datestring, \"%B %d, %Y %H:%M\")\n",
    "y"
   ]
  },
  {
   "cell_type": "code",
   "execution_count": 29,
   "metadata": {},
   "outputs": [
    {
     "data": {
      "text/plain": [
       "Time difference of 2 days"
      ]
     },
     "metadata": {},
     "output_type": "display_data"
    }
   ],
   "source": [
    "y-x"
   ]
  },
  {
   "cell_type": "code",
   "execution_count": 37,
   "metadata": {},
   "outputs": [],
   "source": [
    "z <- as.Date(\"2012-01-01\")\n"
   ]
  },
  {
   "cell_type": "code",
   "execution_count": 38,
   "metadata": {},
   "outputs": [
    {
     "name": "stderr",
     "output_type": "stream",
     "text": [
      "Warning message in eval(expr, envir, enclos):\n",
      "\"Incompatible methods (\"-.POSIXt\", \"-.Date\") for \"-\"\""
     ]
    },
    {
     "ename": "ERROR",
     "evalue": "Error in y - z: non-numeric argument to binary operator\n",
     "output_type": "error",
     "traceback": [
      "Error in y - z: non-numeric argument to binary operator\nTraceback:\n"
     ]
    }
   ],
   "source": [
    "y - z"
   ]
  },
  {
   "cell_type": "code",
   "execution_count": 39,
   "metadata": {},
   "outputs": [],
   "source": [
    "z <- as.POSIXlt(z)"
   ]
  },
  {
   "cell_type": "code",
   "execution_count": 40,
   "metadata": {},
   "outputs": [
    {
     "data": {
      "text/plain": [
       "Time difference of 11.19444 days"
      ]
     },
     "metadata": {},
     "output_type": "display_data"
    }
   ],
   "source": [
    "y - z"
   ]
  }
 ],
 "metadata": {
  "kernelspec": {
   "display_name": "R",
   "language": "R",
   "name": "ir"
  },
  "language_info": {
   "codemirror_mode": "r",
   "file_extension": ".r",
   "mimetype": "text/x-r-source",
   "name": "R",
   "pygments_lexer": "r",
   "version": "3.6.1"
  }
 },
 "nbformat": 4,
 "nbformat_minor": 4
}
