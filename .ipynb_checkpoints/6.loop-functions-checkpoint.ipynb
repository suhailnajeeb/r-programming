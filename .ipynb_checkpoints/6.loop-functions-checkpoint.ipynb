{
 "cells": [
  {
   "cell_type": "markdown",
   "metadata": {},
   "source": [
    "## Loop Functions:"
   ]
  },
  {
   "cell_type": "markdown",
   "metadata": {},
   "source": [
    "- **lapply** : Loop over a list and evaluate a function on each element\n",
    "- **sapply** ; Same as lapply but try to simplify the result\n",
    "- **apply** : Apply a function over the margins of an array\n",
    "- **tapply** : Apply a function over subsets of a vector\n",
    "- **mapply** : Multivariate version of *lapply*"
   ]
  },
  {
   "cell_type": "markdown",
   "metadata": {},
   "source": [
    "Useful auxiliary function: **split** (used in conjunction with *lapply*)"
   ]
  },
  {
   "cell_type": "markdown",
   "metadata": {},
   "source": [
    "## lapply:"
   ]
  },
  {
   "cell_type": "code",
   "execution_count": null,
   "metadata": {},
   "outputs": [],
   "source": [
    "function (X, FUN, ...){\n",
    "    FUN <- mat.fun(FUN)\n",
    "    if(!is.vector(X) || is.object(X))\n",
    "        X <- as.list(X)\n",
    "    .Internal(lapply(X, FUN))\n",
    "}"
   ]
  },
  {
   "cell_type": "code",
   "execution_count": 1,
   "metadata": {},
   "outputs": [],
   "source": [
    "x <- list(a = 1:5, b = rnorm(10))"
   ]
  },
  {
   "cell_type": "code",
   "execution_count": 2,
   "metadata": {},
   "outputs": [
    {
     "data": {
      "text/html": [
       "<dl>\n",
       "\t<dt>$a</dt>\n",
       "\t\t<dd>3</dd>\n",
       "\t<dt>$b</dt>\n",
       "\t\t<dd>0.105112921322771</dd>\n",
       "</dl>\n"
      ],
      "text/latex": [
       "\\begin{description}\n",
       "\\item[\\$a] 3\n",
       "\\item[\\$b] 0.105112921322771\n",
       "\\end{description}\n"
      ],
      "text/markdown": [
       "$a\n",
       ":   3\n",
       "$b\n",
       ":   0.105112921322771\n",
       "\n",
       "\n"
      ],
      "text/plain": [
       "$a\n",
       "[1] 3\n",
       "\n",
       "$b\n",
       "[1] 0.1051129\n"
      ]
     },
     "metadata": {},
     "output_type": "display_data"
    }
   ],
   "source": [
    "lapply(x, mean)"
   ]
  },
  {
   "cell_type": "code",
   "execution_count": 3,
   "metadata": {},
   "outputs": [],
   "source": [
    "x <- list(a = 1:4, b = rnorm(10), c = rnorm(20,1), d = rnorm(100,5))"
   ]
  },
  {
   "cell_type": "code",
   "execution_count": 4,
   "metadata": {},
   "outputs": [
    {
     "data": {
      "text/html": [
       "<dl>\n",
       "\t<dt>$a</dt>\n",
       "\t\t<dd>2.5</dd>\n",
       "\t<dt>$b</dt>\n",
       "\t\t<dd>0.031082559713932</dd>\n",
       "\t<dt>$c</dt>\n",
       "\t\t<dd>1.05703718962678</dd>\n",
       "\t<dt>$d</dt>\n",
       "\t\t<dd>5.00179359462415</dd>\n",
       "</dl>\n"
      ],
      "text/latex": [
       "\\begin{description}\n",
       "\\item[\\$a] 2.5\n",
       "\\item[\\$b] 0.031082559713932\n",
       "\\item[\\$c] 1.05703718962678\n",
       "\\item[\\$d] 5.00179359462415\n",
       "\\end{description}\n"
      ],
      "text/markdown": [
       "$a\n",
       ":   2.5\n",
       "$b\n",
       ":   0.031082559713932\n",
       "$c\n",
       ":   1.05703718962678\n",
       "$d\n",
       ":   5.00179359462415\n",
       "\n",
       "\n"
      ],
      "text/plain": [
       "$a\n",
       "[1] 2.5\n",
       "\n",
       "$b\n",
       "[1] 0.03108256\n",
       "\n",
       "$c\n",
       "[1] 1.057037\n",
       "\n",
       "$d\n",
       "[1] 5.001794\n"
      ]
     },
     "metadata": {},
     "output_type": "display_data"
    }
   ],
   "source": [
    "lapply(x, mean)"
   ]
  },
  {
   "cell_type": "code",
   "execution_count": 5,
   "metadata": {},
   "outputs": [],
   "source": [
    "x <- 1:4"
   ]
  },
  {
   "cell_type": "code",
   "execution_count": 6,
   "metadata": {},
   "outputs": [
    {
     "data": {
      "text/html": [
       "<ol>\n",
       "\t<li>0.15465676994063</li>\n",
       "\t<li><ol class=list-inline>\n",
       "\t<li>0.252421412616968</li>\n",
       "\t<li>0.950267864856869</li>\n",
       "</ol>\n",
       "</li>\n",
       "\t<li><ol class=list-inline>\n",
       "\t<li>0.468779494753107</li>\n",
       "\t<li>0.358271695440635</li>\n",
       "\t<li>0.736781042069197</li>\n",
       "</ol>\n",
       "</li>\n",
       "\t<li><ol class=list-inline>\n",
       "\t<li>0.206838710000739</li>\n",
       "\t<li>0.144453709712252</li>\n",
       "\t<li>0.065988467540592</li>\n",
       "\t<li>0.925144584383816</li>\n",
       "</ol>\n",
       "</li>\n",
       "</ol>\n"
      ],
      "text/latex": [
       "\\begin{enumerate}\n",
       "\\item 0.15465676994063\n",
       "\\item \\begin{enumerate*}\n",
       "\\item 0.252421412616968\n",
       "\\item 0.950267864856869\n",
       "\\end{enumerate*}\n",
       "\n",
       "\\item \\begin{enumerate*}\n",
       "\\item 0.468779494753107\n",
       "\\item 0.358271695440635\n",
       "\\item 0.736781042069197\n",
       "\\end{enumerate*}\n",
       "\n",
       "\\item \\begin{enumerate*}\n",
       "\\item 0.206838710000739\n",
       "\\item 0.144453709712252\n",
       "\\item 0.065988467540592\n",
       "\\item 0.925144584383816\n",
       "\\end{enumerate*}\n",
       "\n",
       "\\end{enumerate}\n"
      ],
      "text/markdown": [
       "1. 0.15465676994063\n",
       "2. 1. 0.252421412616968\n",
       "2. 0.950267864856869\n",
       "\n",
       "\n",
       "\n",
       "3. 1. 0.468779494753107\n",
       "2. 0.358271695440635\n",
       "3. 0.736781042069197\n",
       "\n",
       "\n",
       "\n",
       "4. 1. 0.206838710000739\n",
       "2. 0.144453709712252\n",
       "3. 0.065988467540592\n",
       "4. 0.925144584383816\n",
       "\n",
       "\n",
       "\n",
       "\n",
       "\n"
      ],
      "text/plain": [
       "[[1]]\n",
       "[1] 0.1546568\n",
       "\n",
       "[[2]]\n",
       "[1] 0.2524214 0.9502679\n",
       "\n",
       "[[3]]\n",
       "[1] 0.4687795 0.3582717 0.7367810\n",
       "\n",
       "[[4]]\n",
       "[1] 0.20683871 0.14445371 0.06598847 0.92514458\n"
      ]
     },
     "metadata": {},
     "output_type": "display_data"
    }
   ],
   "source": [
    "lapply(x, runif)"
   ]
  },
  {
   "cell_type": "markdown",
   "metadata": {},
   "source": [
    "basically doing runif(x)"
   ]
  },
  {
   "cell_type": "code",
   "execution_count": 9,
   "metadata": {},
   "outputs": [
    {
     "data": {
      "text/html": [
       "<ol>\n",
       "\t<li>7.74700256763026</li>\n",
       "\t<li><ol class=list-inline>\n",
       "\t<li>8.18674131296575</li>\n",
       "\t<li>9.45414689136669</li>\n",
       "</ol>\n",
       "</li>\n",
       "\t<li><ol class=list-inline>\n",
       "\t<li>3.11722301412374</li>\n",
       "\t<li>3.96821788977832</li>\n",
       "\t<li>0.813708612695336</li>\n",
       "</ol>\n",
       "</li>\n",
       "\t<li><ol class=list-inline>\n",
       "\t<li>0.563696019817144</li>\n",
       "\t<li>0.22089934675023</li>\n",
       "\t<li>8.08999308152124</li>\n",
       "\t<li>3.13324321061373</li>\n",
       "</ol>\n",
       "</li>\n",
       "</ol>\n"
      ],
      "text/latex": [
       "\\begin{enumerate}\n",
       "\\item 7.74700256763026\n",
       "\\item \\begin{enumerate*}\n",
       "\\item 8.18674131296575\n",
       "\\item 9.45414689136669\n",
       "\\end{enumerate*}\n",
       "\n",
       "\\item \\begin{enumerate*}\n",
       "\\item 3.11722301412374\n",
       "\\item 3.96821788977832\n",
       "\\item 0.813708612695336\n",
       "\\end{enumerate*}\n",
       "\n",
       "\\item \\begin{enumerate*}\n",
       "\\item 0.563696019817144\n",
       "\\item 0.22089934675023\n",
       "\\item 8.08999308152124\n",
       "\\item 3.13324321061373\n",
       "\\end{enumerate*}\n",
       "\n",
       "\\end{enumerate}\n"
      ],
      "text/markdown": [
       "1. 7.74700256763026\n",
       "2. 1. 8.18674131296575\n",
       "2. 9.45414689136669\n",
       "\n",
       "\n",
       "\n",
       "3. 1. 3.11722301412374\n",
       "2. 3.96821788977832\n",
       "3. 0.813708612695336\n",
       "\n",
       "\n",
       "\n",
       "4. 1. 0.563696019817144\n",
       "2. 0.22089934675023\n",
       "3. 8.08999308152124\n",
       "4. 3.13324321061373\n",
       "\n",
       "\n",
       "\n",
       "\n",
       "\n"
      ],
      "text/plain": [
       "[[1]]\n",
       "[1] 7.747003\n",
       "\n",
       "[[2]]\n",
       "[1] 8.186741 9.454147\n",
       "\n",
       "[[3]]\n",
       "[1] 3.1172230 3.9682179 0.8137086\n",
       "\n",
       "[[4]]\n",
       "[1] 0.5636960 0.2208993 8.0899931 3.1332432\n"
      ]
     },
     "metadata": {},
     "output_type": "display_data"
    }
   ],
   "source": [
    "x <- 1:4\n",
    "lapply(x, runif, min = 0, max = 10)"
   ]
  },
  {
   "cell_type": "code",
   "execution_count": 10,
   "metadata": {},
   "outputs": [],
   "source": [
    "x <- list(a = matrix(1:4, 2, 2), b = matrix(1:6, 3, 2))"
   ]
  },
  {
   "cell_type": "code",
   "execution_count": 11,
   "metadata": {},
   "outputs": [
    {
     "data": {
      "text/html": [
       "<dl>\n",
       "\t<dt>$a</dt>\n",
       "\t\t<dd><table>\n",
       "<tbody>\n",
       "\t<tr><td>1</td><td>3</td></tr>\n",
       "\t<tr><td>2</td><td>4</td></tr>\n",
       "</tbody>\n",
       "</table>\n",
       "</dd>\n",
       "\t<dt>$b</dt>\n",
       "\t\t<dd><table>\n",
       "<tbody>\n",
       "\t<tr><td>1</td><td>4</td></tr>\n",
       "\t<tr><td>2</td><td>5</td></tr>\n",
       "\t<tr><td>3</td><td>6</td></tr>\n",
       "</tbody>\n",
       "</table>\n",
       "</dd>\n",
       "</dl>\n"
      ],
      "text/latex": [
       "\\begin{description}\n",
       "\\item[\\$a] \\begin{tabular}{ll}\n",
       "\t 1 & 3\\\\\n",
       "\t 2 & 4\\\\\n",
       "\\end{tabular}\n",
       "\n",
       "\\item[\\$b] \\begin{tabular}{ll}\n",
       "\t 1 & 4\\\\\n",
       "\t 2 & 5\\\\\n",
       "\t 3 & 6\\\\\n",
       "\\end{tabular}\n",
       "\n",
       "\\end{description}\n"
      ],
      "text/markdown": [
       "$a\n",
       ":   \n",
       "| 1 | 3 |\n",
       "| 2 | 4 |\n",
       "\n",
       "\n",
       "$b\n",
       ":   \n",
       "| 1 | 4 |\n",
       "| 2 | 5 |\n",
       "| 3 | 6 |\n",
       "\n",
       "\n",
       "\n",
       "\n"
      ],
      "text/plain": [
       "$a\n",
       "     [,1] [,2]\n",
       "[1,]    1    3\n",
       "[2,]    2    4\n",
       "\n",
       "$b\n",
       "     [,1] [,2]\n",
       "[1,]    1    4\n",
       "[2,]    2    5\n",
       "[3,]    3    6\n"
      ]
     },
     "metadata": {},
     "output_type": "display_data"
    }
   ],
   "source": [
    "x"
   ]
  },
  {
   "cell_type": "markdown",
   "metadata": {},
   "source": [
    "## Using anonymous functions:\n",
    "\n",
    "The following function extracts the first column"
   ]
  },
  {
   "cell_type": "code",
   "execution_count": 12,
   "metadata": {},
   "outputs": [
    {
     "data": {
      "text/html": [
       "<dl>\n",
       "\t<dt>$a</dt>\n",
       "\t\t<dd><ol class=list-inline>\n",
       "\t<li>1</li>\n",
       "\t<li>2</li>\n",
       "</ol>\n",
       "</dd>\n",
       "\t<dt>$b</dt>\n",
       "\t\t<dd><ol class=list-inline>\n",
       "\t<li>1</li>\n",
       "\t<li>2</li>\n",
       "\t<li>3</li>\n",
       "</ol>\n",
       "</dd>\n",
       "</dl>\n"
      ],
      "text/latex": [
       "\\begin{description}\n",
       "\\item[\\$a] \\begin{enumerate*}\n",
       "\\item 1\n",
       "\\item 2\n",
       "\\end{enumerate*}\n",
       "\n",
       "\\item[\\$b] \\begin{enumerate*}\n",
       "\\item 1\n",
       "\\item 2\n",
       "\\item 3\n",
       "\\end{enumerate*}\n",
       "\n",
       "\\end{description}\n"
      ],
      "text/markdown": [
       "$a\n",
       ":   1. 1\n",
       "2. 2\n",
       "\n",
       "\n",
       "\n",
       "$b\n",
       ":   1. 1\n",
       "2. 2\n",
       "3. 3\n",
       "\n",
       "\n",
       "\n",
       "\n",
       "\n"
      ],
      "text/plain": [
       "$a\n",
       "[1] 1 2\n",
       "\n",
       "$b\n",
       "[1] 1 2 3\n"
      ]
     },
     "metadata": {},
     "output_type": "display_data"
    }
   ],
   "source": [
    "lapply(x, function(elt) elt[,1])"
   ]
  },
  {
   "cell_type": "markdown",
   "metadata": {},
   "source": [
    "This function doesn't exist. it only exists within the context of the lapply. "
   ]
  },
  {
   "cell_type": "markdown",
   "metadata": {},
   "source": [
    "## sapply\n",
    "\n",
    "- Simplifies the output\n",
    "- If the result is a list, a vecto r is returned\n",
    "- If result is list with vectors of same length, matrix is returned\n",
    "- If it can't figure out, then list is returned"
   ]
  },
  {
   "cell_type": "code",
   "execution_count": 13,
   "metadata": {},
   "outputs": [],
   "source": [
    "x <- list(a = 1:4, b = rnorm(10), c = rnorm(20,1), d = rnorm(100,5))"
   ]
  },
  {
   "cell_type": "code",
   "execution_count": 14,
   "metadata": {},
   "outputs": [
    {
     "data": {
      "text/html": [
       "<dl>\n",
       "\t<dt>$a</dt>\n",
       "\t\t<dd>2.5</dd>\n",
       "\t<dt>$b</dt>\n",
       "\t\t<dd>-0.148539659144282</dd>\n",
       "\t<dt>$c</dt>\n",
       "\t\t<dd>0.615094819462651</dd>\n",
       "\t<dt>$d</dt>\n",
       "\t\t<dd>4.9207582675716</dd>\n",
       "</dl>\n"
      ],
      "text/latex": [
       "\\begin{description}\n",
       "\\item[\\$a] 2.5\n",
       "\\item[\\$b] -0.148539659144282\n",
       "\\item[\\$c] 0.615094819462651\n",
       "\\item[\\$d] 4.9207582675716\n",
       "\\end{description}\n"
      ],
      "text/markdown": [
       "$a\n",
       ":   2.5\n",
       "$b\n",
       ":   -0.148539659144282\n",
       "$c\n",
       ":   0.615094819462651\n",
       "$d\n",
       ":   4.9207582675716\n",
       "\n",
       "\n"
      ],
      "text/plain": [
       "$a\n",
       "[1] 2.5\n",
       "\n",
       "$b\n",
       "[1] -0.1485397\n",
       "\n",
       "$c\n",
       "[1] 0.6150948\n",
       "\n",
       "$d\n",
       "[1] 4.920758\n"
      ]
     },
     "metadata": {},
     "output_type": "display_data"
    }
   ],
   "source": [
    "lapply(x, mean)"
   ]
  },
  {
   "cell_type": "code",
   "execution_count": 15,
   "metadata": {},
   "outputs": [
    {
     "data": {
      "text/html": [
       "<dl class=dl-horizontal>\n",
       "\t<dt>a</dt>\n",
       "\t\t<dd>2.5</dd>\n",
       "\t<dt>b</dt>\n",
       "\t\t<dd>-0.148539659144282</dd>\n",
       "\t<dt>c</dt>\n",
       "\t\t<dd>0.615094819462651</dd>\n",
       "\t<dt>d</dt>\n",
       "\t\t<dd>4.9207582675716</dd>\n",
       "</dl>\n"
      ],
      "text/latex": [
       "\\begin{description*}\n",
       "\\item[a] 2.5\n",
       "\\item[b] -0.148539659144282\n",
       "\\item[c] 0.615094819462651\n",
       "\\item[d] 4.9207582675716\n",
       "\\end{description*}\n"
      ],
      "text/markdown": [
       "a\n",
       ":   2.5b\n",
       ":   -0.148539659144282c\n",
       ":   0.615094819462651d\n",
       ":   4.9207582675716\n",
       "\n"
      ],
      "text/plain": [
       "         a          b          c          d \n",
       " 2.5000000 -0.1485397  0.6150948  4.9207583 "
      ]
     },
     "metadata": {},
     "output_type": "display_data"
    }
   ],
   "source": [
    "sapply(x, mean)"
   ]
  },
  {
   "cell_type": "markdown",
   "metadata": {},
   "source": [
    "## Apply\n",
    "\n",
    "- applied over the margins\n",
    "- applied on rows/columns of matrix\n",
    "- general arrays\n",
    "- not faster than loop"
   ]
  },
  {
   "cell_type": "code",
   "execution_count": 17,
   "metadata": {},
   "outputs": [
    {
     "name": "stdout",
     "output_type": "stream",
     "text": [
      "function (X, MARGIN, FUN, ...)  \n"
     ]
    }
   ],
   "source": [
    "str(apply)"
   ]
  },
  {
   "cell_type": "code",
   "execution_count": 2,
   "metadata": {},
   "outputs": [],
   "source": [
    "x <- matrix(rnorm(200), 20, 10)"
   ]
  },
  {
   "cell_type": "code",
   "execution_count": 3,
   "metadata": {},
   "outputs": [
    {
     "data": {
      "text/html": [
       "<ol class=list-inline>\n",
       "\t<li>-0.0450473472984681</li>\n",
       "\t<li>-0.0889506824382858</li>\n",
       "\t<li>-0.152659902283925</li>\n",
       "\t<li>-0.146507063256074</li>\n",
       "\t<li>-0.0882329259809633</li>\n",
       "\t<li>0.219712415807216</li>\n",
       "\t<li>-0.382577571551409</li>\n",
       "\t<li>-0.101089955192643</li>\n",
       "\t<li>0.210579434858106</li>\n",
       "\t<li>0.0797462058458036</li>\n",
       "</ol>\n"
      ],
      "text/latex": [
       "\\begin{enumerate*}\n",
       "\\item -0.0450473472984681\n",
       "\\item -0.0889506824382858\n",
       "\\item -0.152659902283925\n",
       "\\item -0.146507063256074\n",
       "\\item -0.0882329259809633\n",
       "\\item 0.219712415807216\n",
       "\\item -0.382577571551409\n",
       "\\item -0.101089955192643\n",
       "\\item 0.210579434858106\n",
       "\\item 0.0797462058458036\n",
       "\\end{enumerate*}\n"
      ],
      "text/markdown": [
       "1. -0.0450473472984681\n",
       "2. -0.0889506824382858\n",
       "3. -0.152659902283925\n",
       "4. -0.146507063256074\n",
       "5. -0.0882329259809633\n",
       "6. 0.219712415807216\n",
       "7. -0.382577571551409\n",
       "8. -0.101089955192643\n",
       "9. 0.210579434858106\n",
       "10. 0.0797462058458036\n",
       "\n",
       "\n"
      ],
      "text/plain": [
       " [1] -0.04504735 -0.08895068 -0.15265990 -0.14650706 -0.08823293  0.21971242\n",
       " [7] -0.38257757 -0.10108996  0.21057943  0.07974621"
      ]
     },
     "metadata": {},
     "output_type": "display_data"
    }
   ],
   "source": [
    "apply(x, 2, mean)\n",
    "# mean along the columns"
   ]
  },
  {
   "cell_type": "code",
   "execution_count": 4,
   "metadata": {},
   "outputs": [
    {
     "data": {
      "text/html": [
       "<ol class=list-inline>\n",
       "\t<li>-0.208568364233974</li>\n",
       "\t<li>0.0622229917619088</li>\n",
       "\t<li>-0.105373883712732</li>\n",
       "\t<li>-0.678875869849802</li>\n",
       "\t<li>-0.0849950366979</li>\n",
       "\t<li>-0.0164020266020071</li>\n",
       "\t<li>0.18037033319908</li>\n",
       "\t<li>-0.12135032273609</li>\n",
       "\t<li>-0.315711983451366</li>\n",
       "\t<li>-0.316893890597727</li>\n",
       "\t<li>0.168062481379791</li>\n",
       "\t<li>0.220866629754145</li>\n",
       "\t<li>0.596507101781217</li>\n",
       "\t<li>0.00140419802229215</li>\n",
       "\t<li>-0.416734818884697</li>\n",
       "\t<li>-0.0761579665192927</li>\n",
       "\t<li>0.452653995694495</li>\n",
       "\t<li>-0.106022282392517</li>\n",
       "\t<li>0.0948785655390714</li>\n",
       "\t<li>-0.319934634435182</li>\n",
       "</ol>\n"
      ],
      "text/latex": [
       "\\begin{enumerate*}\n",
       "\\item -0.208568364233974\n",
       "\\item 0.0622229917619088\n",
       "\\item -0.105373883712732\n",
       "\\item -0.678875869849802\n",
       "\\item -0.0849950366979\n",
       "\\item -0.0164020266020071\n",
       "\\item 0.18037033319908\n",
       "\\item -0.12135032273609\n",
       "\\item -0.315711983451366\n",
       "\\item -0.316893890597727\n",
       "\\item 0.168062481379791\n",
       "\\item 0.220866629754145\n",
       "\\item 0.596507101781217\n",
       "\\item 0.00140419802229215\n",
       "\\item -0.416734818884697\n",
       "\\item -0.0761579665192927\n",
       "\\item 0.452653995694495\n",
       "\\item -0.106022282392517\n",
       "\\item 0.0948785655390714\n",
       "\\item -0.319934634435182\n",
       "\\end{enumerate*}\n"
      ],
      "text/markdown": [
       "1. -0.208568364233974\n",
       "2. 0.0622229917619088\n",
       "3. -0.105373883712732\n",
       "4. -0.678875869849802\n",
       "5. -0.0849950366979\n",
       "6. -0.0164020266020071\n",
       "7. 0.18037033319908\n",
       "8. -0.12135032273609\n",
       "9. -0.315711983451366\n",
       "10. -0.316893890597727\n",
       "11. 0.168062481379791\n",
       "12. 0.220866629754145\n",
       "13. 0.596507101781217\n",
       "14. 0.00140419802229215\n",
       "15. -0.416734818884697\n",
       "16. -0.0761579665192927\n",
       "17. 0.452653995694495\n",
       "18. -0.106022282392517\n",
       "19. 0.0948785655390714\n",
       "20. -0.319934634435182\n",
       "\n",
       "\n"
      ],
      "text/plain": [
       " [1] -0.208568364  0.062222992 -0.105373884 -0.678875870 -0.084995037\n",
       " [6] -0.016402027  0.180370333 -0.121350323 -0.315711983 -0.316893891\n",
       "[11]  0.168062481  0.220866630  0.596507102  0.001404198 -0.416734819\n",
       "[16] -0.076157967  0.452653996 -0.106022282  0.094878566 -0.319934634"
      ]
     },
     "metadata": {},
     "output_type": "display_data"
    }
   ],
   "source": [
    "apply(x, 1, mean)\n",
    "# mean along the rows"
   ]
  },
  {
   "cell_type": "markdown",
   "metadata": {},
   "source": [
    "Shortcut Functions:\n",
    "\n",
    "- rowSums = apply(x, 1, sum)\n",
    "- rowMeans = apply(x, 1, mean)\n",
    "- colSums = apply(x, 2, sum)\n",
    "- colMeans = apply(x, 2, mean)"
   ]
  },
  {
   "cell_type": "code",
   "execution_count": 6,
   "metadata": {},
   "outputs": [],
   "source": [
    "x <- matrix(rnorm(200), 20, 10)"
   ]
  },
  {
   "cell_type": "code",
   "execution_count": 8,
   "metadata": {},
   "outputs": [
    {
     "data": {
      "text/html": [
       "<table>\n",
       "<tbody>\n",
       "\t<tr><th scope=row>25%</th><td>-1.5221260 </td><td>-0.04185278</td><td>-1.015911  </td><td>-0.3908364 </td><td>-0.86665071</td><td>-0.2559881 </td><td>-0.7912073 </td><td>-0.2597336 </td><td>-0.7319669 </td><td>-0.3921775 </td><td>-0.3022219 </td><td>-0.4862302 </td><td>-0.4843043 </td><td>-0.6325084 </td><td>-0.7428567 </td><td>-0.5166707 </td><td>-0.2488422 </td><td>-1.09300027</td><td>-0.08303857</td><td>-0.8632086 </td></tr>\n",
       "\t<tr><th scope=row>75%</th><td> 0.6390472 </td><td> 0.85053279</td><td> 1.078312  </td><td> 0.5439737 </td><td> 0.02564567</td><td> 0.9952905 </td><td> 0.1856007 </td><td> 0.6756005 </td><td> 0.2097470 </td><td> 0.8375178 </td><td> 0.3504602 </td><td> 0.2331720 </td><td> 0.8907894 </td><td> 0.7292796 </td><td> 0.4393425 </td><td> 0.5174418 </td><td> 0.3718593 </td><td>-0.02136504</td><td> 1.40913167</td><td> 0.9673943 </td></tr>\n",
       "</tbody>\n",
       "</table>\n"
      ],
      "text/latex": [
       "\\begin{tabular}{r|llllllllllllllllllll}\n",
       "\t25\\% & -1.5221260  & -0.04185278 & -1.015911   & -0.3908364  & -0.86665071 & -0.2559881  & -0.7912073  & -0.2597336  & -0.7319669  & -0.3921775  & -0.3022219  & -0.4862302  & -0.4843043  & -0.6325084  & -0.7428567  & -0.5166707  & -0.2488422  & -1.09300027 & -0.08303857 & -0.8632086 \\\\\n",
       "\t75\\% &  0.6390472  &  0.85053279 &  1.078312   &  0.5439737  &  0.02564567 &  0.9952905  &  0.1856007  &  0.6756005  &  0.2097470  &  0.8375178  &  0.3504602  &  0.2331720  &  0.8907894  &  0.7292796  &  0.4393425  &  0.5174418  &  0.3718593  & -0.02136504 &  1.40913167 &  0.9673943 \\\\\n",
       "\\end{tabular}\n"
      ],
      "text/markdown": [
       "\n",
       "| 25% | -1.5221260  | -0.04185278 | -1.015911   | -0.3908364  | -0.86665071 | -0.2559881  | -0.7912073  | -0.2597336  | -0.7319669  | -0.3921775  | -0.3022219  | -0.4862302  | -0.4843043  | -0.6325084  | -0.7428567  | -0.5166707  | -0.2488422  | -1.09300027 | -0.08303857 | -0.8632086  |\n",
       "| 75% |  0.6390472  |  0.85053279 |  1.078312   |  0.5439737  |  0.02564567 |  0.9952905  |  0.1856007  |  0.6756005  |  0.2097470  |  0.8375178  |  0.3504602  |  0.2331720  |  0.8907894  |  0.7292796  |  0.4393425  |  0.5174418  |  0.3718593  | -0.02136504 |  1.40913167 |  0.9673943  |\n",
       "\n"
      ],
      "text/plain": [
       "    [,1]       [,2]        [,3]      [,4]       [,5]        [,6]      \n",
       "25% -1.5221260 -0.04185278 -1.015911 -0.3908364 -0.86665071 -0.2559881\n",
       "75%  0.6390472  0.85053279  1.078312  0.5439737  0.02564567  0.9952905\n",
       "    [,7]       [,8]       [,9]       [,10]      [,11]      [,12]     \n",
       "25% -0.7912073 -0.2597336 -0.7319669 -0.3921775 -0.3022219 -0.4862302\n",
       "75%  0.1856007  0.6756005  0.2097470  0.8375178  0.3504602  0.2331720\n",
       "    [,13]      [,14]      [,15]      [,16]      [,17]      [,18]      \n",
       "25% -0.4843043 -0.6325084 -0.7428567 -0.5166707 -0.2488422 -1.09300027\n",
       "75%  0.8907894  0.7292796  0.4393425  0.5174418  0.3718593 -0.02136504\n",
       "    [,19]       [,20]     \n",
       "25% -0.08303857 -0.8632086\n",
       "75%  1.40913167  0.9673943"
      ]
     },
     "metadata": {},
     "output_type": "display_data"
    }
   ],
   "source": [
    "# calculate the 25th and the 75th percentile along the rows:\n",
    "\n",
    "apply(x, 1, quantile, probs = c(0.25, 0.75))"
   ]
  },
  {
   "cell_type": "code",
   "execution_count": 9,
   "metadata": {},
   "outputs": [],
   "source": [
    "a <- array(rnorm(2*2*10), c(2,2,10))"
   ]
  },
  {
   "cell_type": "code",
   "execution_count": 10,
   "metadata": {},
   "outputs": [
    {
     "data": {
      "text/html": [
       "<table>\n",
       "<tbody>\n",
       "\t<tr><td>-0.05557865</td><td>-0.05218854</td></tr>\n",
       "\t<tr><td>-0.16845684</td><td> 0.19109441</td></tr>\n",
       "</tbody>\n",
       "</table>\n"
      ],
      "text/latex": [
       "\\begin{tabular}{ll}\n",
       "\t -0.05557865 & -0.05218854\\\\\n",
       "\t -0.16845684 &  0.19109441\\\\\n",
       "\\end{tabular}\n"
      ],
      "text/markdown": [
       "\n",
       "| -0.05557865 | -0.05218854 |\n",
       "| -0.16845684 |  0.19109441 |\n",
       "\n"
      ],
      "text/plain": [
       "     [,1]        [,2]       \n",
       "[1,] -0.05557865 -0.05218854\n",
       "[2,] -0.16845684  0.19109441"
      ]
     },
     "metadata": {},
     "output_type": "display_data"
    }
   ],
   "source": [
    "apply(a, c(1,2), mean)"
   ]
  },
  {
   "cell_type": "code",
   "execution_count": 11,
   "metadata": {},
   "outputs": [
    {
     "data": {
      "text/html": [
       "<table>\n",
       "<tbody>\n",
       "\t<tr><td>-0.05557865</td><td>-0.05218854</td></tr>\n",
       "\t<tr><td>-0.16845684</td><td> 0.19109441</td></tr>\n",
       "</tbody>\n",
       "</table>\n"
      ],
      "text/latex": [
       "\\begin{tabular}{ll}\n",
       "\t -0.05557865 & -0.05218854\\\\\n",
       "\t -0.16845684 &  0.19109441\\\\\n",
       "\\end{tabular}\n"
      ],
      "text/markdown": [
       "\n",
       "| -0.05557865 | -0.05218854 |\n",
       "| -0.16845684 |  0.19109441 |\n",
       "\n"
      ],
      "text/plain": [
       "     [,1]        [,2]       \n",
       "[1,] -0.05557865 -0.05218854\n",
       "[2,] -0.16845684  0.19109441"
      ]
     },
     "metadata": {},
     "output_type": "display_data"
    }
   ],
   "source": [
    "rowMeans(a, dim = 2)"
   ]
  },
  {
   "cell_type": "code",
   "execution_count": 13,
   "metadata": {},
   "outputs": [],
   "source": [
    "# ^ collapsing the 3rd dimension"
   ]
  },
  {
   "cell_type": "markdown",
   "metadata": {},
   "source": [
    "## mapply"
   ]
  },
  {
   "cell_type": "code",
   "execution_count": 1,
   "metadata": {},
   "outputs": [
    {
     "name": "stdout",
     "output_type": "stream",
     "text": [
      "function (FUN, ..., MoreArgs = NULL, SIMPLIFY = TRUE, USE.NAMES = TRUE)  \n"
     ]
    }
   ],
   "source": [
    "str(mapply)"
   ]
  },
  {
   "cell_type": "markdown",
   "metadata": {},
   "source": [
    "multivariate version of lapply, sapply  \n",
    "applies the function in parallel "
   ]
  },
  {
   "cell_type": "code",
   "execution_count": 2,
   "metadata": {},
   "outputs": [
    {
     "data": {
      "text/html": [
       "<ol>\n",
       "\t<li><ol class=list-inline>\n",
       "\t<li>1</li>\n",
       "\t<li>1</li>\n",
       "\t<li>1</li>\n",
       "\t<li>1</li>\n",
       "</ol>\n",
       "</li>\n",
       "\t<li><ol class=list-inline>\n",
       "\t<li>2</li>\n",
       "\t<li>2</li>\n",
       "\t<li>2</li>\n",
       "</ol>\n",
       "</li>\n",
       "\t<li><ol class=list-inline>\n",
       "\t<li>3</li>\n",
       "\t<li>3</li>\n",
       "</ol>\n",
       "</li>\n",
       "\t<li>4</li>\n",
       "</ol>\n"
      ],
      "text/latex": [
       "\\begin{enumerate}\n",
       "\\item \\begin{enumerate*}\n",
       "\\item 1\n",
       "\\item 1\n",
       "\\item 1\n",
       "\\item 1\n",
       "\\end{enumerate*}\n",
       "\n",
       "\\item \\begin{enumerate*}\n",
       "\\item 2\n",
       "\\item 2\n",
       "\\item 2\n",
       "\\end{enumerate*}\n",
       "\n",
       "\\item \\begin{enumerate*}\n",
       "\\item 3\n",
       "\\item 3\n",
       "\\end{enumerate*}\n",
       "\n",
       "\\item 4\n",
       "\\end{enumerate}\n"
      ],
      "text/markdown": [
       "1. 1. 1\n",
       "2. 1\n",
       "3. 1\n",
       "4. 1\n",
       "\n",
       "\n",
       "\n",
       "2. 1. 2\n",
       "2. 2\n",
       "3. 2\n",
       "\n",
       "\n",
       "\n",
       "3. 1. 3\n",
       "2. 3\n",
       "\n",
       "\n",
       "\n",
       "4. 4\n",
       "\n",
       "\n"
      ],
      "text/plain": [
       "[[1]]\n",
       "[1] 1 1 1 1\n",
       "\n",
       "[[2]]\n",
       "[1] 2 2 2\n",
       "\n",
       "[[3]]\n",
       "[1] 3 3\n",
       "\n",
       "[[4]]\n",
       "[1] 4\n"
      ]
     },
     "metadata": {},
     "output_type": "display_data"
    }
   ],
   "source": [
    "list(rep(1, 4), rep(2, 3), rep(3, 2), rep(4, 1))"
   ]
  },
  {
   "cell_type": "code",
   "execution_count": 4,
   "metadata": {},
   "outputs": [
    {
     "data": {
      "text/html": [
       "<ol>\n",
       "\t<li><ol class=list-inline>\n",
       "\t<li>1</li>\n",
       "\t<li>1</li>\n",
       "\t<li>1</li>\n",
       "\t<li>1</li>\n",
       "</ol>\n",
       "</li>\n",
       "\t<li><ol class=list-inline>\n",
       "\t<li>2</li>\n",
       "\t<li>2</li>\n",
       "\t<li>2</li>\n",
       "</ol>\n",
       "</li>\n",
       "\t<li><ol class=list-inline>\n",
       "\t<li>3</li>\n",
       "\t<li>3</li>\n",
       "</ol>\n",
       "</li>\n",
       "\t<li>4</li>\n",
       "</ol>\n"
      ],
      "text/latex": [
       "\\begin{enumerate}\n",
       "\\item \\begin{enumerate*}\n",
       "\\item 1\n",
       "\\item 1\n",
       "\\item 1\n",
       "\\item 1\n",
       "\\end{enumerate*}\n",
       "\n",
       "\\item \\begin{enumerate*}\n",
       "\\item 2\n",
       "\\item 2\n",
       "\\item 2\n",
       "\\end{enumerate*}\n",
       "\n",
       "\\item \\begin{enumerate*}\n",
       "\\item 3\n",
       "\\item 3\n",
       "\\end{enumerate*}\n",
       "\n",
       "\\item 4\n",
       "\\end{enumerate}\n"
      ],
      "text/markdown": [
       "1. 1. 1\n",
       "2. 1\n",
       "3. 1\n",
       "4. 1\n",
       "\n",
       "\n",
       "\n",
       "2. 1. 2\n",
       "2. 2\n",
       "3. 2\n",
       "\n",
       "\n",
       "\n",
       "3. 1. 3\n",
       "2. 3\n",
       "\n",
       "\n",
       "\n",
       "4. 4\n",
       "\n",
       "\n"
      ],
      "text/plain": [
       "[[1]]\n",
       "[1] 1 1 1 1\n",
       "\n",
       "[[2]]\n",
       "[1] 2 2 2\n",
       "\n",
       "[[3]]\n",
       "[1] 3 3\n",
       "\n",
       "[[4]]\n",
       "[1] 4\n"
      ]
     },
     "metadata": {},
     "output_type": "display_data"
    }
   ],
   "source": [
    "mapply(rep, 1:4, 4:1)"
   ]
  },
  {
   "cell_type": "markdown",
   "metadata": {},
   "source": [
    "Vectorizing a function:"
   ]
  },
  {
   "cell_type": "code",
   "execution_count": 6,
   "metadata": {},
   "outputs": [],
   "source": [
    "noise <- function(n, mean, sd){\n",
    "    rnorm(n, mean, sd)\n",
    "}"
   ]
  },
  {
   "cell_type": "code",
   "execution_count": 7,
   "metadata": {},
   "outputs": [
    {
     "data": {
      "text/html": [
       "<ol class=list-inline>\n",
       "\t<li>0.249471578059953</li>\n",
       "\t<li>1.77518127865222</li>\n",
       "\t<li>0.560351354993822</li>\n",
       "\t<li>1.61585068380189</li>\n",
       "\t<li>3.63771380246764</li>\n",
       "</ol>\n"
      ],
      "text/latex": [
       "\\begin{enumerate*}\n",
       "\\item 0.249471578059953\n",
       "\\item 1.77518127865222\n",
       "\\item 0.560351354993822\n",
       "\\item 1.61585068380189\n",
       "\\item 3.63771380246764\n",
       "\\end{enumerate*}\n"
      ],
      "text/markdown": [
       "1. 0.249471578059953\n",
       "2. 1.77518127865222\n",
       "3. 0.560351354993822\n",
       "4. 1.61585068380189\n",
       "5. 3.63771380246764\n",
       "\n",
       "\n"
      ],
      "text/plain": [
       "[1] 0.2494716 1.7751813 0.5603514 1.6158507 3.6377138"
      ]
     },
     "metadata": {},
     "output_type": "display_data"
    }
   ],
   "source": [
    "noise(5,1,2)"
   ]
  },
  {
   "cell_type": "code",
   "execution_count": 8,
   "metadata": {},
   "outputs": [
    {
     "data": {
      "text/html": [
       "<ol class=list-inline>\n",
       "\t<li>3.30761379531729</li>\n",
       "\t<li>0.952779256345207</li>\n",
       "\t<li>1.85071455687896</li>\n",
       "\t<li>4.27256310437868</li>\n",
       "\t<li>4.53490162017802</li>\n",
       "</ol>\n"
      ],
      "text/latex": [
       "\\begin{enumerate*}\n",
       "\\item 3.30761379531729\n",
       "\\item 0.952779256345207\n",
       "\\item 1.85071455687896\n",
       "\\item 4.27256310437868\n",
       "\\item 4.53490162017802\n",
       "\\end{enumerate*}\n"
      ],
      "text/markdown": [
       "1. 3.30761379531729\n",
       "2. 0.952779256345207\n",
       "3. 1.85071455687896\n",
       "4. 4.27256310437868\n",
       "5. 4.53490162017802\n",
       "\n",
       "\n"
      ],
      "text/plain": [
       "[1] 3.3076138 0.9527793 1.8507146 4.2725631 4.5349016"
      ]
     },
     "metadata": {},
     "output_type": "display_data"
    }
   ],
   "source": [
    "noise(1:5, 1:5, 2)"
   ]
  },
  {
   "cell_type": "code",
   "execution_count": 9,
   "metadata": {},
   "outputs": [
    {
     "data": {
      "text/html": [
       "<ol>\n",
       "\t<li>0.387408671176322</li>\n",
       "\t<li><ol class=list-inline>\n",
       "\t<li>3.5257287137711</li>\n",
       "\t<li>1.9904430073133</li>\n",
       "</ol>\n",
       "</li>\n",
       "\t<li><ol class=list-inline>\n",
       "\t<li>6.62364837181566</li>\n",
       "\t<li>1.75933716957808</li>\n",
       "\t<li>1.19636358060474</li>\n",
       "</ol>\n",
       "</li>\n",
       "\t<li><ol class=list-inline>\n",
       "\t<li>3.46905745070196</li>\n",
       "\t<li>3.35774916605051</li>\n",
       "\t<li>4.7925873158684</li>\n",
       "\t<li>5.29634339950083</li>\n",
       "</ol>\n",
       "</li>\n",
       "\t<li><ol class=list-inline>\n",
       "\t<li>5.00807024537144</li>\n",
       "\t<li>5.45593625226149</li>\n",
       "\t<li>4.2949031679174</li>\n",
       "\t<li>5.14004348706037</li>\n",
       "\t<li>3.67128776207724</li>\n",
       "</ol>\n",
       "</li>\n",
       "</ol>\n"
      ],
      "text/latex": [
       "\\begin{enumerate}\n",
       "\\item 0.387408671176322\n",
       "\\item \\begin{enumerate*}\n",
       "\\item 3.5257287137711\n",
       "\\item 1.9904430073133\n",
       "\\end{enumerate*}\n",
       "\n",
       "\\item \\begin{enumerate*}\n",
       "\\item 6.62364837181566\n",
       "\\item 1.75933716957808\n",
       "\\item 1.19636358060474\n",
       "\\end{enumerate*}\n",
       "\n",
       "\\item \\begin{enumerate*}\n",
       "\\item 3.46905745070196\n",
       "\\item 3.35774916605051\n",
       "\\item 4.7925873158684\n",
       "\\item 5.29634339950083\n",
       "\\end{enumerate*}\n",
       "\n",
       "\\item \\begin{enumerate*}\n",
       "\\item 5.00807024537144\n",
       "\\item 5.45593625226149\n",
       "\\item 4.2949031679174\n",
       "\\item 5.14004348706037\n",
       "\\item 3.67128776207724\n",
       "\\end{enumerate*}\n",
       "\n",
       "\\end{enumerate}\n"
      ],
      "text/markdown": [
       "1. 0.387408671176322\n",
       "2. 1. 3.5257287137711\n",
       "2. 1.9904430073133\n",
       "\n",
       "\n",
       "\n",
       "3. 1. 6.62364837181566\n",
       "2. 1.75933716957808\n",
       "3. 1.19636358060474\n",
       "\n",
       "\n",
       "\n",
       "4. 1. 3.46905745070196\n",
       "2. 3.35774916605051\n",
       "3. 4.7925873158684\n",
       "4. 5.29634339950083\n",
       "\n",
       "\n",
       "\n",
       "5. 1. 5.00807024537144\n",
       "2. 5.45593625226149\n",
       "3. 4.2949031679174\n",
       "4. 5.14004348706037\n",
       "5. 3.67128776207724\n",
       "\n",
       "\n",
       "\n",
       "\n",
       "\n"
      ],
      "text/plain": [
       "[[1]]\n",
       "[1] 0.3874087\n",
       "\n",
       "[[2]]\n",
       "[1] 3.525729 1.990443\n",
       "\n",
       "[[3]]\n",
       "[1] 6.623648 1.759337 1.196364\n",
       "\n",
       "[[4]]\n",
       "[1] 3.469057 3.357749 4.792587 5.296343\n",
       "\n",
       "[[5]]\n",
       "[1] 5.008070 5.455936 4.294903 5.140043 3.671288\n"
      ]
     },
     "metadata": {},
     "output_type": "display_data"
    }
   ],
   "source": [
    "mapply(noise, 1:5, 1:5, 2)"
   ]
  },
  {
   "cell_type": "markdown",
   "metadata": {},
   "source": [
    "This is essentially the same as: "
   ]
  },
  {
   "cell_type": "code",
   "execution_count": 10,
   "metadata": {},
   "outputs": [
    {
     "data": {
      "text/html": [
       "<ol>\n",
       "\t<li>0.470649043219121</li>\n",
       "\t<li><ol class=list-inline>\n",
       "\t<li>2.76012678473544</li>\n",
       "\t<li>4.22988683850426</li>\n",
       "</ol>\n",
       "</li>\n",
       "\t<li><ol class=list-inline>\n",
       "\t<li>3.46799849085074</li>\n",
       "\t<li>4.49166080063884</li>\n",
       "\t<li>1.95770617183242</li>\n",
       "</ol>\n",
       "</li>\n",
       "\t<li><ol class=list-inline>\n",
       "\t<li>3.61918169030371</li>\n",
       "\t<li>2.93273309447204</li>\n",
       "\t<li>2.43065674642697</li>\n",
       "\t<li>4.37839913694832</li>\n",
       "</ol>\n",
       "</li>\n",
       "\t<li><ol class=list-inline>\n",
       "\t<li>6.18480918294457</li>\n",
       "\t<li>6.39213774890366</li>\n",
       "\t<li>5.18589970732364</li>\n",
       "\t<li>4.84325344736316</li>\n",
       "\t<li>3.8706132986631</li>\n",
       "</ol>\n",
       "</li>\n",
       "</ol>\n"
      ],
      "text/latex": [
       "\\begin{enumerate}\n",
       "\\item 0.470649043219121\n",
       "\\item \\begin{enumerate*}\n",
       "\\item 2.76012678473544\n",
       "\\item 4.22988683850426\n",
       "\\end{enumerate*}\n",
       "\n",
       "\\item \\begin{enumerate*}\n",
       "\\item 3.46799849085074\n",
       "\\item 4.49166080063884\n",
       "\\item 1.95770617183242\n",
       "\\end{enumerate*}\n",
       "\n",
       "\\item \\begin{enumerate*}\n",
       "\\item 3.61918169030371\n",
       "\\item 2.93273309447204\n",
       "\\item 2.43065674642697\n",
       "\\item 4.37839913694832\n",
       "\\end{enumerate*}\n",
       "\n",
       "\\item \\begin{enumerate*}\n",
       "\\item 6.18480918294457\n",
       "\\item 6.39213774890366\n",
       "\\item 5.18589970732364\n",
       "\\item 4.84325344736316\n",
       "\\item 3.8706132986631\n",
       "\\end{enumerate*}\n",
       "\n",
       "\\end{enumerate}\n"
      ],
      "text/markdown": [
       "1. 0.470649043219121\n",
       "2. 1. 2.76012678473544\n",
       "2. 4.22988683850426\n",
       "\n",
       "\n",
       "\n",
       "3. 1. 3.46799849085074\n",
       "2. 4.49166080063884\n",
       "3. 1.95770617183242\n",
       "\n",
       "\n",
       "\n",
       "4. 1. 3.61918169030371\n",
       "2. 2.93273309447204\n",
       "3. 2.43065674642697\n",
       "4. 4.37839913694832\n",
       "\n",
       "\n",
       "\n",
       "5. 1. 6.18480918294457\n",
       "2. 6.39213774890366\n",
       "3. 5.18589970732364\n",
       "4. 4.84325344736316\n",
       "5. 3.8706132986631\n",
       "\n",
       "\n",
       "\n",
       "\n",
       "\n"
      ],
      "text/plain": [
       "[[1]]\n",
       "[1] 0.470649\n",
       "\n",
       "[[2]]\n",
       "[1] 2.760127 4.229887\n",
       "\n",
       "[[3]]\n",
       "[1] 3.467998 4.491661 1.957706\n",
       "\n",
       "[[4]]\n",
       "[1] 3.619182 2.932733 2.430657 4.378399\n",
       "\n",
       "[[5]]\n",
       "[1] 6.184809 6.392138 5.185900 4.843253 3.870613\n"
      ]
     },
     "metadata": {},
     "output_type": "display_data"
    }
   ],
   "source": [
    "list(noise(1,1,2), noise(2,2,2), noise(3,3,2), noise(4,4,2), noise(5,5,2))"
   ]
  },
  {
   "cell_type": "markdown",
   "metadata": {},
   "source": [
    "So, mapply basically allows vectorization of functions which do not allow vectorized inputs."
   ]
  },
  {
   "cell_type": "markdown",
   "metadata": {},
   "source": [
    "## Tapply"
   ]
  },
  {
   "cell_type": "markdown",
   "metadata": {},
   "source": [
    "Apply a function over subsets of a vector"
   ]
  },
  {
   "cell_type": "code",
   "execution_count": 12,
   "metadata": {},
   "outputs": [
    {
     "name": "stdout",
     "output_type": "stream",
     "text": [
      "function (X, INDEX, FUN = NULL, ..., default = NA, simplify = TRUE)  \n"
     ]
    }
   ],
   "source": [
    "str(tapply)"
   ]
  },
  {
   "cell_type": "markdown",
   "metadata": {},
   "source": [
    "Example: Take Group means:"
   ]
  },
  {
   "cell_type": "code",
   "execution_count": 13,
   "metadata": {},
   "outputs": [
    {
     "data": {
      "text/html": [
       "<ol class=list-inline>\n",
       "\t<li>1</li>\n",
       "\t<li>1</li>\n",
       "\t<li>1</li>\n",
       "\t<li>1</li>\n",
       "\t<li>1</li>\n",
       "\t<li>1</li>\n",
       "\t<li>1</li>\n",
       "\t<li>1</li>\n",
       "\t<li>1</li>\n",
       "\t<li>1</li>\n",
       "\t<li>2</li>\n",
       "\t<li>2</li>\n",
       "\t<li>2</li>\n",
       "\t<li>2</li>\n",
       "\t<li>2</li>\n",
       "\t<li>2</li>\n",
       "\t<li>2</li>\n",
       "\t<li>2</li>\n",
       "\t<li>2</li>\n",
       "\t<li>2</li>\n",
       "\t<li>3</li>\n",
       "\t<li>3</li>\n",
       "\t<li>3</li>\n",
       "\t<li>3</li>\n",
       "\t<li>3</li>\n",
       "\t<li>3</li>\n",
       "\t<li>3</li>\n",
       "\t<li>3</li>\n",
       "\t<li>3</li>\n",
       "\t<li>3</li>\n",
       "</ol>\n",
       "\n",
       "<details>\n",
       "\t<summary style=display:list-item;cursor:pointer>\n",
       "\t\t<strong>Levels</strong>:\n",
       "\t</summary>\n",
       "\t<ol class=list-inline>\n",
       "\t\t<li>'1'</li>\n",
       "\t\t<li>'2'</li>\n",
       "\t\t<li>'3'</li>\n",
       "\t</ol>\n",
       "</details>"
      ],
      "text/latex": [
       "\\begin{enumerate*}\n",
       "\\item 1\n",
       "\\item 1\n",
       "\\item 1\n",
       "\\item 1\n",
       "\\item 1\n",
       "\\item 1\n",
       "\\item 1\n",
       "\\item 1\n",
       "\\item 1\n",
       "\\item 1\n",
       "\\item 2\n",
       "\\item 2\n",
       "\\item 2\n",
       "\\item 2\n",
       "\\item 2\n",
       "\\item 2\n",
       "\\item 2\n",
       "\\item 2\n",
       "\\item 2\n",
       "\\item 2\n",
       "\\item 3\n",
       "\\item 3\n",
       "\\item 3\n",
       "\\item 3\n",
       "\\item 3\n",
       "\\item 3\n",
       "\\item 3\n",
       "\\item 3\n",
       "\\item 3\n",
       "\\item 3\n",
       "\\end{enumerate*}\n",
       "\n",
       "\\emph{Levels}: \\begin{enumerate*}\n",
       "\\item '1'\n",
       "\\item '2'\n",
       "\\item '3'\n",
       "\\end{enumerate*}\n"
      ],
      "text/markdown": [
       "1. 1\n",
       "2. 1\n",
       "3. 1\n",
       "4. 1\n",
       "5. 1\n",
       "6. 1\n",
       "7. 1\n",
       "8. 1\n",
       "9. 1\n",
       "10. 1\n",
       "11. 2\n",
       "12. 2\n",
       "13. 2\n",
       "14. 2\n",
       "15. 2\n",
       "16. 2\n",
       "17. 2\n",
       "18. 2\n",
       "19. 2\n",
       "20. 2\n",
       "21. 3\n",
       "22. 3\n",
       "23. 3\n",
       "24. 3\n",
       "25. 3\n",
       "26. 3\n",
       "27. 3\n",
       "28. 3\n",
       "29. 3\n",
       "30. 3\n",
       "\n",
       "\n",
       "\n",
       "**Levels**: 1. '1'\n",
       "2. '2'\n",
       "3. '3'\n",
       "\n",
       "\n"
      ],
      "text/plain": [
       " [1] 1 1 1 1 1 1 1 1 1 1 2 2 2 2 2 2 2 2 2 2 3 3 3 3 3 3 3 3 3 3\n",
       "Levels: 1 2 3"
      ]
     },
     "metadata": {},
     "output_type": "display_data"
    }
   ],
   "source": [
    "x <- c(rnorm(10), runif(10), rnorm(10,1)) # 3 groups of random data\n",
    "f <- gl(3,10) # set group indices\n",
    "f"
   ]
  },
  {
   "cell_type": "code",
   "execution_count": 14,
   "metadata": {},
   "outputs": [
    {
     "data": {
      "text/html": [
       "<dl class=dl-horizontal>\n",
       "\t<dt>1</dt>\n",
       "\t\t<dd>-0.104298080906668</dd>\n",
       "\t<dt>2</dt>\n",
       "\t\t<dd>0.475305753131397</dd>\n",
       "\t<dt>3</dt>\n",
       "\t\t<dd>1.22805177664688</dd>\n",
       "</dl>\n"
      ],
      "text/latex": [
       "\\begin{description*}\n",
       "\\item[1] -0.104298080906668\n",
       "\\item[2] 0.475305753131397\n",
       "\\item[3] 1.22805177664688\n",
       "\\end{description*}\n"
      ],
      "text/markdown": [
       "1\n",
       ":   -0.1042980809066682\n",
       ":   0.4753057531313973\n",
       ":   1.22805177664688\n",
       "\n"
      ],
      "text/plain": [
       "         1          2          3 \n",
       "-0.1042981  0.4753058  1.2280518 "
      ]
     },
     "metadata": {},
     "output_type": "display_data"
    }
   ],
   "source": [
    "tapply(x, f, mean) # mean across the 3 groups"
   ]
  },
  {
   "cell_type": "markdown",
   "metadata": {},
   "source": [
    "Personally, though, I feel that this is a clumsy method."
   ]
  },
  {
   "cell_type": "code",
   "execution_count": 15,
   "metadata": {},
   "outputs": [
    {
     "data": {
      "text/html": [
       "<dl>\n",
       "\t<dt>$`1`</dt>\n",
       "\t\t<dd>-0.104298080906668</dd>\n",
       "\t<dt>$`2`</dt>\n",
       "\t\t<dd>0.475305753131397</dd>\n",
       "\t<dt>$`3`</dt>\n",
       "\t\t<dd>1.22805177664688</dd>\n",
       "</dl>\n"
      ],
      "text/latex": [
       "\\begin{description}\n",
       "\\item[\\$`1`] -0.104298080906668\n",
       "\\item[\\$`2`] 0.475305753131397\n",
       "\\item[\\$`3`] 1.22805177664688\n",
       "\\end{description}\n"
      ],
      "text/markdown": [
       "$`1`\n",
       ":   -0.104298080906668\n",
       "$`2`\n",
       ":   0.475305753131397\n",
       "$`3`\n",
       ":   1.22805177664688\n",
       "\n",
       "\n"
      ],
      "text/plain": [
       "$`1`\n",
       "[1] -0.1042981\n",
       "\n",
       "$`2`\n",
       "[1] 0.4753058\n",
       "\n",
       "$`3`\n",
       "[1] 1.228052\n"
      ]
     },
     "metadata": {},
     "output_type": "display_data"
    }
   ],
   "source": [
    "tapply(x, f, mean, simplify = FALSE) # returns a list"
   ]
  },
  {
   "cell_type": "code",
   "execution_count": 17,
   "metadata": {},
   "outputs": [
    {
     "data": {
      "text/html": [
       "<dl>\n",
       "\t<dt>$`1`</dt>\n",
       "\t\t<dd><ol class=list-inline>\n",
       "\t<li>-2.92690732297943</li>\n",
       "\t<li>1.05333611023224</li>\n",
       "</ol>\n",
       "</dd>\n",
       "\t<dt>$`2`</dt>\n",
       "\t\t<dd><ol class=list-inline>\n",
       "\t<li>0.22069812240079</li>\n",
       "\t<li>0.908096693921834</li>\n",
       "</ol>\n",
       "</dd>\n",
       "\t<dt>$`3`</dt>\n",
       "\t\t<dd><ol class=list-inline>\n",
       "\t<li>-0.26554755449905</li>\n",
       "\t<li>2.59394133402219</li>\n",
       "</ol>\n",
       "</dd>\n",
       "</dl>\n"
      ],
      "text/latex": [
       "\\begin{description}\n",
       "\\item[\\$`1`] \\begin{enumerate*}\n",
       "\\item -2.92690732297943\n",
       "\\item 1.05333611023224\n",
       "\\end{enumerate*}\n",
       "\n",
       "\\item[\\$`2`] \\begin{enumerate*}\n",
       "\\item 0.22069812240079\n",
       "\\item 0.908096693921834\n",
       "\\end{enumerate*}\n",
       "\n",
       "\\item[\\$`3`] \\begin{enumerate*}\n",
       "\\item -0.26554755449905\n",
       "\\item 2.59394133402219\n",
       "\\end{enumerate*}\n",
       "\n",
       "\\end{description}\n"
      ],
      "text/markdown": [
       "$`1`\n",
       ":   1. -2.92690732297943\n",
       "2. 1.05333611023224\n",
       "\n",
       "\n",
       "\n",
       "$`2`\n",
       ":   1. 0.22069812240079\n",
       "2. 0.908096693921834\n",
       "\n",
       "\n",
       "\n",
       "$`3`\n",
       ":   1. -0.26554755449905\n",
       "2. 2.59394133402219\n",
       "\n",
       "\n",
       "\n",
       "\n",
       "\n"
      ],
      "text/plain": [
       "$`1`\n",
       "[1] -2.926907  1.053336\n",
       "\n",
       "$`2`\n",
       "[1] 0.2206981 0.9080967\n",
       "\n",
       "$`3`\n",
       "[1] -0.2655476  2.5939413\n"
      ]
     },
     "metadata": {},
     "output_type": "display_data"
    }
   ],
   "source": [
    "tapply(x, f, range) # calculate the range"
   ]
  },
  {
   "cell_type": "markdown",
   "metadata": {},
   "source": [
    "## Split"
   ]
  },
  {
   "cell_type": "code",
   "execution_count": 18,
   "metadata": {},
   "outputs": [
    {
     "name": "stdout",
     "output_type": "stream",
     "text": [
      "function (x, f, drop = FALSE, ...)  \n"
     ]
    }
   ],
   "source": [
    "str(split)"
   ]
  },
  {
   "cell_type": "markdown",
   "metadata": {},
   "source": [
    "splits vectors/objects and splits it into groups determined by a factor or list of factors"
   ]
  },
  {
   "cell_type": "code",
   "execution_count": 20,
   "metadata": {},
   "outputs": [
    {
     "data": {
      "text/html": [
       "<dl>\n",
       "\t<dt>$`1`</dt>\n",
       "\t\t<dd><ol class=list-inline>\n",
       "\t<li>-0.81450188113999</li>\n",
       "\t<li>0.956346444813344</li>\n",
       "\t<li>1.07392417101139</li>\n",
       "\t<li>0.0883703581188085</li>\n",
       "\t<li>0.982616855772864</li>\n",
       "\t<li>0.00807738724632406</li>\n",
       "\t<li>-1.14606935559869</li>\n",
       "\t<li>0.267315747579396</li>\n",
       "\t<li>-0.776605102002494</li>\n",
       "\t<li>0.308211798404136</li>\n",
       "</ol>\n",
       "</dd>\n",
       "\t<dt>$`2`</dt>\n",
       "\t\t<dd><ol class=list-inline>\n",
       "\t<li>0.953753705369309</li>\n",
       "\t<li>0.325896728783846</li>\n",
       "\t<li>0.0284644223283976</li>\n",
       "\t<li>0.270244147395715</li>\n",
       "\t<li>0.300187862943858</li>\n",
       "\t<li>0.11405355646275</li>\n",
       "\t<li>0.510874593397602</li>\n",
       "\t<li>0.942868591286242</li>\n",
       "\t<li>0.766261165728793</li>\n",
       "\t<li>0.00340464618057013</li>\n",
       "</ol>\n",
       "</dd>\n",
       "\t<dt>$`3`</dt>\n",
       "\t\t<dd><ol class=list-inline>\n",
       "\t<li>1.42056912862914</li>\n",
       "\t<li>0.754736173251189</li>\n",
       "\t<li>0.507246512132816</li>\n",
       "\t<li>2.39755038080303</li>\n",
       "\t<li>0.501703085432787</li>\n",
       "\t<li>2.15663430929811</li>\n",
       "\t<li>-0.794128088322702</li>\n",
       "\t<li>0.632969807520362</li>\n",
       "\t<li>2.33753221572466</li>\n",
       "\t<li>2.33561894038925</li>\n",
       "</ol>\n",
       "</dd>\n",
       "</dl>\n"
      ],
      "text/latex": [
       "\\begin{description}\n",
       "\\item[\\$`1`] \\begin{enumerate*}\n",
       "\\item -0.81450188113999\n",
       "\\item 0.956346444813344\n",
       "\\item 1.07392417101139\n",
       "\\item 0.0883703581188085\n",
       "\\item 0.982616855772864\n",
       "\\item 0.00807738724632406\n",
       "\\item -1.14606935559869\n",
       "\\item 0.267315747579396\n",
       "\\item -0.776605102002494\n",
       "\\item 0.308211798404136\n",
       "\\end{enumerate*}\n",
       "\n",
       "\\item[\\$`2`] \\begin{enumerate*}\n",
       "\\item 0.953753705369309\n",
       "\\item 0.325896728783846\n",
       "\\item 0.0284644223283976\n",
       "\\item 0.270244147395715\n",
       "\\item 0.300187862943858\n",
       "\\item 0.11405355646275\n",
       "\\item 0.510874593397602\n",
       "\\item 0.942868591286242\n",
       "\\item 0.766261165728793\n",
       "\\item 0.00340464618057013\n",
       "\\end{enumerate*}\n",
       "\n",
       "\\item[\\$`3`] \\begin{enumerate*}\n",
       "\\item 1.42056912862914\n",
       "\\item 0.754736173251189\n",
       "\\item 0.507246512132816\n",
       "\\item 2.39755038080303\n",
       "\\item 0.501703085432787\n",
       "\\item 2.15663430929811\n",
       "\\item -0.794128088322702\n",
       "\\item 0.632969807520362\n",
       "\\item 2.33753221572466\n",
       "\\item 2.33561894038925\n",
       "\\end{enumerate*}\n",
       "\n",
       "\\end{description}\n"
      ],
      "text/markdown": [
       "$`1`\n",
       ":   1. -0.81450188113999\n",
       "2. 0.956346444813344\n",
       "3. 1.07392417101139\n",
       "4. 0.0883703581188085\n",
       "5. 0.982616855772864\n",
       "6. 0.00807738724632406\n",
       "7. -1.14606935559869\n",
       "8. 0.267315747579396\n",
       "9. -0.776605102002494\n",
       "10. 0.308211798404136\n",
       "\n",
       "\n",
       "\n",
       "$`2`\n",
       ":   1. 0.953753705369309\n",
       "2. 0.325896728783846\n",
       "3. 0.0284644223283976\n",
       "4. 0.270244147395715\n",
       "5. 0.300187862943858\n",
       "6. 0.11405355646275\n",
       "7. 0.510874593397602\n",
       "8. 0.942868591286242\n",
       "9. 0.766261165728793\n",
       "10. 0.00340464618057013\n",
       "\n",
       "\n",
       "\n",
       "$`3`\n",
       ":   1. 1.42056912862914\n",
       "2. 0.754736173251189\n",
       "3. 0.507246512132816\n",
       "4. 2.39755038080303\n",
       "5. 0.501703085432787\n",
       "6. 2.15663430929811\n",
       "7. -0.794128088322702\n",
       "8. 0.632969807520362\n",
       "9. 2.33753221572466\n",
       "10. 2.33561894038925\n",
       "\n",
       "\n",
       "\n",
       "\n",
       "\n"
      ],
      "text/plain": [
       "$`1`\n",
       " [1] -0.814501881  0.956346445  1.073924171  0.088370358  0.982616856\n",
       " [6]  0.008077387 -1.146069356  0.267315748 -0.776605102  0.308211798\n",
       "\n",
       "$`2`\n",
       " [1] 0.953753705 0.325896729 0.028464422 0.270244147 0.300187863 0.114053556\n",
       " [7] 0.510874593 0.942868591 0.766261166 0.003404646\n",
       "\n",
       "$`3`\n",
       " [1]  1.4205691  0.7547362  0.5072465  2.3975504  0.5017031  2.1566343\n",
       " [7] -0.7941281  0.6329698  2.3375322  2.3356189\n"
      ]
     },
     "metadata": {},
     "output_type": "display_data"
    }
   ],
   "source": [
    "x <- c(rnorm(10), runif(10), rnorm(10,1)) # 3 groups of random data\n",
    "f <- gl(3,10) # set group indices\n",
    "split(x,f) # splitting into 3 parts"
   ]
  },
  {
   "cell_type": "markdown",
   "metadata": {},
   "source": [
    "Common idea: using lapply and split in conjunction"
   ]
  },
  {
   "cell_type": "code",
   "execution_count": 21,
   "metadata": {},
   "outputs": [
    {
     "data": {
      "text/html": [
       "<dl>\n",
       "\t<dt>$`1`</dt>\n",
       "\t\t<dd>0.0947686424205089</dd>\n",
       "\t<dt>$`2`</dt>\n",
       "\t\t<dd>0.421600941987708</dd>\n",
       "\t<dt>$`3`</dt>\n",
       "\t\t<dd>1.22504324648586</dd>\n",
       "</dl>\n"
      ],
      "text/latex": [
       "\\begin{description}\n",
       "\\item[\\$`1`] 0.0947686424205089\n",
       "\\item[\\$`2`] 0.421600941987708\n",
       "\\item[\\$`3`] 1.22504324648586\n",
       "\\end{description}\n"
      ],
      "text/markdown": [
       "$`1`\n",
       ":   0.0947686424205089\n",
       "$`2`\n",
       ":   0.421600941987708\n",
       "$`3`\n",
       ":   1.22504324648586\n",
       "\n",
       "\n"
      ],
      "text/plain": [
       "$`1`\n",
       "[1] 0.09476864\n",
       "\n",
       "$`2`\n",
       "[1] 0.4216009\n",
       "\n",
       "$`3`\n",
       "[1] 1.225043\n"
      ]
     },
     "metadata": {},
     "output_type": "display_data"
    }
   ],
   "source": [
    "lapply(split(x,f), mean)"
   ]
  },
  {
   "cell_type": "code",
   "execution_count": 22,
   "metadata": {},
   "outputs": [
    {
     "data": {
      "text/html": [
       "<dl class=dl-horizontal>\n",
       "\t<dt>1</dt>\n",
       "\t\t<dd>0.0947686424205089</dd>\n",
       "\t<dt>2</dt>\n",
       "\t\t<dd>0.421600941987708</dd>\n",
       "\t<dt>3</dt>\n",
       "\t\t<dd>1.22504324648586</dd>\n",
       "</dl>\n"
      ],
      "text/latex": [
       "\\begin{description*}\n",
       "\\item[1] 0.0947686424205089\n",
       "\\item[2] 0.421600941987708\n",
       "\\item[3] 1.22504324648586\n",
       "\\end{description*}\n"
      ],
      "text/markdown": [
       "1\n",
       ":   0.09476864242050892\n",
       ":   0.4216009419877083\n",
       ":   1.22504324648586\n",
       "\n"
      ],
      "text/plain": [
       "         1          2          3 \n",
       "0.09476864 0.42160094 1.22504325 "
      ]
     },
     "metadata": {},
     "output_type": "display_data"
    }
   ],
   "source": [
    "# same as :\n",
    "tapply(x, f, mean)"
   ]
  },
  {
   "cell_type": "code",
   "execution_count": 25,
   "metadata": {},
   "outputs": [
    {
     "data": {
      "text/html": [
       "<table>\n",
       "<thead><tr><th scope=col>Ozone</th><th scope=col>Solar.R</th><th scope=col>Wind</th><th scope=col>Temp</th><th scope=col>Month</th><th scope=col>Day</th></tr></thead>\n",
       "<tbody>\n",
       "\t<tr><td>41  </td><td>190 </td><td> 7.4</td><td>67  </td><td>5   </td><td>1   </td></tr>\n",
       "\t<tr><td>36  </td><td>118 </td><td> 8.0</td><td>72  </td><td>5   </td><td>2   </td></tr>\n",
       "\t<tr><td>12  </td><td>149 </td><td>12.6</td><td>74  </td><td>5   </td><td>3   </td></tr>\n",
       "\t<tr><td>18  </td><td>313 </td><td>11.5</td><td>62  </td><td>5   </td><td>4   </td></tr>\n",
       "\t<tr><td>NA  </td><td> NA </td><td>14.3</td><td>56  </td><td>5   </td><td>5   </td></tr>\n",
       "\t<tr><td>28  </td><td> NA </td><td>14.9</td><td>66  </td><td>5   </td><td>6   </td></tr>\n",
       "</tbody>\n",
       "</table>\n"
      ],
      "text/latex": [
       "\\begin{tabular}{r|llllll}\n",
       " Ozone & Solar.R & Wind & Temp & Month & Day\\\\\n",
       "\\hline\n",
       "\t 41   & 190  &  7.4 & 67   & 5    & 1   \\\\\n",
       "\t 36   & 118  &  8.0 & 72   & 5    & 2   \\\\\n",
       "\t 12   & 149  & 12.6 & 74   & 5    & 3   \\\\\n",
       "\t 18   & 313  & 11.5 & 62   & 5    & 4   \\\\\n",
       "\t NA   &  NA  & 14.3 & 56   & 5    & 5   \\\\\n",
       "\t 28   &  NA  & 14.9 & 66   & 5    & 6   \\\\\n",
       "\\end{tabular}\n"
      ],
      "text/markdown": [
       "\n",
       "| Ozone | Solar.R | Wind | Temp | Month | Day |\n",
       "|---|---|---|---|---|---|\n",
       "| 41   | 190  |  7.4 | 67   | 5    | 1    |\n",
       "| 36   | 118  |  8.0 | 72   | 5    | 2    |\n",
       "| 12   | 149  | 12.6 | 74   | 5    | 3    |\n",
       "| 18   | 313  | 11.5 | 62   | 5    | 4    |\n",
       "| NA   |  NA  | 14.3 | 56   | 5    | 5    |\n",
       "| 28   |  NA  | 14.9 | 66   | 5    | 6    |\n",
       "\n"
      ],
      "text/plain": [
       "  Ozone Solar.R Wind Temp Month Day\n",
       "1 41    190      7.4 67   5     1  \n",
       "2 36    118      8.0 72   5     2  \n",
       "3 12    149     12.6 74   5     3  \n",
       "4 18    313     11.5 62   5     4  \n",
       "5 NA     NA     14.3 56   5     5  \n",
       "6 28     NA     14.9 66   5     6  "
      ]
     },
     "metadata": {},
     "output_type": "display_data"
    }
   ],
   "source": [
    "library(datasets)\n",
    "head(airquality)"
   ]
  },
  {
   "cell_type": "code",
   "execution_count": 27,
   "metadata": {},
   "outputs": [],
   "source": [
    "s <- split(airquality, airquality$Month) # split according to the months"
   ]
  },
  {
   "cell_type": "code",
   "execution_count": 31,
   "metadata": {},
   "outputs": [
    {
     "data": {
      "text/html": [
       "<dl>\n",
       "\t<dt>$`5`</dt>\n",
       "\t\t<dd><dl class=dl-horizontal>\n",
       "\t<dt>Ozone</dt>\n",
       "\t\t<dd>&lt;NA&gt;</dd>\n",
       "\t<dt>Solar.R</dt>\n",
       "\t\t<dd>&lt;NA&gt;</dd>\n",
       "\t<dt>Wind</dt>\n",
       "\t\t<dd>11.6225806451613</dd>\n",
       "</dl>\n",
       "</dd>\n",
       "\t<dt>$`6`</dt>\n",
       "\t\t<dd><dl class=dl-horizontal>\n",
       "\t<dt>Ozone</dt>\n",
       "\t\t<dd>&lt;NA&gt;</dd>\n",
       "\t<dt>Solar.R</dt>\n",
       "\t\t<dd>190.166666666667</dd>\n",
       "\t<dt>Wind</dt>\n",
       "\t\t<dd>10.2666666666667</dd>\n",
       "</dl>\n",
       "</dd>\n",
       "\t<dt>$`7`</dt>\n",
       "\t\t<dd><dl class=dl-horizontal>\n",
       "\t<dt>Ozone</dt>\n",
       "\t\t<dd>&lt;NA&gt;</dd>\n",
       "\t<dt>Solar.R</dt>\n",
       "\t\t<dd>216.483870967742</dd>\n",
       "\t<dt>Wind</dt>\n",
       "\t\t<dd>8.94193548387097</dd>\n",
       "</dl>\n",
       "</dd>\n",
       "\t<dt>$`8`</dt>\n",
       "\t\t<dd><dl class=dl-horizontal>\n",
       "\t<dt>Ozone</dt>\n",
       "\t\t<dd>&lt;NA&gt;</dd>\n",
       "\t<dt>Solar.R</dt>\n",
       "\t\t<dd>&lt;NA&gt;</dd>\n",
       "\t<dt>Wind</dt>\n",
       "\t\t<dd>8.79354838709677</dd>\n",
       "</dl>\n",
       "</dd>\n",
       "\t<dt>$`9`</dt>\n",
       "\t\t<dd><dl class=dl-horizontal>\n",
       "\t<dt>Ozone</dt>\n",
       "\t\t<dd>&lt;NA&gt;</dd>\n",
       "\t<dt>Solar.R</dt>\n",
       "\t\t<dd>167.433333333333</dd>\n",
       "\t<dt>Wind</dt>\n",
       "\t\t<dd>10.18</dd>\n",
       "</dl>\n",
       "</dd>\n",
       "</dl>\n"
      ],
      "text/latex": [
       "\\begin{description}\n",
       "\\item[\\$`5`] \\begin{description*}\n",
       "\\item[Ozone] <NA>\n",
       "\\item[Solar.R] <NA>\n",
       "\\item[Wind] 11.6225806451613\n",
       "\\end{description*}\n",
       "\n",
       "\\item[\\$`6`] \\begin{description*}\n",
       "\\item[Ozone] <NA>\n",
       "\\item[Solar.R] 190.166666666667\n",
       "\\item[Wind] 10.2666666666667\n",
       "\\end{description*}\n",
       "\n",
       "\\item[\\$`7`] \\begin{description*}\n",
       "\\item[Ozone] <NA>\n",
       "\\item[Solar.R] 216.483870967742\n",
       "\\item[Wind] 8.94193548387097\n",
       "\\end{description*}\n",
       "\n",
       "\\item[\\$`8`] \\begin{description*}\n",
       "\\item[Ozone] <NA>\n",
       "\\item[Solar.R] <NA>\n",
       "\\item[Wind] 8.79354838709677\n",
       "\\end{description*}\n",
       "\n",
       "\\item[\\$`9`] \\begin{description*}\n",
       "\\item[Ozone] <NA>\n",
       "\\item[Solar.R] 167.433333333333\n",
       "\\item[Wind] 10.18\n",
       "\\end{description*}\n",
       "\n",
       "\\end{description}\n"
      ],
      "text/markdown": [
       "$`5`\n",
       ":   Ozone\n",
       ":   &lt;NA&gt;Solar.R\n",
       ":   &lt;NA&gt;Wind\n",
       ":   11.6225806451613\n",
       "\n",
       "\n",
       "$`6`\n",
       ":   Ozone\n",
       ":   &lt;NA&gt;Solar.R\n",
       ":   190.166666666667Wind\n",
       ":   10.2666666666667\n",
       "\n",
       "\n",
       "$`7`\n",
       ":   Ozone\n",
       ":   &lt;NA&gt;Solar.R\n",
       ":   216.483870967742Wind\n",
       ":   8.94193548387097\n",
       "\n",
       "\n",
       "$`8`\n",
       ":   Ozone\n",
       ":   &lt;NA&gt;Solar.R\n",
       ":   &lt;NA&gt;Wind\n",
       ":   8.79354838709677\n",
       "\n",
       "\n",
       "$`9`\n",
       ":   Ozone\n",
       ":   &lt;NA&gt;Solar.R\n",
       ":   167.433333333333Wind\n",
       ":   10.18\n",
       "\n",
       "\n",
       "\n",
       "\n"
      ],
      "text/plain": [
       "$`5`\n",
       "   Ozone  Solar.R     Wind \n",
       "      NA       NA 11.62258 \n",
       "\n",
       "$`6`\n",
       "    Ozone   Solar.R      Wind \n",
       "       NA 190.16667  10.26667 \n",
       "\n",
       "$`7`\n",
       "     Ozone    Solar.R       Wind \n",
       "        NA 216.483871   8.941935 \n",
       "\n",
       "$`8`\n",
       "   Ozone  Solar.R     Wind \n",
       "      NA       NA 8.793548 \n",
       "\n",
       "$`9`\n",
       "   Ozone  Solar.R     Wind \n",
       "      NA 167.4333  10.1800 \n"
      ]
     },
     "metadata": {},
     "output_type": "display_data"
    }
   ],
   "source": [
    "lapply(s, function(x) colMeans(x[, c(\"Ozone\", \"Solar.R\", \"Wind\")]))"
   ]
  },
  {
   "cell_type": "code",
   "execution_count": 32,
   "metadata": {},
   "outputs": [
    {
     "data": {
      "text/html": [
       "<table>\n",
       "<thead><tr><th></th><th scope=col>5</th><th scope=col>6</th><th scope=col>7</th><th scope=col>8</th><th scope=col>9</th></tr></thead>\n",
       "<tbody>\n",
       "\t<tr><th scope=row>Ozone</th><td>      NA  </td><td>       NA </td><td>        NA</td><td>      NA  </td><td>      NA  </td></tr>\n",
       "\t<tr><th scope=row>Solar.R</th><td>      NA  </td><td>190.16667 </td><td>216.483871</td><td>      NA  </td><td>167.4333  </td></tr>\n",
       "\t<tr><th scope=row>Wind</th><td>11.62258  </td><td> 10.26667 </td><td>  8.941935</td><td>8.793548  </td><td> 10.1800  </td></tr>\n",
       "</tbody>\n",
       "</table>\n"
      ],
      "text/latex": [
       "\\begin{tabular}{r|lllll}\n",
       "  & 5 & 6 & 7 & 8 & 9\\\\\n",
       "\\hline\n",
       "\tOzone &       NA   &        NA  &         NA &       NA   &       NA  \\\\\n",
       "\tSolar.R &       NA   & 190.16667  & 216.483871 &       NA   & 167.4333  \\\\\n",
       "\tWind & 11.62258   &  10.26667  &   8.941935 & 8.793548   &  10.1800  \\\\\n",
       "\\end{tabular}\n"
      ],
      "text/markdown": [
       "\n",
       "| <!--/--> | 5 | 6 | 7 | 8 | 9 |\n",
       "|---|---|---|---|---|---|\n",
       "| Ozone |       NA   |        NA  |         NA |       NA   |       NA   |\n",
       "| Solar.R |       NA   | 190.16667  | 216.483871 |       NA   | 167.4333   |\n",
       "| Wind | 11.62258   |  10.26667  |   8.941935 | 8.793548   |  10.1800   |\n",
       "\n"
      ],
      "text/plain": [
       "        5        6         7          8        9       \n",
       "Ozone         NA        NA         NA       NA       NA\n",
       "Solar.R       NA 190.16667 216.483871       NA 167.4333\n",
       "Wind    11.62258  10.26667   8.941935 8.793548  10.1800"
      ]
     },
     "metadata": {},
     "output_type": "display_data"
    }
   ],
   "source": [
    "sapply(s, function(x) colMeans(x[, c(\"Ozone\", \"Solar.R\", \"Wind\")])) #simplifies the results"
   ]
  },
  {
   "cell_type": "code",
   "execution_count": 33,
   "metadata": {},
   "outputs": [
    {
     "data": {
      "text/html": [
       "<table>\n",
       "<thead><tr><th></th><th scope=col>5</th><th scope=col>6</th><th scope=col>7</th><th scope=col>8</th><th scope=col>9</th></tr></thead>\n",
       "<tbody>\n",
       "\t<tr><th scope=row>Ozone</th><td> 23.61538 </td><td> 29.44444 </td><td> 59.115385</td><td> 59.961538</td><td> 31.44828 </td></tr>\n",
       "\t<tr><th scope=row>Solar.R</th><td>181.29630 </td><td>190.16667 </td><td>216.483871</td><td>171.857143</td><td>167.43333 </td></tr>\n",
       "\t<tr><th scope=row>Wind</th><td> 11.62258 </td><td> 10.26667 </td><td>  8.941935</td><td>  8.793548</td><td> 10.18000 </td></tr>\n",
       "</tbody>\n",
       "</table>\n"
      ],
      "text/latex": [
       "\\begin{tabular}{r|lllll}\n",
       "  & 5 & 6 & 7 & 8 & 9\\\\\n",
       "\\hline\n",
       "\tOzone &  23.61538  &  29.44444  &  59.115385 &  59.961538 &  31.44828 \\\\\n",
       "\tSolar.R & 181.29630  & 190.16667  & 216.483871 & 171.857143 & 167.43333 \\\\\n",
       "\tWind &  11.62258  &  10.26667  &   8.941935 &   8.793548 &  10.18000 \\\\\n",
       "\\end{tabular}\n"
      ],
      "text/markdown": [
       "\n",
       "| <!--/--> | 5 | 6 | 7 | 8 | 9 |\n",
       "|---|---|---|---|---|---|\n",
       "| Ozone |  23.61538  |  29.44444  |  59.115385 |  59.961538 |  31.44828  |\n",
       "| Solar.R | 181.29630  | 190.16667  | 216.483871 | 171.857143 | 167.43333  |\n",
       "| Wind |  11.62258  |  10.26667  |   8.941935 |   8.793548 |  10.18000  |\n",
       "\n"
      ],
      "text/plain": [
       "        5         6         7          8          9        \n",
       "Ozone    23.61538  29.44444  59.115385  59.961538  31.44828\n",
       "Solar.R 181.29630 190.16667 216.483871 171.857143 167.43333\n",
       "Wind     11.62258  10.26667   8.941935   8.793548  10.18000"
      ]
     },
     "metadata": {},
     "output_type": "display_data"
    }
   ],
   "source": [
    "sapply(s, function(x) colMeans(x[, c(\"Ozone\", \"Solar.R\", \"Wind\")], na.rm = TRUE)) #remove missing values"
   ]
  },
  {
   "cell_type": "markdown",
   "metadata": {},
   "source": [
    "Splitting on More than one level:"
   ]
  },
  {
   "cell_type": "code",
   "execution_count": 34,
   "metadata": {},
   "outputs": [
    {
     "data": {
      "text/html": [
       "<ol class=list-inline>\n",
       "\t<li>1</li>\n",
       "\t<li>1</li>\n",
       "\t<li>1</li>\n",
       "\t<li>1</li>\n",
       "\t<li>1</li>\n",
       "\t<li>2</li>\n",
       "\t<li>2</li>\n",
       "\t<li>2</li>\n",
       "\t<li>2</li>\n",
       "\t<li>2</li>\n",
       "</ol>\n",
       "\n",
       "<details>\n",
       "\t<summary style=display:list-item;cursor:pointer>\n",
       "\t\t<strong>Levels</strong>:\n",
       "\t</summary>\n",
       "\t<ol class=list-inline>\n",
       "\t\t<li>'1'</li>\n",
       "\t\t<li>'2'</li>\n",
       "\t</ol>\n",
       "</details>"
      ],
      "text/latex": [
       "\\begin{enumerate*}\n",
       "\\item 1\n",
       "\\item 1\n",
       "\\item 1\n",
       "\\item 1\n",
       "\\item 1\n",
       "\\item 2\n",
       "\\item 2\n",
       "\\item 2\n",
       "\\item 2\n",
       "\\item 2\n",
       "\\end{enumerate*}\n",
       "\n",
       "\\emph{Levels}: \\begin{enumerate*}\n",
       "\\item '1'\n",
       "\\item '2'\n",
       "\\end{enumerate*}\n"
      ],
      "text/markdown": [
       "1. 1\n",
       "2. 1\n",
       "3. 1\n",
       "4. 1\n",
       "5. 1\n",
       "6. 2\n",
       "7. 2\n",
       "8. 2\n",
       "9. 2\n",
       "10. 2\n",
       "\n",
       "\n",
       "\n",
       "**Levels**: 1. '1'\n",
       "2. '2'\n",
       "\n",
       "\n"
      ],
      "text/plain": [
       " [1] 1 1 1 1 1 2 2 2 2 2\n",
       "Levels: 1 2"
      ]
     },
     "metadata": {},
     "output_type": "display_data"
    }
   ],
   "source": [
    "x <- rnorm(10)\n",
    "f1 <- gl(2,5)\n",
    "f2 <- gl(5,2)\n",
    "f1"
   ]
  },
  {
   "cell_type": "code",
   "execution_count": 35,
   "metadata": {},
   "outputs": [
    {
     "data": {
      "text/html": [
       "<ol class=list-inline>\n",
       "\t<li>1</li>\n",
       "\t<li>1</li>\n",
       "\t<li>2</li>\n",
       "\t<li>2</li>\n",
       "\t<li>3</li>\n",
       "\t<li>3</li>\n",
       "\t<li>4</li>\n",
       "\t<li>4</li>\n",
       "\t<li>5</li>\n",
       "\t<li>5</li>\n",
       "</ol>\n",
       "\n",
       "<details>\n",
       "\t<summary style=display:list-item;cursor:pointer>\n",
       "\t\t<strong>Levels</strong>:\n",
       "\t</summary>\n",
       "\t<ol class=list-inline>\n",
       "\t\t<li>'1'</li>\n",
       "\t\t<li>'2'</li>\n",
       "\t\t<li>'3'</li>\n",
       "\t\t<li>'4'</li>\n",
       "\t\t<li>'5'</li>\n",
       "\t</ol>\n",
       "</details>"
      ],
      "text/latex": [
       "\\begin{enumerate*}\n",
       "\\item 1\n",
       "\\item 1\n",
       "\\item 2\n",
       "\\item 2\n",
       "\\item 3\n",
       "\\item 3\n",
       "\\item 4\n",
       "\\item 4\n",
       "\\item 5\n",
       "\\item 5\n",
       "\\end{enumerate*}\n",
       "\n",
       "\\emph{Levels}: \\begin{enumerate*}\n",
       "\\item '1'\n",
       "\\item '2'\n",
       "\\item '3'\n",
       "\\item '4'\n",
       "\\item '5'\n",
       "\\end{enumerate*}\n"
      ],
      "text/markdown": [
       "1. 1\n",
       "2. 1\n",
       "3. 2\n",
       "4. 2\n",
       "5. 3\n",
       "6. 3\n",
       "7. 4\n",
       "8. 4\n",
       "9. 5\n",
       "10. 5\n",
       "\n",
       "\n",
       "\n",
       "**Levels**: 1. '1'\n",
       "2. '2'\n",
       "3. '3'\n",
       "4. '4'\n",
       "5. '5'\n",
       "\n",
       "\n"
      ],
      "text/plain": [
       " [1] 1 1 2 2 3 3 4 4 5 5\n",
       "Levels: 1 2 3 4 5"
      ]
     },
     "metadata": {},
     "output_type": "display_data"
    }
   ],
   "source": [
    "f2"
   ]
  },
  {
   "cell_type": "code",
   "execution_count": 36,
   "metadata": {},
   "outputs": [
    {
     "data": {
      "text/html": [
       "<ol class=list-inline>\n",
       "\t<li>1.1</li>\n",
       "\t<li>1.1</li>\n",
       "\t<li>1.2</li>\n",
       "\t<li>1.2</li>\n",
       "\t<li>1.3</li>\n",
       "\t<li>2.3</li>\n",
       "\t<li>2.4</li>\n",
       "\t<li>2.4</li>\n",
       "\t<li>2.5</li>\n",
       "\t<li>2.5</li>\n",
       "</ol>\n",
       "\n",
       "<details>\n",
       "\t<summary style=display:list-item;cursor:pointer>\n",
       "\t\t<strong>Levels</strong>:\n",
       "\t</summary>\n",
       "\t<ol class=list-inline>\n",
       "\t\t<li>'1.1'</li>\n",
       "\t\t<li>'2.1'</li>\n",
       "\t\t<li>'1.2'</li>\n",
       "\t\t<li>'2.2'</li>\n",
       "\t\t<li>'1.3'</li>\n",
       "\t\t<li>'2.3'</li>\n",
       "\t\t<li>'1.4'</li>\n",
       "\t\t<li>'2.4'</li>\n",
       "\t\t<li>'1.5'</li>\n",
       "\t\t<li>'2.5'</li>\n",
       "\t</ol>\n",
       "</details>"
      ],
      "text/latex": [
       "\\begin{enumerate*}\n",
       "\\item 1.1\n",
       "\\item 1.1\n",
       "\\item 1.2\n",
       "\\item 1.2\n",
       "\\item 1.3\n",
       "\\item 2.3\n",
       "\\item 2.4\n",
       "\\item 2.4\n",
       "\\item 2.5\n",
       "\\item 2.5\n",
       "\\end{enumerate*}\n",
       "\n",
       "\\emph{Levels}: \\begin{enumerate*}\n",
       "\\item '1.1'\n",
       "\\item '2.1'\n",
       "\\item '1.2'\n",
       "\\item '2.2'\n",
       "\\item '1.3'\n",
       "\\item '2.3'\n",
       "\\item '1.4'\n",
       "\\item '2.4'\n",
       "\\item '1.5'\n",
       "\\item '2.5'\n",
       "\\end{enumerate*}\n"
      ],
      "text/markdown": [
       "1. 1.1\n",
       "2. 1.1\n",
       "3. 1.2\n",
       "4. 1.2\n",
       "5. 1.3\n",
       "6. 2.3\n",
       "7. 2.4\n",
       "8. 2.4\n",
       "9. 2.5\n",
       "10. 2.5\n",
       "\n",
       "\n",
       "\n",
       "**Levels**: 1. '1.1'\n",
       "2. '2.1'\n",
       "3. '1.2'\n",
       "4. '2.2'\n",
       "5. '1.3'\n",
       "6. '2.3'\n",
       "7. '1.4'\n",
       "8. '2.4'\n",
       "9. '1.5'\n",
       "10. '2.5'\n",
       "\n",
       "\n"
      ],
      "text/plain": [
       " [1] 1.1 1.1 1.2 1.2 1.3 2.3 2.4 2.4 2.5 2.5\n",
       "Levels: 1.1 2.1 1.2 2.2 1.3 2.3 1.4 2.4 1.5 2.5"
      ]
     },
     "metadata": {},
     "output_type": "display_data"
    }
   ],
   "source": [
    "interaction(f1,f2)"
   ]
  },
  {
   "cell_type": "code",
   "execution_count": 38,
   "metadata": {},
   "outputs": [
    {
     "name": "stdout",
     "output_type": "stream",
     "text": [
      "List of 10\n",
      " $ 1.1: num [1:2] -0.0785 -0.7572\n",
      " $ 2.1: num(0) \n",
      " $ 1.2: num [1:2] 1.17 -1.31\n",
      " $ 2.2: num(0) \n",
      " $ 1.3: num 1.14\n",
      " $ 2.3: num -0.232\n",
      " $ 1.4: num(0) \n",
      " $ 2.4: num [1:2] -1.454 -0.747\n",
      " $ 1.5: num(0) \n",
      " $ 2.5: num [1:2] 0.877 -0.662\n"
     ]
    }
   ],
   "source": [
    "str(split(x, list(f1,f2)))"
   ]
  },
  {
   "cell_type": "code",
   "execution_count": 41,
   "metadata": {},
   "outputs": [
    {
     "name": "stdout",
     "output_type": "stream",
     "text": [
      "List of 6\n",
      " $ 1.1: num [1:2] -0.0785 -0.7572\n",
      " $ 1.2: num [1:2] 1.17 -1.31\n",
      " $ 1.3: num 1.14\n",
      " $ 2.3: num -0.232\n",
      " $ 2.4: num [1:2] -1.454 -0.747\n",
      " $ 2.5: num [1:2] 0.877 -0.662\n"
     ]
    }
   ],
   "source": [
    "str(split(x, list(f1,f2), drop = TRUE)) # drop the empty levels"
   ]
  }
 ],
 "metadata": {
  "kernelspec": {
   "display_name": "R",
   "language": "R",
   "name": "ir"
  },
  "language_info": {
   "codemirror_mode": "r",
   "file_extension": ".r",
   "mimetype": "text/x-r-source",
   "name": "R",
   "pygments_lexer": "r",
   "version": "3.6.1"
  }
 },
 "nbformat": 4,
 "nbformat_minor": 4
}
