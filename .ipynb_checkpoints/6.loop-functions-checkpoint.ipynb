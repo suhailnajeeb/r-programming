{
 "cells": [
  {
   "cell_type": "markdown",
   "metadata": {},
   "source": [
    "## Loop Functions:"
   ]
  },
  {
   "cell_type": "markdown",
   "metadata": {},
   "source": [
    "- **lapply** : Loop over a list and evaluate a function on each element\n",
    "- **sapply** ; Same as lapply but try to simplify the result\n",
    "- **apply** : Apply a function over the margins of an array\n",
    "- **tapply** : Apply a function over subsets of a vector\n",
    "- **mapply** : Multivariate version of *lapply*"
   ]
  },
  {
   "cell_type": "markdown",
   "metadata": {},
   "source": [
    "Useful auxiliary function: **split** (used in conjunction with *lapply*)"
   ]
  },
  {
   "cell_type": "markdown",
   "metadata": {},
   "source": [
    "## lapply:"
   ]
  },
  {
   "cell_type": "code",
   "execution_count": null,
   "metadata": {},
   "outputs": [],
   "source": [
    "function (X, FUN, ...){\n",
    "    FUN <- mat.fun(FUN)\n",
    "    if(!is.vector(X) || is.object(X))\n",
    "        X <- as.list(X)\n",
    "    .Internal(lapply(X, FUN))\n",
    "}"
   ]
  },
  {
   "cell_type": "code",
   "execution_count": 1,
   "metadata": {},
   "outputs": [],
   "source": [
    "x <- list(a = 1:5, b = rnorm(10))"
   ]
  },
  {
   "cell_type": "code",
   "execution_count": 2,
   "metadata": {},
   "outputs": [
    {
     "data": {
      "text/html": [
       "<dl>\n",
       "\t<dt>$a</dt>\n",
       "\t\t<dd>3</dd>\n",
       "\t<dt>$b</dt>\n",
       "\t\t<dd>0.105112921322771</dd>\n",
       "</dl>\n"
      ],
      "text/latex": [
       "\\begin{description}\n",
       "\\item[\\$a] 3\n",
       "\\item[\\$b] 0.105112921322771\n",
       "\\end{description}\n"
      ],
      "text/markdown": [
       "$a\n",
       ":   3\n",
       "$b\n",
       ":   0.105112921322771\n",
       "\n",
       "\n"
      ],
      "text/plain": [
       "$a\n",
       "[1] 3\n",
       "\n",
       "$b\n",
       "[1] 0.1051129\n"
      ]
     },
     "metadata": {},
     "output_type": "display_data"
    }
   ],
   "source": [
    "lapply(x, mean)"
   ]
  },
  {
   "cell_type": "code",
   "execution_count": 3,
   "metadata": {},
   "outputs": [],
   "source": [
    "x <- list(a = 1:4, b = rnorm(10), c = rnorm(20,1), d = rnorm(100,5))"
   ]
  },
  {
   "cell_type": "code",
   "execution_count": 4,
   "metadata": {},
   "outputs": [
    {
     "data": {
      "text/html": [
       "<dl>\n",
       "\t<dt>$a</dt>\n",
       "\t\t<dd>2.5</dd>\n",
       "\t<dt>$b</dt>\n",
       "\t\t<dd>0.031082559713932</dd>\n",
       "\t<dt>$c</dt>\n",
       "\t\t<dd>1.05703718962678</dd>\n",
       "\t<dt>$d</dt>\n",
       "\t\t<dd>5.00179359462415</dd>\n",
       "</dl>\n"
      ],
      "text/latex": [
       "\\begin{description}\n",
       "\\item[\\$a] 2.5\n",
       "\\item[\\$b] 0.031082559713932\n",
       "\\item[\\$c] 1.05703718962678\n",
       "\\item[\\$d] 5.00179359462415\n",
       "\\end{description}\n"
      ],
      "text/markdown": [
       "$a\n",
       ":   2.5\n",
       "$b\n",
       ":   0.031082559713932\n",
       "$c\n",
       ":   1.05703718962678\n",
       "$d\n",
       ":   5.00179359462415\n",
       "\n",
       "\n"
      ],
      "text/plain": [
       "$a\n",
       "[1] 2.5\n",
       "\n",
       "$b\n",
       "[1] 0.03108256\n",
       "\n",
       "$c\n",
       "[1] 1.057037\n",
       "\n",
       "$d\n",
       "[1] 5.001794\n"
      ]
     },
     "metadata": {},
     "output_type": "display_data"
    }
   ],
   "source": [
    "lapply(x, mean)"
   ]
  },
  {
   "cell_type": "code",
   "execution_count": 5,
   "metadata": {},
   "outputs": [],
   "source": [
    "x <- 1:4"
   ]
  },
  {
   "cell_type": "code",
   "execution_count": 6,
   "metadata": {},
   "outputs": [
    {
     "data": {
      "text/html": [
       "<ol>\n",
       "\t<li>0.15465676994063</li>\n",
       "\t<li><ol class=list-inline>\n",
       "\t<li>0.252421412616968</li>\n",
       "\t<li>0.950267864856869</li>\n",
       "</ol>\n",
       "</li>\n",
       "\t<li><ol class=list-inline>\n",
       "\t<li>0.468779494753107</li>\n",
       "\t<li>0.358271695440635</li>\n",
       "\t<li>0.736781042069197</li>\n",
       "</ol>\n",
       "</li>\n",
       "\t<li><ol class=list-inline>\n",
       "\t<li>0.206838710000739</li>\n",
       "\t<li>0.144453709712252</li>\n",
       "\t<li>0.065988467540592</li>\n",
       "\t<li>0.925144584383816</li>\n",
       "</ol>\n",
       "</li>\n",
       "</ol>\n"
      ],
      "text/latex": [
       "\\begin{enumerate}\n",
       "\\item 0.15465676994063\n",
       "\\item \\begin{enumerate*}\n",
       "\\item 0.252421412616968\n",
       "\\item 0.950267864856869\n",
       "\\end{enumerate*}\n",
       "\n",
       "\\item \\begin{enumerate*}\n",
       "\\item 0.468779494753107\n",
       "\\item 0.358271695440635\n",
       "\\item 0.736781042069197\n",
       "\\end{enumerate*}\n",
       "\n",
       "\\item \\begin{enumerate*}\n",
       "\\item 0.206838710000739\n",
       "\\item 0.144453709712252\n",
       "\\item 0.065988467540592\n",
       "\\item 0.925144584383816\n",
       "\\end{enumerate*}\n",
       "\n",
       "\\end{enumerate}\n"
      ],
      "text/markdown": [
       "1. 0.15465676994063\n",
       "2. 1. 0.252421412616968\n",
       "2. 0.950267864856869\n",
       "\n",
       "\n",
       "\n",
       "3. 1. 0.468779494753107\n",
       "2. 0.358271695440635\n",
       "3. 0.736781042069197\n",
       "\n",
       "\n",
       "\n",
       "4. 1. 0.206838710000739\n",
       "2. 0.144453709712252\n",
       "3. 0.065988467540592\n",
       "4. 0.925144584383816\n",
       "\n",
       "\n",
       "\n",
       "\n",
       "\n"
      ],
      "text/plain": [
       "[[1]]\n",
       "[1] 0.1546568\n",
       "\n",
       "[[2]]\n",
       "[1] 0.2524214 0.9502679\n",
       "\n",
       "[[3]]\n",
       "[1] 0.4687795 0.3582717 0.7367810\n",
       "\n",
       "[[4]]\n",
       "[1] 0.20683871 0.14445371 0.06598847 0.92514458\n"
      ]
     },
     "metadata": {},
     "output_type": "display_data"
    }
   ],
   "source": [
    "lapply(x, runif)"
   ]
  },
  {
   "cell_type": "markdown",
   "metadata": {},
   "source": [
    "basically doing runif(x)"
   ]
  },
  {
   "cell_type": "code",
   "execution_count": 9,
   "metadata": {},
   "outputs": [
    {
     "data": {
      "text/html": [
       "<ol>\n",
       "\t<li>7.74700256763026</li>\n",
       "\t<li><ol class=list-inline>\n",
       "\t<li>8.18674131296575</li>\n",
       "\t<li>9.45414689136669</li>\n",
       "</ol>\n",
       "</li>\n",
       "\t<li><ol class=list-inline>\n",
       "\t<li>3.11722301412374</li>\n",
       "\t<li>3.96821788977832</li>\n",
       "\t<li>0.813708612695336</li>\n",
       "</ol>\n",
       "</li>\n",
       "\t<li><ol class=list-inline>\n",
       "\t<li>0.563696019817144</li>\n",
       "\t<li>0.22089934675023</li>\n",
       "\t<li>8.08999308152124</li>\n",
       "\t<li>3.13324321061373</li>\n",
       "</ol>\n",
       "</li>\n",
       "</ol>\n"
      ],
      "text/latex": [
       "\\begin{enumerate}\n",
       "\\item 7.74700256763026\n",
       "\\item \\begin{enumerate*}\n",
       "\\item 8.18674131296575\n",
       "\\item 9.45414689136669\n",
       "\\end{enumerate*}\n",
       "\n",
       "\\item \\begin{enumerate*}\n",
       "\\item 3.11722301412374\n",
       "\\item 3.96821788977832\n",
       "\\item 0.813708612695336\n",
       "\\end{enumerate*}\n",
       "\n",
       "\\item \\begin{enumerate*}\n",
       "\\item 0.563696019817144\n",
       "\\item 0.22089934675023\n",
       "\\item 8.08999308152124\n",
       "\\item 3.13324321061373\n",
       "\\end{enumerate*}\n",
       "\n",
       "\\end{enumerate}\n"
      ],
      "text/markdown": [
       "1. 7.74700256763026\n",
       "2. 1. 8.18674131296575\n",
       "2. 9.45414689136669\n",
       "\n",
       "\n",
       "\n",
       "3. 1. 3.11722301412374\n",
       "2. 3.96821788977832\n",
       "3. 0.813708612695336\n",
       "\n",
       "\n",
       "\n",
       "4. 1. 0.563696019817144\n",
       "2. 0.22089934675023\n",
       "3. 8.08999308152124\n",
       "4. 3.13324321061373\n",
       "\n",
       "\n",
       "\n",
       "\n",
       "\n"
      ],
      "text/plain": [
       "[[1]]\n",
       "[1] 7.747003\n",
       "\n",
       "[[2]]\n",
       "[1] 8.186741 9.454147\n",
       "\n",
       "[[3]]\n",
       "[1] 3.1172230 3.9682179 0.8137086\n",
       "\n",
       "[[4]]\n",
       "[1] 0.5636960 0.2208993 8.0899931 3.1332432\n"
      ]
     },
     "metadata": {},
     "output_type": "display_data"
    }
   ],
   "source": [
    "x <- 1:4\n",
    "lapply(x, runif, min = 0, max = 10)"
   ]
  },
  {
   "cell_type": "code",
   "execution_count": 10,
   "metadata": {},
   "outputs": [],
   "source": [
    "x <- list(a = matrix(1:4, 2, 2), b = matrix(1:6, 3, 2))"
   ]
  },
  {
   "cell_type": "code",
   "execution_count": 11,
   "metadata": {},
   "outputs": [
    {
     "data": {
      "text/html": [
       "<dl>\n",
       "\t<dt>$a</dt>\n",
       "\t\t<dd><table>\n",
       "<tbody>\n",
       "\t<tr><td>1</td><td>3</td></tr>\n",
       "\t<tr><td>2</td><td>4</td></tr>\n",
       "</tbody>\n",
       "</table>\n",
       "</dd>\n",
       "\t<dt>$b</dt>\n",
       "\t\t<dd><table>\n",
       "<tbody>\n",
       "\t<tr><td>1</td><td>4</td></tr>\n",
       "\t<tr><td>2</td><td>5</td></tr>\n",
       "\t<tr><td>3</td><td>6</td></tr>\n",
       "</tbody>\n",
       "</table>\n",
       "</dd>\n",
       "</dl>\n"
      ],
      "text/latex": [
       "\\begin{description}\n",
       "\\item[\\$a] \\begin{tabular}{ll}\n",
       "\t 1 & 3\\\\\n",
       "\t 2 & 4\\\\\n",
       "\\end{tabular}\n",
       "\n",
       "\\item[\\$b] \\begin{tabular}{ll}\n",
       "\t 1 & 4\\\\\n",
       "\t 2 & 5\\\\\n",
       "\t 3 & 6\\\\\n",
       "\\end{tabular}\n",
       "\n",
       "\\end{description}\n"
      ],
      "text/markdown": [
       "$a\n",
       ":   \n",
       "| 1 | 3 |\n",
       "| 2 | 4 |\n",
       "\n",
       "\n",
       "$b\n",
       ":   \n",
       "| 1 | 4 |\n",
       "| 2 | 5 |\n",
       "| 3 | 6 |\n",
       "\n",
       "\n",
       "\n",
       "\n"
      ],
      "text/plain": [
       "$a\n",
       "     [,1] [,2]\n",
       "[1,]    1    3\n",
       "[2,]    2    4\n",
       "\n",
       "$b\n",
       "     [,1] [,2]\n",
       "[1,]    1    4\n",
       "[2,]    2    5\n",
       "[3,]    3    6\n"
      ]
     },
     "metadata": {},
     "output_type": "display_data"
    }
   ],
   "source": [
    "x"
   ]
  },
  {
   "cell_type": "markdown",
   "metadata": {},
   "source": [
    "## Using anonymous functions:\n",
    "\n",
    "The following function extracts the first column"
   ]
  },
  {
   "cell_type": "code",
   "execution_count": 12,
   "metadata": {},
   "outputs": [
    {
     "data": {
      "text/html": [
       "<dl>\n",
       "\t<dt>$a</dt>\n",
       "\t\t<dd><ol class=list-inline>\n",
       "\t<li>1</li>\n",
       "\t<li>2</li>\n",
       "</ol>\n",
       "</dd>\n",
       "\t<dt>$b</dt>\n",
       "\t\t<dd><ol class=list-inline>\n",
       "\t<li>1</li>\n",
       "\t<li>2</li>\n",
       "\t<li>3</li>\n",
       "</ol>\n",
       "</dd>\n",
       "</dl>\n"
      ],
      "text/latex": [
       "\\begin{description}\n",
       "\\item[\\$a] \\begin{enumerate*}\n",
       "\\item 1\n",
       "\\item 2\n",
       "\\end{enumerate*}\n",
       "\n",
       "\\item[\\$b] \\begin{enumerate*}\n",
       "\\item 1\n",
       "\\item 2\n",
       "\\item 3\n",
       "\\end{enumerate*}\n",
       "\n",
       "\\end{description}\n"
      ],
      "text/markdown": [
       "$a\n",
       ":   1. 1\n",
       "2. 2\n",
       "\n",
       "\n",
       "\n",
       "$b\n",
       ":   1. 1\n",
       "2. 2\n",
       "3. 3\n",
       "\n",
       "\n",
       "\n",
       "\n",
       "\n"
      ],
      "text/plain": [
       "$a\n",
       "[1] 1 2\n",
       "\n",
       "$b\n",
       "[1] 1 2 3\n"
      ]
     },
     "metadata": {},
     "output_type": "display_data"
    }
   ],
   "source": [
    "lapply(x, function(elt) elt[,1])"
   ]
  },
  {
   "cell_type": "markdown",
   "metadata": {},
   "source": [
    "This function doesn't exist. it only exists within the context of the lapply. "
   ]
  },
  {
   "cell_type": "markdown",
   "metadata": {},
   "source": [
    "## sapply\n",
    "\n",
    "- Simplifies the output\n",
    "- If the result is a list, a vecto r is returned\n",
    "- If result is list with vectors of same length, matrix is returned\n",
    "- If it can't figure out, then list is returned"
   ]
  },
  {
   "cell_type": "code",
   "execution_count": 13,
   "metadata": {},
   "outputs": [],
   "source": [
    "x <- list(a = 1:4, b = rnorm(10), c = rnorm(20,1), d = rnorm(100,5))"
   ]
  },
  {
   "cell_type": "code",
   "execution_count": 14,
   "metadata": {},
   "outputs": [
    {
     "data": {
      "text/html": [
       "<dl>\n",
       "\t<dt>$a</dt>\n",
       "\t\t<dd>2.5</dd>\n",
       "\t<dt>$b</dt>\n",
       "\t\t<dd>-0.148539659144282</dd>\n",
       "\t<dt>$c</dt>\n",
       "\t\t<dd>0.615094819462651</dd>\n",
       "\t<dt>$d</dt>\n",
       "\t\t<dd>4.9207582675716</dd>\n",
       "</dl>\n"
      ],
      "text/latex": [
       "\\begin{description}\n",
       "\\item[\\$a] 2.5\n",
       "\\item[\\$b] -0.148539659144282\n",
       "\\item[\\$c] 0.615094819462651\n",
       "\\item[\\$d] 4.9207582675716\n",
       "\\end{description}\n"
      ],
      "text/markdown": [
       "$a\n",
       ":   2.5\n",
       "$b\n",
       ":   -0.148539659144282\n",
       "$c\n",
       ":   0.615094819462651\n",
       "$d\n",
       ":   4.9207582675716\n",
       "\n",
       "\n"
      ],
      "text/plain": [
       "$a\n",
       "[1] 2.5\n",
       "\n",
       "$b\n",
       "[1] -0.1485397\n",
       "\n",
       "$c\n",
       "[1] 0.6150948\n",
       "\n",
       "$d\n",
       "[1] 4.920758\n"
      ]
     },
     "metadata": {},
     "output_type": "display_data"
    }
   ],
   "source": [
    "lapply(x, mean)"
   ]
  },
  {
   "cell_type": "code",
   "execution_count": 15,
   "metadata": {},
   "outputs": [
    {
     "data": {
      "text/html": [
       "<dl class=dl-horizontal>\n",
       "\t<dt>a</dt>\n",
       "\t\t<dd>2.5</dd>\n",
       "\t<dt>b</dt>\n",
       "\t\t<dd>-0.148539659144282</dd>\n",
       "\t<dt>c</dt>\n",
       "\t\t<dd>0.615094819462651</dd>\n",
       "\t<dt>d</dt>\n",
       "\t\t<dd>4.9207582675716</dd>\n",
       "</dl>\n"
      ],
      "text/latex": [
       "\\begin{description*}\n",
       "\\item[a] 2.5\n",
       "\\item[b] -0.148539659144282\n",
       "\\item[c] 0.615094819462651\n",
       "\\item[d] 4.9207582675716\n",
       "\\end{description*}\n"
      ],
      "text/markdown": [
       "a\n",
       ":   2.5b\n",
       ":   -0.148539659144282c\n",
       ":   0.615094819462651d\n",
       ":   4.9207582675716\n",
       "\n"
      ],
      "text/plain": [
       "         a          b          c          d \n",
       " 2.5000000 -0.1485397  0.6150948  4.9207583 "
      ]
     },
     "metadata": {},
     "output_type": "display_data"
    }
   ],
   "source": [
    "sapply(x, mean)"
   ]
  },
  {
   "cell_type": "markdown",
   "metadata": {},
   "source": [
    "## Apply\n",
    "\n",
    "- applied over the margins\n",
    "- applied on rows/columns of matrix\n",
    "- general arrays\n",
    "- not faster than loop"
   ]
  },
  {
   "cell_type": "code",
   "execution_count": 17,
   "metadata": {},
   "outputs": [
    {
     "name": "stdout",
     "output_type": "stream",
     "text": [
      "function (X, MARGIN, FUN, ...)  \n"
     ]
    }
   ],
   "source": [
    "str(apply)"
   ]
  },
  {
   "cell_type": "code",
   "execution_count": 2,
   "metadata": {},
   "outputs": [],
   "source": [
    "x <- matrix(rnorm(200), 20, 10)"
   ]
  },
  {
   "cell_type": "code",
   "execution_count": 3,
   "metadata": {},
   "outputs": [
    {
     "data": {
      "text/html": [
       "<ol class=list-inline>\n",
       "\t<li>-0.0450473472984681</li>\n",
       "\t<li>-0.0889506824382858</li>\n",
       "\t<li>-0.152659902283925</li>\n",
       "\t<li>-0.146507063256074</li>\n",
       "\t<li>-0.0882329259809633</li>\n",
       "\t<li>0.219712415807216</li>\n",
       "\t<li>-0.382577571551409</li>\n",
       "\t<li>-0.101089955192643</li>\n",
       "\t<li>0.210579434858106</li>\n",
       "\t<li>0.0797462058458036</li>\n",
       "</ol>\n"
      ],
      "text/latex": [
       "\\begin{enumerate*}\n",
       "\\item -0.0450473472984681\n",
       "\\item -0.0889506824382858\n",
       "\\item -0.152659902283925\n",
       "\\item -0.146507063256074\n",
       "\\item -0.0882329259809633\n",
       "\\item 0.219712415807216\n",
       "\\item -0.382577571551409\n",
       "\\item -0.101089955192643\n",
       "\\item 0.210579434858106\n",
       "\\item 0.0797462058458036\n",
       "\\end{enumerate*}\n"
      ],
      "text/markdown": [
       "1. -0.0450473472984681\n",
       "2. -0.0889506824382858\n",
       "3. -0.152659902283925\n",
       "4. -0.146507063256074\n",
       "5. -0.0882329259809633\n",
       "6. 0.219712415807216\n",
       "7. -0.382577571551409\n",
       "8. -0.101089955192643\n",
       "9. 0.210579434858106\n",
       "10. 0.0797462058458036\n",
       "\n",
       "\n"
      ],
      "text/plain": [
       " [1] -0.04504735 -0.08895068 -0.15265990 -0.14650706 -0.08823293  0.21971242\n",
       " [7] -0.38257757 -0.10108996  0.21057943  0.07974621"
      ]
     },
     "metadata": {},
     "output_type": "display_data"
    }
   ],
   "source": [
    "apply(x, 2, mean)\n",
    "# mean along the columns"
   ]
  },
  {
   "cell_type": "code",
   "execution_count": 4,
   "metadata": {},
   "outputs": [
    {
     "data": {
      "text/html": [
       "<ol class=list-inline>\n",
       "\t<li>-0.208568364233974</li>\n",
       "\t<li>0.0622229917619088</li>\n",
       "\t<li>-0.105373883712732</li>\n",
       "\t<li>-0.678875869849802</li>\n",
       "\t<li>-0.0849950366979</li>\n",
       "\t<li>-0.0164020266020071</li>\n",
       "\t<li>0.18037033319908</li>\n",
       "\t<li>-0.12135032273609</li>\n",
       "\t<li>-0.315711983451366</li>\n",
       "\t<li>-0.316893890597727</li>\n",
       "\t<li>0.168062481379791</li>\n",
       "\t<li>0.220866629754145</li>\n",
       "\t<li>0.596507101781217</li>\n",
       "\t<li>0.00140419802229215</li>\n",
       "\t<li>-0.416734818884697</li>\n",
       "\t<li>-0.0761579665192927</li>\n",
       "\t<li>0.452653995694495</li>\n",
       "\t<li>-0.106022282392517</li>\n",
       "\t<li>0.0948785655390714</li>\n",
       "\t<li>-0.319934634435182</li>\n",
       "</ol>\n"
      ],
      "text/latex": [
       "\\begin{enumerate*}\n",
       "\\item -0.208568364233974\n",
       "\\item 0.0622229917619088\n",
       "\\item -0.105373883712732\n",
       "\\item -0.678875869849802\n",
       "\\item -0.0849950366979\n",
       "\\item -0.0164020266020071\n",
       "\\item 0.18037033319908\n",
       "\\item -0.12135032273609\n",
       "\\item -0.315711983451366\n",
       "\\item -0.316893890597727\n",
       "\\item 0.168062481379791\n",
       "\\item 0.220866629754145\n",
       "\\item 0.596507101781217\n",
       "\\item 0.00140419802229215\n",
       "\\item -0.416734818884697\n",
       "\\item -0.0761579665192927\n",
       "\\item 0.452653995694495\n",
       "\\item -0.106022282392517\n",
       "\\item 0.0948785655390714\n",
       "\\item -0.319934634435182\n",
       "\\end{enumerate*}\n"
      ],
      "text/markdown": [
       "1. -0.208568364233974\n",
       "2. 0.0622229917619088\n",
       "3. -0.105373883712732\n",
       "4. -0.678875869849802\n",
       "5. -0.0849950366979\n",
       "6. -0.0164020266020071\n",
       "7. 0.18037033319908\n",
       "8. -0.12135032273609\n",
       "9. -0.315711983451366\n",
       "10. -0.316893890597727\n",
       "11. 0.168062481379791\n",
       "12. 0.220866629754145\n",
       "13. 0.596507101781217\n",
       "14. 0.00140419802229215\n",
       "15. -0.416734818884697\n",
       "16. -0.0761579665192927\n",
       "17. 0.452653995694495\n",
       "18. -0.106022282392517\n",
       "19. 0.0948785655390714\n",
       "20. -0.319934634435182\n",
       "\n",
       "\n"
      ],
      "text/plain": [
       " [1] -0.208568364  0.062222992 -0.105373884 -0.678875870 -0.084995037\n",
       " [6] -0.016402027  0.180370333 -0.121350323 -0.315711983 -0.316893891\n",
       "[11]  0.168062481  0.220866630  0.596507102  0.001404198 -0.416734819\n",
       "[16] -0.076157967  0.452653996 -0.106022282  0.094878566 -0.319934634"
      ]
     },
     "metadata": {},
     "output_type": "display_data"
    }
   ],
   "source": [
    "apply(x, 1, mean)\n",
    "# mean along the rows"
   ]
  },
  {
   "cell_type": "markdown",
   "metadata": {},
   "source": [
    "Shortcut Functions:\n",
    "\n",
    "- rowSums = apply(x, 1, sum)\n",
    "- rowMeans = apply(x, 1, mean)\n",
    "- colSums = apply(x, 2, sum)\n",
    "- colMeans = apply(x, 2, mean)"
   ]
  },
  {
   "cell_type": "code",
   "execution_count": 6,
   "metadata": {},
   "outputs": [],
   "source": [
    "x <- matrix(rnorm(200), 20, 10)"
   ]
  },
  {
   "cell_type": "code",
   "execution_count": 8,
   "metadata": {},
   "outputs": [
    {
     "data": {
      "text/html": [
       "<table>\n",
       "<tbody>\n",
       "\t<tr><th scope=row>25%</th><td>-1.5221260 </td><td>-0.04185278</td><td>-1.015911  </td><td>-0.3908364 </td><td>-0.86665071</td><td>-0.2559881 </td><td>-0.7912073 </td><td>-0.2597336 </td><td>-0.7319669 </td><td>-0.3921775 </td><td>-0.3022219 </td><td>-0.4862302 </td><td>-0.4843043 </td><td>-0.6325084 </td><td>-0.7428567 </td><td>-0.5166707 </td><td>-0.2488422 </td><td>-1.09300027</td><td>-0.08303857</td><td>-0.8632086 </td></tr>\n",
       "\t<tr><th scope=row>75%</th><td> 0.6390472 </td><td> 0.85053279</td><td> 1.078312  </td><td> 0.5439737 </td><td> 0.02564567</td><td> 0.9952905 </td><td> 0.1856007 </td><td> 0.6756005 </td><td> 0.2097470 </td><td> 0.8375178 </td><td> 0.3504602 </td><td> 0.2331720 </td><td> 0.8907894 </td><td> 0.7292796 </td><td> 0.4393425 </td><td> 0.5174418 </td><td> 0.3718593 </td><td>-0.02136504</td><td> 1.40913167</td><td> 0.9673943 </td></tr>\n",
       "</tbody>\n",
       "</table>\n"
      ],
      "text/latex": [
       "\\begin{tabular}{r|llllllllllllllllllll}\n",
       "\t25\\% & -1.5221260  & -0.04185278 & -1.015911   & -0.3908364  & -0.86665071 & -0.2559881  & -0.7912073  & -0.2597336  & -0.7319669  & -0.3921775  & -0.3022219  & -0.4862302  & -0.4843043  & -0.6325084  & -0.7428567  & -0.5166707  & -0.2488422  & -1.09300027 & -0.08303857 & -0.8632086 \\\\\n",
       "\t75\\% &  0.6390472  &  0.85053279 &  1.078312   &  0.5439737  &  0.02564567 &  0.9952905  &  0.1856007  &  0.6756005  &  0.2097470  &  0.8375178  &  0.3504602  &  0.2331720  &  0.8907894  &  0.7292796  &  0.4393425  &  0.5174418  &  0.3718593  & -0.02136504 &  1.40913167 &  0.9673943 \\\\\n",
       "\\end{tabular}\n"
      ],
      "text/markdown": [
       "\n",
       "| 25% | -1.5221260  | -0.04185278 | -1.015911   | -0.3908364  | -0.86665071 | -0.2559881  | -0.7912073  | -0.2597336  | -0.7319669  | -0.3921775  | -0.3022219  | -0.4862302  | -0.4843043  | -0.6325084  | -0.7428567  | -0.5166707  | -0.2488422  | -1.09300027 | -0.08303857 | -0.8632086  |\n",
       "| 75% |  0.6390472  |  0.85053279 |  1.078312   |  0.5439737  |  0.02564567 |  0.9952905  |  0.1856007  |  0.6756005  |  0.2097470  |  0.8375178  |  0.3504602  |  0.2331720  |  0.8907894  |  0.7292796  |  0.4393425  |  0.5174418  |  0.3718593  | -0.02136504 |  1.40913167 |  0.9673943  |\n",
       "\n"
      ],
      "text/plain": [
       "    [,1]       [,2]        [,3]      [,4]       [,5]        [,6]      \n",
       "25% -1.5221260 -0.04185278 -1.015911 -0.3908364 -0.86665071 -0.2559881\n",
       "75%  0.6390472  0.85053279  1.078312  0.5439737  0.02564567  0.9952905\n",
       "    [,7]       [,8]       [,9]       [,10]      [,11]      [,12]     \n",
       "25% -0.7912073 -0.2597336 -0.7319669 -0.3921775 -0.3022219 -0.4862302\n",
       "75%  0.1856007  0.6756005  0.2097470  0.8375178  0.3504602  0.2331720\n",
       "    [,13]      [,14]      [,15]      [,16]      [,17]      [,18]      \n",
       "25% -0.4843043 -0.6325084 -0.7428567 -0.5166707 -0.2488422 -1.09300027\n",
       "75%  0.8907894  0.7292796  0.4393425  0.5174418  0.3718593 -0.02136504\n",
       "    [,19]       [,20]     \n",
       "25% -0.08303857 -0.8632086\n",
       "75%  1.40913167  0.9673943"
      ]
     },
     "metadata": {},
     "output_type": "display_data"
    }
   ],
   "source": [
    "# calculate the 25th and the 75th percentile along the rows:\n",
    "\n",
    "apply(x, 1, quantile, probs = c(0.25, 0.75))"
   ]
  },
  {
   "cell_type": "code",
   "execution_count": 9,
   "metadata": {},
   "outputs": [],
   "source": [
    "a <- array(rnorm(2*2*10), c(2,2,10))"
   ]
  },
  {
   "cell_type": "code",
   "execution_count": 10,
   "metadata": {},
   "outputs": [
    {
     "data": {
      "text/html": [
       "<table>\n",
       "<tbody>\n",
       "\t<tr><td>-0.05557865</td><td>-0.05218854</td></tr>\n",
       "\t<tr><td>-0.16845684</td><td> 0.19109441</td></tr>\n",
       "</tbody>\n",
       "</table>\n"
      ],
      "text/latex": [
       "\\begin{tabular}{ll}\n",
       "\t -0.05557865 & -0.05218854\\\\\n",
       "\t -0.16845684 &  0.19109441\\\\\n",
       "\\end{tabular}\n"
      ],
      "text/markdown": [
       "\n",
       "| -0.05557865 | -0.05218854 |\n",
       "| -0.16845684 |  0.19109441 |\n",
       "\n"
      ],
      "text/plain": [
       "     [,1]        [,2]       \n",
       "[1,] -0.05557865 -0.05218854\n",
       "[2,] -0.16845684  0.19109441"
      ]
     },
     "metadata": {},
     "output_type": "display_data"
    }
   ],
   "source": [
    "apply(a, c(1,2), mean)"
   ]
  },
  {
   "cell_type": "code",
   "execution_count": 11,
   "metadata": {},
   "outputs": [
    {
     "data": {
      "text/html": [
       "<table>\n",
       "<tbody>\n",
       "\t<tr><td>-0.05557865</td><td>-0.05218854</td></tr>\n",
       "\t<tr><td>-0.16845684</td><td> 0.19109441</td></tr>\n",
       "</tbody>\n",
       "</table>\n"
      ],
      "text/latex": [
       "\\begin{tabular}{ll}\n",
       "\t -0.05557865 & -0.05218854\\\\\n",
       "\t -0.16845684 &  0.19109441\\\\\n",
       "\\end{tabular}\n"
      ],
      "text/markdown": [
       "\n",
       "| -0.05557865 | -0.05218854 |\n",
       "| -0.16845684 |  0.19109441 |\n",
       "\n"
      ],
      "text/plain": [
       "     [,1]        [,2]       \n",
       "[1,] -0.05557865 -0.05218854\n",
       "[2,] -0.16845684  0.19109441"
      ]
     },
     "metadata": {},
     "output_type": "display_data"
    }
   ],
   "source": [
    "rowMeans(a, dim = 2)"
   ]
  },
  {
   "cell_type": "code",
   "execution_count": 13,
   "metadata": {},
   "outputs": [],
   "source": [
    "# ^ collapsing the 3rd dimension"
   ]
  },
  {
   "cell_type": "code",
   "execution_count": null,
   "metadata": {},
   "outputs": [],
   "source": []
  }
 ],
 "metadata": {
  "kernelspec": {
   "display_name": "R",
   "language": "R",
   "name": "ir"
  },
  "language_info": {
   "codemirror_mode": "r",
   "file_extension": ".r",
   "mimetype": "text/x-r-source",
   "name": "R",
   "pygments_lexer": "r",
   "version": "3.6.1"
  }
 },
 "nbformat": 4,
 "nbformat_minor": 4
}
