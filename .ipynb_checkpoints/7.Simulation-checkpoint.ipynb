{
 "cells": [
  {
   "cell_type": "markdown",
   "metadata": {},
   "source": [
    "## The **str** function:"
   ]
  },
  {
   "cell_type": "markdown",
   "metadata": {},
   "source": [
    "**str**: Compactly display the internal structure of an R object"
   ]
  },
  {
   "cell_type": "code",
   "execution_count": 1,
   "metadata": {},
   "outputs": [
    {
     "name": "stdout",
     "output_type": "stream",
     "text": [
      "function (object, ...)  \n"
     ]
    }
   ],
   "source": [
    "str(str)"
   ]
  },
  {
   "cell_type": "code",
   "execution_count": 2,
   "metadata": {},
   "outputs": [
    {
     "name": "stdout",
     "output_type": "stream",
     "text": [
      "function (formula, data, subset, weights, na.action, method = \"qr\", model = TRUE, \n",
      "    x = FALSE, y = FALSE, qr = TRUE, singular.ok = TRUE, contrasts = NULL, \n",
      "    offset, ...)  \n"
     ]
    }
   ],
   "source": [
    "str(lm)"
   ]
  },
  {
   "cell_type": "code",
   "execution_count": 3,
   "metadata": {},
   "outputs": [
    {
     "name": "stdout",
     "output_type": "stream",
     "text": [
      "function (name, pos = -1L, envir = as.environment(pos), all.names = FALSE, \n",
      "    pattern, sorted = TRUE)  \n"
     ]
    }
   ],
   "source": [
    "str(ls)"
   ]
  },
  {
   "cell_type": "code",
   "execution_count": 4,
   "metadata": {},
   "outputs": [],
   "source": [
    "x <- rnorm(100, 2, 4)"
   ]
  },
  {
   "cell_type": "code",
   "execution_count": 5,
   "metadata": {},
   "outputs": [
    {
     "data": {
      "text/plain": [
       "   Min. 1st Qu.  Median    Mean 3rd Qu.    Max. \n",
       "-9.1924 -0.5689  1.6850  1.6545  4.3958 12.6753 "
      ]
     },
     "metadata": {},
     "output_type": "display_data"
    }
   ],
   "source": [
    "summary(x)"
   ]
  },
  {
   "cell_type": "code",
   "execution_count": 6,
   "metadata": {},
   "outputs": [
    {
     "name": "stdout",
     "output_type": "stream",
     "text": [
      " num [1:100] 8.61 2.22 1.53 4.42 2.35 ...\n"
     ]
    }
   ],
   "source": [
    "str(x)"
   ]
  },
  {
   "cell_type": "code",
   "execution_count": 7,
   "metadata": {},
   "outputs": [],
   "source": [
    "f <- gl(40,10)"
   ]
  },
  {
   "cell_type": "code",
   "execution_count": 8,
   "metadata": {},
   "outputs": [
    {
     "name": "stdout",
     "output_type": "stream",
     "text": [
      " Factor w/ 40 levels \"1\",\"2\",\"3\",\"4\",..: 1 1 1 1 1 1 1 1 1 1 ...\n"
     ]
    }
   ],
   "source": [
    "str(f)"
   ]
  },
  {
   "cell_type": "code",
   "execution_count": 9,
   "metadata": {},
   "outputs": [
    {
     "data": {
      "text/html": [
       "<dl class=dl-horizontal>\n",
       "\t<dt>1</dt>\n",
       "\t\t<dd>10</dd>\n",
       "\t<dt>2</dt>\n",
       "\t\t<dd>10</dd>\n",
       "\t<dt>3</dt>\n",
       "\t\t<dd>10</dd>\n",
       "\t<dt>4</dt>\n",
       "\t\t<dd>10</dd>\n",
       "\t<dt>5</dt>\n",
       "\t\t<dd>10</dd>\n",
       "\t<dt>6</dt>\n",
       "\t\t<dd>10</dd>\n",
       "\t<dt>7</dt>\n",
       "\t\t<dd>10</dd>\n",
       "\t<dt>8</dt>\n",
       "\t\t<dd>10</dd>\n",
       "\t<dt>9</dt>\n",
       "\t\t<dd>10</dd>\n",
       "\t<dt>10</dt>\n",
       "\t\t<dd>10</dd>\n",
       "\t<dt>11</dt>\n",
       "\t\t<dd>10</dd>\n",
       "\t<dt>12</dt>\n",
       "\t\t<dd>10</dd>\n",
       "\t<dt>13</dt>\n",
       "\t\t<dd>10</dd>\n",
       "\t<dt>14</dt>\n",
       "\t\t<dd>10</dd>\n",
       "\t<dt>15</dt>\n",
       "\t\t<dd>10</dd>\n",
       "\t<dt>16</dt>\n",
       "\t\t<dd>10</dd>\n",
       "\t<dt>17</dt>\n",
       "\t\t<dd>10</dd>\n",
       "\t<dt>18</dt>\n",
       "\t\t<dd>10</dd>\n",
       "\t<dt>19</dt>\n",
       "\t\t<dd>10</dd>\n",
       "\t<dt>20</dt>\n",
       "\t\t<dd>10</dd>\n",
       "\t<dt>21</dt>\n",
       "\t\t<dd>10</dd>\n",
       "\t<dt>22</dt>\n",
       "\t\t<dd>10</dd>\n",
       "\t<dt>23</dt>\n",
       "\t\t<dd>10</dd>\n",
       "\t<dt>24</dt>\n",
       "\t\t<dd>10</dd>\n",
       "\t<dt>25</dt>\n",
       "\t\t<dd>10</dd>\n",
       "\t<dt>26</dt>\n",
       "\t\t<dd>10</dd>\n",
       "\t<dt>27</dt>\n",
       "\t\t<dd>10</dd>\n",
       "\t<dt>28</dt>\n",
       "\t\t<dd>10</dd>\n",
       "\t<dt>29</dt>\n",
       "\t\t<dd>10</dd>\n",
       "\t<dt>30</dt>\n",
       "\t\t<dd>10</dd>\n",
       "\t<dt>31</dt>\n",
       "\t\t<dd>10</dd>\n",
       "\t<dt>32</dt>\n",
       "\t\t<dd>10</dd>\n",
       "\t<dt>33</dt>\n",
       "\t\t<dd>10</dd>\n",
       "\t<dt>34</dt>\n",
       "\t\t<dd>10</dd>\n",
       "\t<dt>35</dt>\n",
       "\t\t<dd>10</dd>\n",
       "\t<dt>36</dt>\n",
       "\t\t<dd>10</dd>\n",
       "\t<dt>37</dt>\n",
       "\t\t<dd>10</dd>\n",
       "\t<dt>38</dt>\n",
       "\t\t<dd>10</dd>\n",
       "\t<dt>39</dt>\n",
       "\t\t<dd>10</dd>\n",
       "\t<dt>40</dt>\n",
       "\t\t<dd>10</dd>\n",
       "</dl>\n"
      ],
      "text/latex": [
       "\\begin{description*}\n",
       "\\item[1] 10\n",
       "\\item[2] 10\n",
       "\\item[3] 10\n",
       "\\item[4] 10\n",
       "\\item[5] 10\n",
       "\\item[6] 10\n",
       "\\item[7] 10\n",
       "\\item[8] 10\n",
       "\\item[9] 10\n",
       "\\item[10] 10\n",
       "\\item[11] 10\n",
       "\\item[12] 10\n",
       "\\item[13] 10\n",
       "\\item[14] 10\n",
       "\\item[15] 10\n",
       "\\item[16] 10\n",
       "\\item[17] 10\n",
       "\\item[18] 10\n",
       "\\item[19] 10\n",
       "\\item[20] 10\n",
       "\\item[21] 10\n",
       "\\item[22] 10\n",
       "\\item[23] 10\n",
       "\\item[24] 10\n",
       "\\item[25] 10\n",
       "\\item[26] 10\n",
       "\\item[27] 10\n",
       "\\item[28] 10\n",
       "\\item[29] 10\n",
       "\\item[30] 10\n",
       "\\item[31] 10\n",
       "\\item[32] 10\n",
       "\\item[33] 10\n",
       "\\item[34] 10\n",
       "\\item[35] 10\n",
       "\\item[36] 10\n",
       "\\item[37] 10\n",
       "\\item[38] 10\n",
       "\\item[39] 10\n",
       "\\item[40] 10\n",
       "\\end{description*}\n"
      ],
      "text/markdown": [
       "1\n",
       ":   102\n",
       ":   103\n",
       ":   104\n",
       ":   105\n",
       ":   106\n",
       ":   107\n",
       ":   108\n",
       ":   109\n",
       ":   1010\n",
       ":   1011\n",
       ":   1012\n",
       ":   1013\n",
       ":   1014\n",
       ":   1015\n",
       ":   1016\n",
       ":   1017\n",
       ":   1018\n",
       ":   1019\n",
       ":   1020\n",
       ":   1021\n",
       ":   1022\n",
       ":   1023\n",
       ":   1024\n",
       ":   1025\n",
       ":   1026\n",
       ":   1027\n",
       ":   1028\n",
       ":   1029\n",
       ":   1030\n",
       ":   1031\n",
       ":   1032\n",
       ":   1033\n",
       ":   1034\n",
       ":   1035\n",
       ":   1036\n",
       ":   1037\n",
       ":   1038\n",
       ":   1039\n",
       ":   1040\n",
       ":   10\n",
       "\n"
      ],
      "text/plain": [
       " 1  2  3  4  5  6  7  8  9 10 11 12 13 14 15 16 17 18 19 20 21 22 23 24 25 26 \n",
       "10 10 10 10 10 10 10 10 10 10 10 10 10 10 10 10 10 10 10 10 10 10 10 10 10 10 \n",
       "27 28 29 30 31 32 33 34 35 36 37 38 39 40 \n",
       "10 10 10 10 10 10 10 10 10 10 10 10 10 10 "
      ]
     },
     "metadata": {},
     "output_type": "display_data"
    }
   ],
   "source": [
    "summary(f)"
   ]
  },
  {
   "cell_type": "code",
   "execution_count": 10,
   "metadata": {},
   "outputs": [],
   "source": [
    "library(datasets)"
   ]
  },
  {
   "cell_type": "code",
   "execution_count": 11,
   "metadata": {},
   "outputs": [
    {
     "data": {
      "text/html": [
       "<table>\n",
       "<thead><tr><th scope=col>Ozone</th><th scope=col>Solar.R</th><th scope=col>Wind</th><th scope=col>Temp</th><th scope=col>Month</th><th scope=col>Day</th></tr></thead>\n",
       "<tbody>\n",
       "\t<tr><td>41  </td><td>190 </td><td> 7.4</td><td>67  </td><td>5   </td><td>1   </td></tr>\n",
       "\t<tr><td>36  </td><td>118 </td><td> 8.0</td><td>72  </td><td>5   </td><td>2   </td></tr>\n",
       "\t<tr><td>12  </td><td>149 </td><td>12.6</td><td>74  </td><td>5   </td><td>3   </td></tr>\n",
       "\t<tr><td>18  </td><td>313 </td><td>11.5</td><td>62  </td><td>5   </td><td>4   </td></tr>\n",
       "\t<tr><td>NA  </td><td> NA </td><td>14.3</td><td>56  </td><td>5   </td><td>5   </td></tr>\n",
       "\t<tr><td>28  </td><td> NA </td><td>14.9</td><td>66  </td><td>5   </td><td>6   </td></tr>\n",
       "</tbody>\n",
       "</table>\n"
      ],
      "text/latex": [
       "\\begin{tabular}{r|llllll}\n",
       " Ozone & Solar.R & Wind & Temp & Month & Day\\\\\n",
       "\\hline\n",
       "\t 41   & 190  &  7.4 & 67   & 5    & 1   \\\\\n",
       "\t 36   & 118  &  8.0 & 72   & 5    & 2   \\\\\n",
       "\t 12   & 149  & 12.6 & 74   & 5    & 3   \\\\\n",
       "\t 18   & 313  & 11.5 & 62   & 5    & 4   \\\\\n",
       "\t NA   &  NA  & 14.3 & 56   & 5    & 5   \\\\\n",
       "\t 28   &  NA  & 14.9 & 66   & 5    & 6   \\\\\n",
       "\\end{tabular}\n"
      ],
      "text/markdown": [
       "\n",
       "| Ozone | Solar.R | Wind | Temp | Month | Day |\n",
       "|---|---|---|---|---|---|\n",
       "| 41   | 190  |  7.4 | 67   | 5    | 1    |\n",
       "| 36   | 118  |  8.0 | 72   | 5    | 2    |\n",
       "| 12   | 149  | 12.6 | 74   | 5    | 3    |\n",
       "| 18   | 313  | 11.5 | 62   | 5    | 4    |\n",
       "| NA   |  NA  | 14.3 | 56   | 5    | 5    |\n",
       "| 28   |  NA  | 14.9 | 66   | 5    | 6    |\n",
       "\n"
      ],
      "text/plain": [
       "  Ozone Solar.R Wind Temp Month Day\n",
       "1 41    190      7.4 67   5     1  \n",
       "2 36    118      8.0 72   5     2  \n",
       "3 12    149     12.6 74   5     3  \n",
       "4 18    313     11.5 62   5     4  \n",
       "5 NA     NA     14.3 56   5     5  \n",
       "6 28     NA     14.9 66   5     6  "
      ]
     },
     "metadata": {},
     "output_type": "display_data"
    }
   ],
   "source": [
    "head(airquality)"
   ]
  },
  {
   "cell_type": "code",
   "execution_count": 12,
   "metadata": {},
   "outputs": [
    {
     "name": "stdout",
     "output_type": "stream",
     "text": [
      "'data.frame':\t153 obs. of  6 variables:\n",
      " $ Ozone  : int  41 36 12 18 NA 28 23 19 8 NA ...\n",
      " $ Solar.R: int  190 118 149 313 NA NA 299 99 19 194 ...\n",
      " $ Wind   : num  7.4 8 12.6 11.5 14.3 14.9 8.6 13.8 20.1 8.6 ...\n",
      " $ Temp   : int  67 72 74 62 56 66 65 59 61 69 ...\n",
      " $ Month  : int  5 5 5 5 5 5 5 5 5 5 ...\n",
      " $ Day    : int  1 2 3 4 5 6 7 8 9 10 ...\n"
     ]
    }
   ],
   "source": [
    "str(airquality)"
   ]
  },
  {
   "cell_type": "code",
   "execution_count": 14,
   "metadata": {},
   "outputs": [],
   "source": [
    "m <- matrix(rnorm(100), 10, 10)"
   ]
  },
  {
   "cell_type": "code",
   "execution_count": 15,
   "metadata": {},
   "outputs": [
    {
     "name": "stdout",
     "output_type": "stream",
     "text": [
      " num [1:10, 1:10] 0.0826 0.7512 0.3661 -1.1038 -0.7117 ...\n"
     ]
    }
   ],
   "source": [
    "str(m)"
   ]
  },
  {
   "cell_type": "code",
   "execution_count": 16,
   "metadata": {},
   "outputs": [
    {
     "data": {
      "text/html": [
       "<ol class=list-inline>\n",
       "\t<li>0.0826389379193203</li>\n",
       "\t<li>0.751222763340534</li>\n",
       "\t<li>0.366111180475025</li>\n",
       "\t<li>-1.10378891123822</li>\n",
       "\t<li>-0.711702009669966</li>\n",
       "\t<li>-0.0940472638430052</li>\n",
       "\t<li>1.59943037881998</li>\n",
       "\t<li>-0.858597416852241</li>\n",
       "\t<li>-0.724633886458116</li>\n",
       "\t<li>0.0683684328693785</li>\n",
       "</ol>\n"
      ],
      "text/latex": [
       "\\begin{enumerate*}\n",
       "\\item 0.0826389379193203\n",
       "\\item 0.751222763340534\n",
       "\\item 0.366111180475025\n",
       "\\item -1.10378891123822\n",
       "\\item -0.711702009669966\n",
       "\\item -0.0940472638430052\n",
       "\\item 1.59943037881998\n",
       "\\item -0.858597416852241\n",
       "\\item -0.724633886458116\n",
       "\\item 0.0683684328693785\n",
       "\\end{enumerate*}\n"
      ],
      "text/markdown": [
       "1. 0.0826389379193203\n",
       "2. 0.751222763340534\n",
       "3. 0.366111180475025\n",
       "4. -1.10378891123822\n",
       "5. -0.711702009669966\n",
       "6. -0.0940472638430052\n",
       "7. 1.59943037881998\n",
       "8. -0.858597416852241\n",
       "9. -0.724633886458116\n",
       "10. 0.0683684328693785\n",
       "\n",
       "\n"
      ],
      "text/plain": [
       " [1]  0.08263894  0.75122276  0.36611118 -1.10378891 -0.71170201 -0.09404726\n",
       " [7]  1.59943038 -0.85859742 -0.72463389  0.06836843"
      ]
     },
     "metadata": {},
     "output_type": "display_data"
    }
   ],
   "source": [
    "m[, 1]"
   ]
  },
  {
   "cell_type": "code",
   "execution_count": 17,
   "metadata": {},
   "outputs": [],
   "source": [
    "s <- split(airquality, airquality$Month)"
   ]
  },
  {
   "cell_type": "code",
   "execution_count": 18,
   "metadata": {},
   "outputs": [
    {
     "name": "stdout",
     "output_type": "stream",
     "text": [
      "List of 5\n",
      " $ 5:'data.frame':\t31 obs. of  6 variables:\n",
      "  ..$ Ozone  : int [1:31] 41 36 12 18 NA 28 23 19 8 NA ...\n",
      "  ..$ Solar.R: int [1:31] 190 118 149 313 NA NA 299 99 19 194 ...\n",
      "  ..$ Wind   : num [1:31] 7.4 8 12.6 11.5 14.3 14.9 8.6 13.8 20.1 8.6 ...\n",
      "  ..$ Temp   : int [1:31] 67 72 74 62 56 66 65 59 61 69 ...\n",
      "  ..$ Month  : int [1:31] 5 5 5 5 5 5 5 5 5 5 ...\n",
      "  ..$ Day    : int [1:31] 1 2 3 4 5 6 7 8 9 10 ...\n",
      " $ 6:'data.frame':\t30 obs. of  6 variables:\n",
      "  ..$ Ozone  : int [1:30] NA NA NA NA NA NA 29 NA 71 39 ...\n",
      "  ..$ Solar.R: int [1:30] 286 287 242 186 220 264 127 273 291 323 ...\n",
      "  ..$ Wind   : num [1:30] 8.6 9.7 16.1 9.2 8.6 14.3 9.7 6.9 13.8 11.5 ...\n",
      "  ..$ Temp   : int [1:30] 78 74 67 84 85 79 82 87 90 87 ...\n",
      "  ..$ Month  : int [1:30] 6 6 6 6 6 6 6 6 6 6 ...\n",
      "  ..$ Day    : int [1:30] 1 2 3 4 5 6 7 8 9 10 ...\n",
      " $ 7:'data.frame':\t31 obs. of  6 variables:\n",
      "  ..$ Ozone  : int [1:31] 135 49 32 NA 64 40 77 97 97 85 ...\n",
      "  ..$ Solar.R: int [1:31] 269 248 236 101 175 314 276 267 272 175 ...\n",
      "  ..$ Wind   : num [1:31] 4.1 9.2 9.2 10.9 4.6 10.9 5.1 6.3 5.7 7.4 ...\n",
      "  ..$ Temp   : int [1:31] 84 85 81 84 83 83 88 92 92 89 ...\n",
      "  ..$ Month  : int [1:31] 7 7 7 7 7 7 7 7 7 7 ...\n",
      "  ..$ Day    : int [1:31] 1 2 3 4 5 6 7 8 9 10 ...\n",
      " $ 8:'data.frame':\t31 obs. of  6 variables:\n",
      "  ..$ Ozone  : int [1:31] 39 9 16 78 35 66 122 89 110 NA ...\n",
      "  ..$ Solar.R: int [1:31] 83 24 77 NA NA NA 255 229 207 222 ...\n",
      "  ..$ Wind   : num [1:31] 6.9 13.8 7.4 6.9 7.4 4.6 4 10.3 8 8.6 ...\n",
      "  ..$ Temp   : int [1:31] 81 81 82 86 85 87 89 90 90 92 ...\n",
      "  ..$ Month  : int [1:31] 8 8 8 8 8 8 8 8 8 8 ...\n",
      "  ..$ Day    : int [1:31] 1 2 3 4 5 6 7 8 9 10 ...\n",
      " $ 9:'data.frame':\t30 obs. of  6 variables:\n",
      "  ..$ Ozone  : int [1:30] 96 78 73 91 47 32 20 23 21 24 ...\n",
      "  ..$ Solar.R: int [1:30] 167 197 183 189 95 92 252 220 230 259 ...\n",
      "  ..$ Wind   : num [1:30] 6.9 5.1 2.8 4.6 7.4 15.5 10.9 10.3 10.9 9.7 ...\n",
      "  ..$ Temp   : int [1:30] 91 92 93 93 87 84 80 78 75 73 ...\n",
      "  ..$ Month  : int [1:30] 9 9 9 9 9 9 9 9 9 9 ...\n",
      "  ..$ Day    : int [1:30] 1 2 3 4 5 6 7 8 9 10 ...\n"
     ]
    }
   ],
   "source": [
    "str(s)"
   ]
  },
  {
   "cell_type": "markdown",
   "metadata": {},
   "source": [
    "## Simulation = Generating Random Numbers:"
   ]
  },
  {
   "cell_type": "markdown",
   "metadata": {},
   "source": [
    "Generating Random Numbers:\n",
    "\n",
    "- rnorm: generate random Normal variates with a given mena and standard deviation\n",
    "- dnorm: evaluate the Normal probability density at a point\n",
    "- pnorm: evaluate cumulative distribution function for a Normal distribution\n",
    "- rpois: generate random Poisson variates with a given rate"
   ]
  },
  {
   "cell_type": "markdown",
   "metadata": {},
   "source": [
    "Four functions associated with them:\n",
    "\n",
    "- d for density\n",
    "- r fro random number generation\n",
    "- p for cumulative distribution\n",
    "- q for quantile function"
   ]
  },
  {
   "cell_type": "code",
   "execution_count": null,
   "metadata": {},
   "outputs": [],
   "source": [
    "# default values:\n",
    "\n",
    "dnorm(x, mean = 0, sd = 1, log = FALSE)\n",
    "pnorm(q, mean = 0, sd = 1, lower.tail = TRUE, log.p = FALSE)\n",
    "qnorm(p, mean = 0, sd = 1, lower.tail = TRUE, log.p = FALSE)\n",
    "rnorm(n, mean = 0, sd = 1)"
   ]
  },
  {
   "cell_type": "code",
   "execution_count": 26,
   "metadata": {},
   "outputs": [
    {
     "data": {
      "text/html": [
       "<ol class=list-inline>\n",
       "\t<li>1.04097119001944</li>\n",
       "\t<li>1.41391628413292</li>\n",
       "\t<li>-0.826818318530083</li>\n",
       "\t<li>-1.93706805380947</li>\n",
       "\t<li>0.0225304967739112</li>\n",
       "\t<li>0.220486461054637</li>\n",
       "\t<li>0.389735942733942</li>\n",
       "\t<li>-1.36096820131019</li>\n",
       "\t<li>1.64009873779551</li>\n",
       "\t<li>0.720741736531044</li>\n",
       "</ol>\n"
      ],
      "text/latex": [
       "\\begin{enumerate*}\n",
       "\\item 1.04097119001944\n",
       "\\item 1.41391628413292\n",
       "\\item -0.826818318530083\n",
       "\\item -1.93706805380947\n",
       "\\item 0.0225304967739112\n",
       "\\item 0.220486461054637\n",
       "\\item 0.389735942733942\n",
       "\\item -1.36096820131019\n",
       "\\item 1.64009873779551\n",
       "\\item 0.720741736531044\n",
       "\\end{enumerate*}\n"
      ],
      "text/markdown": [
       "1. 1.04097119001944\n",
       "2. 1.41391628413292\n",
       "3. -0.826818318530083\n",
       "4. -1.93706805380947\n",
       "5. 0.0225304967739112\n",
       "6. 0.220486461054637\n",
       "7. 0.389735942733942\n",
       "8. -1.36096820131019\n",
       "9. 1.64009873779551\n",
       "10. 0.720741736531044\n",
       "\n",
       "\n"
      ],
      "text/plain": [
       " [1]  1.0409712  1.4139163 -0.8268183 -1.9370681  0.0225305  0.2204865\n",
       " [7]  0.3897359 -1.3609682  1.6400987  0.7207417"
      ]
     },
     "metadata": {},
     "output_type": "display_data"
    }
   ],
   "source": [
    "x <- rnorm(10)\n",
    "x"
   ]
  },
  {
   "cell_type": "code",
   "execution_count": 27,
   "metadata": {},
   "outputs": [
    {
     "data": {
      "text/html": [
       "<ol class=list-inline>\n",
       "\t<li>17.7685948829349</li>\n",
       "\t<li>16.967844684634</li>\n",
       "\t<li>21.0128679620451</li>\n",
       "\t<li>22.1390043110387</li>\n",
       "\t<li>18.1418984841291</li>\n",
       "\t<li>22.7042718189237</li>\n",
       "\t<li>21.1657326415178</li>\n",
       "\t<li>19.6582761650162</li>\n",
       "\t<li>22.0242862670119</li>\n",
       "\t<li>20.4719678952472</li>\n",
       "</ol>\n"
      ],
      "text/latex": [
       "\\begin{enumerate*}\n",
       "\\item 17.7685948829349\n",
       "\\item 16.967844684634\n",
       "\\item 21.0128679620451\n",
       "\\item 22.1390043110387\n",
       "\\item 18.1418984841291\n",
       "\\item 22.7042718189237\n",
       "\\item 21.1657326415178\n",
       "\\item 19.6582761650162\n",
       "\\item 22.0242862670119\n",
       "\\item 20.4719678952472\n",
       "\\end{enumerate*}\n"
      ],
      "text/markdown": [
       "1. 17.7685948829349\n",
       "2. 16.967844684634\n",
       "3. 21.0128679620451\n",
       "4. 22.1390043110387\n",
       "5. 18.1418984841291\n",
       "6. 22.7042718189237\n",
       "7. 21.1657326415178\n",
       "8. 19.6582761650162\n",
       "9. 22.0242862670119\n",
       "10. 20.4719678952472\n",
       "\n",
       "\n"
      ],
      "text/plain": [
       " [1] 17.76859 16.96784 21.01287 22.13900 18.14190 22.70427 21.16573 19.65828\n",
       " [9] 22.02429 20.47197"
      ]
     },
     "metadata": {},
     "output_type": "display_data"
    }
   ],
   "source": [
    "x <- rnorm(10, 20, 2)\n",
    "x"
   ]
  },
  {
   "cell_type": "markdown",
   "metadata": {},
   "source": [
    "Setting the seed: "
   ]
  },
  {
   "cell_type": "code",
   "execution_count": 31,
   "metadata": {},
   "outputs": [
    {
     "data": {
      "text/html": [
       "<ol class=list-inline>\n",
       "\t<li>-0.626453810742332</li>\n",
       "\t<li>0.183643324222082</li>\n",
       "\t<li>-0.835628612410047</li>\n",
       "\t<li>1.59528080213779</li>\n",
       "\t<li>0.329507771815361</li>\n",
       "</ol>\n"
      ],
      "text/latex": [
       "\\begin{enumerate*}\n",
       "\\item -0.626453810742332\n",
       "\\item 0.183643324222082\n",
       "\\item -0.835628612410047\n",
       "\\item 1.59528080213779\n",
       "\\item 0.329507771815361\n",
       "\\end{enumerate*}\n"
      ],
      "text/markdown": [
       "1. -0.626453810742332\n",
       "2. 0.183643324222082\n",
       "3. -0.835628612410047\n",
       "4. 1.59528080213779\n",
       "5. 0.329507771815361\n",
       "\n",
       "\n"
      ],
      "text/plain": [
       "[1] -0.6264538  0.1836433 -0.8356286  1.5952808  0.3295078"
      ]
     },
     "metadata": {},
     "output_type": "display_data"
    }
   ],
   "source": [
    "set.seed(1)\n",
    "rnorm(5)"
   ]
  },
  {
   "cell_type": "code",
   "execution_count": 32,
   "metadata": {},
   "outputs": [
    {
     "data": {
      "text/html": [
       "<ol class=list-inline>\n",
       "\t<li>-0.820468384118015</li>\n",
       "\t<li>0.487429052428485</li>\n",
       "\t<li>0.738324705129217</li>\n",
       "\t<li>0.575781351653492</li>\n",
       "\t<li>-0.305388387156356</li>\n",
       "</ol>\n"
      ],
      "text/latex": [
       "\\begin{enumerate*}\n",
       "\\item -0.820468384118015\n",
       "\\item 0.487429052428485\n",
       "\\item 0.738324705129217\n",
       "\\item 0.575781351653492\n",
       "\\item -0.305388387156356\n",
       "\\end{enumerate*}\n"
      ],
      "text/markdown": [
       "1. -0.820468384118015\n",
       "2. 0.487429052428485\n",
       "3. 0.738324705129217\n",
       "4. 0.575781351653492\n",
       "5. -0.305388387156356\n",
       "\n",
       "\n"
      ],
      "text/plain": [
       "[1] -0.8204684  0.4874291  0.7383247  0.5757814 -0.3053884"
      ]
     },
     "metadata": {},
     "output_type": "display_data"
    }
   ],
   "source": [
    "rnorm(5)"
   ]
  },
  {
   "cell_type": "code",
   "execution_count": 33,
   "metadata": {},
   "outputs": [
    {
     "data": {
      "text/html": [
       "<ol class=list-inline>\n",
       "\t<li>-0.626453810742332</li>\n",
       "\t<li>0.183643324222082</li>\n",
       "\t<li>-0.835628612410047</li>\n",
       "\t<li>1.59528080213779</li>\n",
       "\t<li>0.329507771815361</li>\n",
       "</ol>\n"
      ],
      "text/latex": [
       "\\begin{enumerate*}\n",
       "\\item -0.626453810742332\n",
       "\\item 0.183643324222082\n",
       "\\item -0.835628612410047\n",
       "\\item 1.59528080213779\n",
       "\\item 0.329507771815361\n",
       "\\end{enumerate*}\n"
      ],
      "text/markdown": [
       "1. -0.626453810742332\n",
       "2. 0.183643324222082\n",
       "3. -0.835628612410047\n",
       "4. 1.59528080213779\n",
       "5. 0.329507771815361\n",
       "\n",
       "\n"
      ],
      "text/plain": [
       "[1] -0.6264538  0.1836433 -0.8356286  1.5952808  0.3295078"
      ]
     },
     "metadata": {},
     "output_type": "display_data"
    }
   ],
   "source": [
    "set.seed(1)\n",
    "rnorm(5)"
   ]
  },
  {
   "cell_type": "code",
   "execution_count": 34,
   "metadata": {},
   "outputs": [
    {
     "data": {
      "text/html": [
       "<ol class=list-inline>\n",
       "\t<li>0</li>\n",
       "\t<li>0</li>\n",
       "\t<li>1</li>\n",
       "\t<li>1</li>\n",
       "\t<li>2</li>\n",
       "\t<li>1</li>\n",
       "\t<li>1</li>\n",
       "\t<li>4</li>\n",
       "\t<li>1</li>\n",
       "\t<li>2</li>\n",
       "</ol>\n"
      ],
      "text/latex": [
       "\\begin{enumerate*}\n",
       "\\item 0\n",
       "\\item 0\n",
       "\\item 1\n",
       "\\item 1\n",
       "\\item 2\n",
       "\\item 1\n",
       "\\item 1\n",
       "\\item 4\n",
       "\\item 1\n",
       "\\item 2\n",
       "\\end{enumerate*}\n"
      ],
      "text/markdown": [
       "1. 0\n",
       "2. 0\n",
       "3. 1\n",
       "4. 1\n",
       "5. 2\n",
       "6. 1\n",
       "7. 1\n",
       "8. 4\n",
       "9. 1\n",
       "10. 2\n",
       "\n",
       "\n"
      ],
      "text/plain": [
       " [1] 0 0 1 1 2 1 1 4 1 2"
      ]
     },
     "metadata": {},
     "output_type": "display_data"
    }
   ],
   "source": [
    "rpois(10, 1)"
   ]
  },
  {
   "cell_type": "code",
   "execution_count": 35,
   "metadata": {},
   "outputs": [
    {
     "data": {
      "text/html": [
       "<ol class=list-inline>\n",
       "\t<li>4</li>\n",
       "\t<li>1</li>\n",
       "\t<li>2</li>\n",
       "\t<li>0</li>\n",
       "\t<li>1</li>\n",
       "\t<li>1</li>\n",
       "\t<li>0</li>\n",
       "\t<li>1</li>\n",
       "\t<li>4</li>\n",
       "\t<li>1</li>\n",
       "</ol>\n"
      ],
      "text/latex": [
       "\\begin{enumerate*}\n",
       "\\item 4\n",
       "\\item 1\n",
       "\\item 2\n",
       "\\item 0\n",
       "\\item 1\n",
       "\\item 1\n",
       "\\item 0\n",
       "\\item 1\n",
       "\\item 4\n",
       "\\item 1\n",
       "\\end{enumerate*}\n"
      ],
      "text/markdown": [
       "1. 4\n",
       "2. 1\n",
       "3. 2\n",
       "4. 0\n",
       "5. 1\n",
       "6. 1\n",
       "7. 0\n",
       "8. 1\n",
       "9. 4\n",
       "10. 1\n",
       "\n",
       "\n"
      ],
      "text/plain": [
       " [1] 4 1 2 0 1 1 0 1 4 1"
      ]
     },
     "metadata": {},
     "output_type": "display_data"
    }
   ],
   "source": [
    "rpois(10, 2)"
   ]
  },
  {
   "cell_type": "code",
   "execution_count": 36,
   "metadata": {},
   "outputs": [
    {
     "data": {
      "text/html": [
       "<ol class=list-inline>\n",
       "\t<li>19</li>\n",
       "\t<li>19</li>\n",
       "\t<li>24</li>\n",
       "\t<li>23</li>\n",
       "\t<li>22</li>\n",
       "\t<li>24</li>\n",
       "\t<li>23</li>\n",
       "\t<li>20</li>\n",
       "\t<li>11</li>\n",
       "\t<li>22</li>\n",
       "</ol>\n"
      ],
      "text/latex": [
       "\\begin{enumerate*}\n",
       "\\item 19\n",
       "\\item 19\n",
       "\\item 24\n",
       "\\item 23\n",
       "\\item 22\n",
       "\\item 24\n",
       "\\item 23\n",
       "\\item 20\n",
       "\\item 11\n",
       "\\item 22\n",
       "\\end{enumerate*}\n"
      ],
      "text/markdown": [
       "1. 19\n",
       "2. 19\n",
       "3. 24\n",
       "4. 23\n",
       "5. 22\n",
       "6. 24\n",
       "7. 23\n",
       "8. 20\n",
       "9. 11\n",
       "10. 22\n",
       "\n",
       "\n"
      ],
      "text/plain": [
       " [1] 19 19 24 23 22 24 23 20 11 22"
      ]
     },
     "metadata": {},
     "output_type": "display_data"
    }
   ],
   "source": [
    "rpois(10, 20)"
   ]
  },
  {
   "cell_type": "markdown",
   "metadata": {},
   "source": [
    "Evaluating the Cumulative distribution probability:"
   ]
  },
  {
   "cell_type": "code",
   "execution_count": 37,
   "metadata": {},
   "outputs": [
    {
     "data": {
      "text/html": [
       "0.676676416183063"
      ],
      "text/latex": [
       "0.676676416183063"
      ],
      "text/markdown": [
       "0.676676416183063"
      ],
      "text/plain": [
       "[1] 0.6766764"
      ]
     },
     "metadata": {},
     "output_type": "display_data"
    }
   ],
   "source": [
    "ppois(2,2)  # Pr(x <= 2)"
   ]
  },
  {
   "cell_type": "code",
   "execution_count": 38,
   "metadata": {},
   "outputs": [
    {
     "data": {
      "text/html": [
       "0.947346982656289"
      ],
      "text/latex": [
       "0.947346982656289"
      ],
      "text/markdown": [
       "0.947346982656289"
      ],
      "text/plain": [
       "[1] 0.947347"
      ]
     },
     "metadata": {},
     "output_type": "display_data"
    }
   ],
   "source": [
    "ppois(4,2)  # Pr(x <= 4)"
   ]
  },
  {
   "cell_type": "code",
   "execution_count": 39,
   "metadata": {},
   "outputs": [
    {
     "data": {
      "text/html": [
       "0.995466194473751"
      ],
      "text/latex": [
       "0.995466194473751"
      ],
      "text/markdown": [
       "0.995466194473751"
      ],
      "text/plain": [
       "[1] 0.9954662"
      ]
     },
     "metadata": {},
     "output_type": "display_data"
    }
   ],
   "source": [
    "ppois(6,2)  # Pr(x <= 6)"
   ]
  },
  {
   "cell_type": "markdown",
   "metadata": {},
   "source": [
    "## Simulating a Linear Model"
   ]
  },
  {
   "cell_type": "code",
   "execution_count": 40,
   "metadata": {},
   "outputs": [
    {
     "data": {
      "text/plain": [
       "   Min. 1st Qu.  Median    Mean 3rd Qu.    Max. \n",
       "-6.4084 -1.5402  0.6789  0.6893  2.9303  6.5052 "
      ]
     },
     "metadata": {},
     "output_type": "display_data"
    },
    {
     "data": {
      "image/png": "[encoded data removed]",
      "text/plain": [
       "plot without title"
      ]
     },
     "metadata": {},
     "output_type": "display_data"
    }
   ],
   "source": [
    "set.seed(20)\n",
    "x <- rnorm(100)\n",
    "e <- rnorm(100, 0, 2)\n",
    "y <- 0.5 + 2 * x + e\n",
    "summary(y)\n",
    "plot(x,y)"
   ]
  },
  {
   "cell_type": "code",
   "execution_count": 42,
   "metadata": {},
   "outputs": [
    {
     "data": {
      "text/plain": [
       "   Min. 1st Qu.  Median    Mean 3rd Qu.    Max. \n",
       "-3.4361 -0.2675  1.7804  1.5723  2.8810  6.9169 "
      ]
     },
     "metadata": {},
     "output_type": "display_data"
    },
    {
     "data": {
      "image/png": "[encoded data removed]",
      "text/plain": [
       "plot without title"
      ]
     },
     "metadata": {},
     "output_type": "display_data"
    }
   ],
   "source": [
    "set.seed(20)\n",
    "x <- rbinom(100, 1, 0.5)\n",
    "e <- rnorm(100, 0, 2)\n",
    "y <- 0.5 + 2 * x + e\n",
    "summary(y)\n",
    "plot(x,y)"
   ]
  },
  {
   "cell_type": "code",
   "execution_count": 43,
   "metadata": {},
   "outputs": [
    {
     "data": {
      "text/plain": [
       "   Min. 1st Qu.  Median    Mean 3rd Qu.    Max. \n",
       "   0.00    1.00    1.00    1.55    2.00    6.00 "
      ]
     },
     "metadata": {},
     "output_type": "display_data"
    },
    {
     "data": {
      "image/png": "[encoded data removed]",
      "text/plain": [
       "plot without title"
      ]
     },
     "metadata": {},
     "output_type": "display_data"
    }
   ],
   "source": [
    "set.seed(1)\n",
    "x <- rnorm(100)\n",
    "log.mu <- 0.5 + 0.3 * x\n",
    "y <- rpois(100, exp(log.mu))\n",
    "summary(y)\n",
    "plot(x,y)"
   ]
  },
  {
   "cell_type": "markdown",
   "metadata": {},
   "source": [
    "## Random Sampling"
   ]
  },
  {
   "cell_type": "code",
   "execution_count": 45,
   "metadata": {},
   "outputs": [
    {
     "data": {
      "text/html": [
       "<ol class=list-inline>\n",
       "\t<li>9</li>\n",
       "\t<li>4</li>\n",
       "\t<li>7</li>\n",
       "\t<li>1</li>\n",
       "</ol>\n"
      ],
      "text/latex": [
       "\\begin{enumerate*}\n",
       "\\item 9\n",
       "\\item 4\n",
       "\\item 7\n",
       "\\item 1\n",
       "\\end{enumerate*}\n"
      ],
      "text/markdown": [
       "1. 9\n",
       "2. 4\n",
       "3. 7\n",
       "4. 1\n",
       "\n",
       "\n"
      ],
      "text/plain": [
       "[1] 9 4 7 1"
      ]
     },
     "metadata": {},
     "output_type": "display_data"
    }
   ],
   "source": [
    "set.seed(1)\n",
    "sample(1:10, 4)"
   ]
  },
  {
   "cell_type": "code",
   "execution_count": 46,
   "metadata": {},
   "outputs": [
    {
     "data": {
      "text/html": [
       "<ol class=list-inline>\n",
       "\t<li>2</li>\n",
       "\t<li>7</li>\n",
       "\t<li>3</li>\n",
       "\t<li>6</li>\n",
       "</ol>\n"
      ],
      "text/latex": [
       "\\begin{enumerate*}\n",
       "\\item 2\n",
       "\\item 7\n",
       "\\item 3\n",
       "\\item 6\n",
       "\\end{enumerate*}\n"
      ],
      "text/markdown": [
       "1. 2\n",
       "2. 7\n",
       "3. 3\n",
       "4. 6\n",
       "\n",
       "\n"
      ],
      "text/plain": [
       "[1] 2 7 3 6"
      ]
     },
     "metadata": {},
     "output_type": "display_data"
    }
   ],
   "source": [
    "sample(1:10, 4)"
   ]
  },
  {
   "cell_type": "code",
   "execution_count": 47,
   "metadata": {},
   "outputs": [
    {
     "data": {
      "text/html": [
       "<ol class=list-inline>\n",
       "\t<li>'r'</li>\n",
       "\t<li>'s'</li>\n",
       "\t<li>'a'</li>\n",
       "\t<li>'u'</li>\n",
       "\t<li>'w'</li>\n",
       "</ol>\n"
      ],
      "text/latex": [
       "\\begin{enumerate*}\n",
       "\\item 'r'\n",
       "\\item 's'\n",
       "\\item 'a'\n",
       "\\item 'u'\n",
       "\\item 'w'\n",
       "\\end{enumerate*}\n"
      ],
      "text/markdown": [
       "1. 'r'\n",
       "2. 's'\n",
       "3. 'a'\n",
       "4. 'u'\n",
       "5. 'w'\n",
       "\n",
       "\n"
      ],
      "text/plain": [
       "[1] \"r\" \"s\" \"a\" \"u\" \"w\""
      ]
     },
     "metadata": {},
     "output_type": "display_data"
    }
   ],
   "source": [
    "sample(letters, 5)"
   ]
  },
  {
   "cell_type": "code",
   "execution_count": 48,
   "metadata": {},
   "outputs": [
    {
     "data": {
      "text/html": [
       "<ol class=list-inline>\n",
       "\t<li>10</li>\n",
       "\t<li>6</li>\n",
       "\t<li>9</li>\n",
       "\t<li>2</li>\n",
       "\t<li>1</li>\n",
       "\t<li>5</li>\n",
       "\t<li>8</li>\n",
       "\t<li>4</li>\n",
       "\t<li>3</li>\n",
       "\t<li>7</li>\n",
       "</ol>\n"
      ],
      "text/latex": [
       "\\begin{enumerate*}\n",
       "\\item 10\n",
       "\\item 6\n",
       "\\item 9\n",
       "\\item 2\n",
       "\\item 1\n",
       "\\item 5\n",
       "\\item 8\n",
       "\\item 4\n",
       "\\item 3\n",
       "\\item 7\n",
       "\\end{enumerate*}\n"
      ],
      "text/markdown": [
       "1. 10\n",
       "2. 6\n",
       "3. 9\n",
       "4. 2\n",
       "5. 1\n",
       "6. 5\n",
       "7. 8\n",
       "8. 4\n",
       "9. 3\n",
       "10. 7\n",
       "\n",
       "\n"
      ],
      "text/plain": [
       " [1] 10  6  9  2  1  5  8  4  3  7"
      ]
     },
     "metadata": {},
     "output_type": "display_data"
    }
   ],
   "source": [
    "sample(1:10) # permuted"
   ]
  },
  {
   "cell_type": "code",
   "execution_count": 49,
   "metadata": {},
   "outputs": [
    {
     "data": {
      "text/html": [
       "<ol class=list-inline>\n",
       "\t<li>5</li>\n",
       "\t<li>10</li>\n",
       "\t<li>2</li>\n",
       "\t<li>8</li>\n",
       "\t<li>6</li>\n",
       "\t<li>1</li>\n",
       "\t<li>4</li>\n",
       "\t<li>3</li>\n",
       "\t<li>9</li>\n",
       "\t<li>7</li>\n",
       "</ol>\n"
      ],
      "text/latex": [
       "\\begin{enumerate*}\n",
       "\\item 5\n",
       "\\item 10\n",
       "\\item 2\n",
       "\\item 8\n",
       "\\item 6\n",
       "\\item 1\n",
       "\\item 4\n",
       "\\item 3\n",
       "\\item 9\n",
       "\\item 7\n",
       "\\end{enumerate*}\n"
      ],
      "text/markdown": [
       "1. 5\n",
       "2. 10\n",
       "3. 2\n",
       "4. 8\n",
       "5. 6\n",
       "6. 1\n",
       "7. 4\n",
       "8. 3\n",
       "9. 9\n",
       "10. 7\n",
       "\n",
       "\n"
      ],
      "text/plain": [
       " [1]  5 10  2  8  6  1  4  3  9  7"
      ]
     },
     "metadata": {},
     "output_type": "display_data"
    }
   ],
   "source": [
    "sample(1:10) # another permutation, without replacement"
   ]
  },
  {
   "cell_type": "code",
   "execution_count": 50,
   "metadata": {},
   "outputs": [
    {
     "data": {
      "text/html": [
       "<ol class=list-inline>\n",
       "\t<li>3</li>\n",
       "\t<li>6</li>\n",
       "\t<li>10</li>\n",
       "\t<li>10</li>\n",
       "\t<li>6</li>\n",
       "\t<li>4</li>\n",
       "\t<li>4</li>\n",
       "\t<li>10</li>\n",
       "\t<li>9</li>\n",
       "\t<li>7</li>\n",
       "</ol>\n"
      ],
      "text/latex": [
       "\\begin{enumerate*}\n",
       "\\item 3\n",
       "\\item 6\n",
       "\\item 10\n",
       "\\item 10\n",
       "\\item 6\n",
       "\\item 4\n",
       "\\item 4\n",
       "\\item 10\n",
       "\\item 9\n",
       "\\item 7\n",
       "\\end{enumerate*}\n"
      ],
      "text/markdown": [
       "1. 3\n",
       "2. 6\n",
       "3. 10\n",
       "4. 10\n",
       "5. 6\n",
       "6. 4\n",
       "7. 4\n",
       "8. 10\n",
       "9. 9\n",
       "10. 7\n",
       "\n",
       "\n"
      ],
      "text/plain": [
       " [1]  3  6 10 10  6  4  4 10  9  7"
      ]
     },
     "metadata": {},
     "output_type": "display_data"
    }
   ],
   "source": [
    "sample(1:10, replace = TRUE) # permution with replacement"
   ]
  }
 ],
 "metadata": {
  "kernelspec": {
   "display_name": "R",
   "language": "R",
   "name": "ir"
  },
  "language_info": {
   "codemirror_mode": "r",
   "file_extension": ".r",
   "mimetype": "text/x-r-source",
   "name": "R",
   "pygments_lexer": "r",
   "version": "3.6.1"
  }
 },
 "nbformat": 4,
 "nbformat_minor": 4
}
