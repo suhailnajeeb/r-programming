{
 "cells": [
  {
   "cell_type": "markdown",
   "metadata": {},
   "source": [
    "## Reading Tabular Data\n",
    "\n",
    "Fundamental functions:\n",
    "\n",
    "- read.table, read.csv: read text files and return dataframe\n",
    "- readLines: read lines of a text file as character vector\n",
    "- source: read R code\n",
    "- dget: read R objects\n",
    "- load/unserialize: read binary objects"
   ]
  },
  {
   "cell_type": "markdown",
   "metadata": {},
   "source": [
    "## Writing Data\n",
    "\n",
    "Analogous Functions: \n",
    "\n",
    "- write.table\n",
    "- writeLines\n",
    "- dump\n",
    "- save/serialize"
   ]
  },
  {
   "cell_type": "markdown",
   "metadata": {},
   "source": [
    "## Reading data file with **read.table**\n",
    "\n",
    "arguments: \n",
    "\n",
    "- file: name of file\n",
    "- header: is the first line a header?\n",
    "- sep: seperator\n",
    "- colClasses: character vector, class of each column\n",
    "- nrows\n",
    "- comment.char: indicating the comment character\n",
    "- skip: no. of lines to skip from beginning\n",
    "- stringsAsFactors"
   ]
  },
  {
   "cell_type": "markdown",
   "metadata": {},
   "source": [
    "```R\n",
    "data <- read.table(\"foo.txt\")\n",
    "```\n",
    "\n",
    "- automatically skip lines with #\n",
    "- auto memory allocation\n",
    "- figure out variables\n",
    "- read.csv is identical but default seperator is ','"
   ]
  },
  {
   "cell_type": "markdown",
   "metadata": {},
   "source": [
    "## Reading Larger tables:\n",
    "\n",
    "- estimate memory requirement since R puts entire dataset into RAM\n",
    "- comment.char = \"\" if no comments in file\n",
    "- assign colClasses\n",
    "- set nRows"
   ]
  },
  {
   "cell_type": "markdown",
   "metadata": {},
   "source": [
    "## Textual Formats"
   ]
  },
  {
   "cell_type": "markdown",
   "metadata": {},
   "source": [
    "dumping: \n",
    "\n",
    "- dump\n",
    "- dput\n",
    "\n",
    "(advantage: includes metadata)\n",
    "\n",
    "*not space efficient*"
   ]
  },
  {
   "cell_type": "markdown",
   "metadata": {},
   "source": [
    "## dput-ting R Objects:"
   ]
  },
  {
   "cell_type": "code",
   "execution_count": 2,
   "metadata": {},
   "outputs": [],
   "source": [
    "y <- data.frame(a = 1, b = \"a\")\n",
    "dput(y, file = \"y.R\")"
   ]
  },
  {
   "cell_type": "code",
   "execution_count": 3,
   "metadata": {},
   "outputs": [
    {
     "data": {
      "text/html": [
       "<table>\n",
       "<thead><tr><th scope=col>a</th><th scope=col>b</th></tr></thead>\n",
       "<tbody>\n",
       "\t<tr><td>1</td><td>a</td></tr>\n",
       "</tbody>\n",
       "</table>\n"
      ],
      "text/latex": [
       "\\begin{tabular}{r|ll}\n",
       " a & b\\\\\n",
       "\\hline\n",
       "\t 1 & a\\\\\n",
       "\\end{tabular}\n"
      ],
      "text/markdown": [
       "\n",
       "| a | b |\n",
       "|---|---|\n",
       "| 1 | a |\n",
       "\n"
      ],
      "text/plain": [
       "  a b\n",
       "1 1 a"
      ]
     },
     "metadata": {},
     "output_type": "display_data"
    }
   ],
   "source": [
    "new.y <- dget(\"y.R\")\n",
    "new.y"
   ]
  },
  {
   "cell_type": "markdown",
   "metadata": {},
   "source": [
    "## Dumping R Objects: \n",
    "\n",
    "Difference with *dput* - Dumping can be done with multiple R objects."
   ]
  },
  {
   "cell_type": "code",
   "execution_count": 4,
   "metadata": {},
   "outputs": [],
   "source": [
    "x <- \"foo\"\n",
    "y <- data.frame(a = 1, b = \"a\")\n",
    "dump(c(\"x\", \"y\"), file = \"data.R\")\n",
    "rm(x,y)\n",
    "source(\"data.R\")"
   ]
  },
  {
   "cell_type": "code",
   "execution_count": 5,
   "metadata": {},
   "outputs": [
    {
     "data": {
      "text/html": [
       "<table>\n",
       "<thead><tr><th scope=col>a</th><th scope=col>b</th></tr></thead>\n",
       "<tbody>\n",
       "\t<tr><td>1</td><td>a</td></tr>\n",
       "</tbody>\n",
       "</table>\n"
      ],
      "text/latex": [
       "\\begin{tabular}{r|ll}\n",
       " a & b\\\\\n",
       "\\hline\n",
       "\t 1 & a\\\\\n",
       "\\end{tabular}\n"
      ],
      "text/markdown": [
       "\n",
       "| a | b |\n",
       "|---|---|\n",
       "| 1 | a |\n",
       "\n"
      ],
      "text/plain": [
       "  a b\n",
       "1 1 a"
      ]
     },
     "metadata": {},
     "output_type": "display_data"
    }
   ],
   "source": [
    "y"
   ]
  },
  {
   "cell_type": "code",
   "execution_count": 6,
   "metadata": {},
   "outputs": [
    {
     "data": {
      "text/html": [
       "'foo'"
      ],
      "text/latex": [
       "'foo'"
      ],
      "text/markdown": [
       "'foo'"
      ],
      "text/plain": [
       "[1] \"foo\""
      ]
     },
     "metadata": {},
     "output_type": "display_data"
    }
   ],
   "source": [
    "x"
   ]
  },
  {
   "cell_type": "markdown",
   "metadata": {},
   "source": [
    "## Interfaces to the Outside world:\n",
    "\n",
    "- file\n",
    "- gzfile (gzip)\n",
    "- bzfile (bzip2)\n",
    "- url"
   ]
  },
  {
   "cell_type": "markdown",
   "metadata": {},
   "source": [
    "## File Connections:"
   ]
  },
  {
   "cell_type": "code",
   "execution_count": 7,
   "metadata": {},
   "outputs": [
    {
     "name": "stdout",
     "output_type": "stream",
     "text": [
      "function (description = \"\", open = \"\", blocking = TRUE, encoding = getOption(\"encoding\"), \n",
      "    raw = FALSE, method = getOption(\"url.method\", \"default\"))  \n"
     ]
    }
   ],
   "source": [
    "str(file)"
   ]
  },
  {
   "cell_type": "markdown",
   "metadata": {},
   "source": [
    "- description (filename)\n",
    "- open:\n",
    "    - r (read)\n",
    "    - w (write)\n",
    "    - a (append)\n",
    "    - rb, wb, ab (binary mode)"
   ]
  },
  {
   "cell_type": "markdown",
   "metadata": {},
   "source": [
    "## Connections:"
   ]
  },
  {
   "cell_type": "code",
   "execution_count": null,
   "metadata": {},
   "outputs": [],
   "source": [
    "con <- file(\"foo.txt\", \"r\")\n",
    "data <- read.csv(con)\n",
    "close(con)"
   ]
  },
  {
   "cell_type": "code",
   "execution_count": null,
   "metadata": {},
   "outputs": [],
   "source": [
    "# same as: \n",
    "\n",
    "data <- read.csv(\"foo.txt\")"
   ]
  },
  {
   "cell_type": "markdown",
   "metadata": {},
   "source": [
    "Useful when reading parts of a file:"
   ]
  },
  {
   "cell_type": "code",
   "execution_count": null,
   "metadata": {},
   "outputs": [],
   "source": [
    "con <- gzfile(\"words.gz\")\n",
    "x <- readLines(con, 10)\n",
    "x"
   ]
  },
  {
   "cell_type": "markdown",
   "metadata": {},
   "source": [
    "writeLines: similar"
   ]
  },
  {
   "cell_type": "markdown",
   "metadata": {},
   "source": [
    "## Useful for reading lines from webpage:"
   ]
  },
  {
   "cell_type": "code",
   "execution_count": 8,
   "metadata": {},
   "outputs": [
    {
     "data": {
      "text/html": [
       "<ol class=list-inline>\n",
       "\t<li>'&lt;!DOCTYPE html&gt;'</li>\n",
       "\t<li>'&lt;html lang=\"en\"&gt;'</li>\n",
       "\t<li>''</li>\n",
       "\t<li>'&lt;head&gt;'</li>\n",
       "\t<li>'&lt;meta charset=\"utf-8\" /&gt;'</li>\n",
       "\t<li>'&lt;title&gt;Johns Hopkins Bloomberg School of Public Health&lt;/title&gt;'</li>\n",
       "</ol>\n"
      ],
      "text/latex": [
       "\\begin{enumerate*}\n",
       "\\item '<!DOCTYPE html>'\n",
       "\\item '<html lang=\"en\">'\n",
       "\\item ''\n",
       "\\item '<head>'\n",
       "\\item '<meta charset=\"utf-8\" />'\n",
       "\\item '<title>Johns Hopkins Bloomberg School of Public Health</title>'\n",
       "\\end{enumerate*}\n"
      ],
      "text/markdown": [
       "1. '&lt;!DOCTYPE html&gt;'\n",
       "2. '&lt;html lang=\"en\"&gt;'\n",
       "3. ''\n",
       "4. '&lt;head&gt;'\n",
       "5. '&lt;meta charset=\"utf-8\" /&gt;'\n",
       "6. '&lt;title&gt;Johns Hopkins Bloomberg School of Public Health&lt;/title&gt;'\n",
       "\n",
       "\n"
      ],
      "text/plain": [
       "[1] \"<!DOCTYPE html>\"                                               \n",
       "[2] \"<html lang=\\\"en\\\">\"                                            \n",
       "[3] \"\"                                                              \n",
       "[4] \"<head>\"                                                        \n",
       "[5] \"<meta charset=\\\"utf-8\\\" />\"                                    \n",
       "[6] \"<title>Johns Hopkins Bloomberg School of Public Health</title>\""
      ]
     },
     "metadata": {},
     "output_type": "display_data"
    }
   ],
   "source": [
    "con <- url(\"http://www.jhsph.edu\", \"r\")\n",
    "x <- readLines(con)\n",
    "head(x)"
   ]
  }
 ],
 "metadata": {
  "kernelspec": {
   "display_name": "R",
   "language": "R",
   "name": "ir"
  },
  "language_info": {
   "codemirror_mode": "r",
   "file_extension": ".r",
   "mimetype": "text/x-r-source",
   "name": "R",
   "pygments_lexer": "r",
   "version": "3.6.1"
  }
 },
 "nbformat": 4,
 "nbformat_minor": 4
}
